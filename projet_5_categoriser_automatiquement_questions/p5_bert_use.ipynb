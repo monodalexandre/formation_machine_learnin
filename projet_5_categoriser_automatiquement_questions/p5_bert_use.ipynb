{
  "cells": [
    {
      "cell_type": "code",
      "execution_count": null,
      "metadata": {
        "colab": {
          "base_uri": "https://localhost:8080/"
        },
        "id": "TsLtkoVlI53k",
        "outputId": "0f979664-edb7-4471-80d6-3c5b8ba42e1d"
      },
      "outputs": [
        {
          "output_type": "stream",
          "name": "stdout",
          "text": [
            "Looking in indexes: https://pypi.org/simple, https://us-python.pkg.dev/colab-wheels/public/simple/\n",
            "Requirement already satisfied: transformers in /usr/local/lib/python3.8/dist-packages (4.25.1)\n",
            "Requirement already satisfied: huggingface-hub<1.0,>=0.10.0 in /usr/local/lib/python3.8/dist-packages (from transformers) (0.11.1)\n",
            "Requirement already satisfied: tqdm>=4.27 in /usr/local/lib/python3.8/dist-packages (from transformers) (4.64.1)\n",
            "Requirement already satisfied: packaging>=20.0 in /usr/local/lib/python3.8/dist-packages (from transformers) (21.3)\n",
            "Requirement already satisfied: requests in /usr/local/lib/python3.8/dist-packages (from transformers) (2.23.0)\n",
            "Requirement already satisfied: numpy>=1.17 in /usr/local/lib/python3.8/dist-packages (from transformers) (1.21.6)\n",
            "Requirement already satisfied: pyyaml>=5.1 in /usr/local/lib/python3.8/dist-packages (from transformers) (6.0)\n",
            "Requirement already satisfied: tokenizers!=0.11.3,<0.14,>=0.11.1 in /usr/local/lib/python3.8/dist-packages (from transformers) (0.13.2)\n",
            "Requirement already satisfied: regex!=2019.12.17 in /usr/local/lib/python3.8/dist-packages (from transformers) (2022.6.2)\n",
            "Requirement already satisfied: filelock in /usr/local/lib/python3.8/dist-packages (from transformers) (3.8.2)\n",
            "Requirement already satisfied: typing-extensions>=3.7.4.3 in /usr/local/lib/python3.8/dist-packages (from huggingface-hub<1.0,>=0.10.0->transformers) (4.4.0)\n",
            "Requirement already satisfied: pyparsing!=3.0.5,>=2.0.2 in /usr/local/lib/python3.8/dist-packages (from packaging>=20.0->transformers) (3.0.9)\n",
            "Requirement already satisfied: certifi>=2017.4.17 in /usr/local/lib/python3.8/dist-packages (from requests->transformers) (2022.12.7)\n",
            "Requirement already satisfied: idna<3,>=2.5 in /usr/local/lib/python3.8/dist-packages (from requests->transformers) (2.10)\n",
            "Requirement already satisfied: urllib3!=1.25.0,!=1.25.1,<1.26,>=1.21.1 in /usr/local/lib/python3.8/dist-packages (from requests->transformers) (1.24.3)\n",
            "Requirement already satisfied: chardet<4,>=3.0.2 in /usr/local/lib/python3.8/dist-packages (from requests->transformers) (3.0.4)\n"
          ]
        }
      ],
      "source": [
        "pip install transformers"
      ]
    },
    {
      "cell_type": "code",
      "execution_count": null,
      "metadata": {
        "colab": {
          "base_uri": "https://localhost:8080/"
        },
        "id": "AUI2znqKI8uE",
        "outputId": "09163a05-9b96-4fa0-f030-e1aac79a52bd"
      },
      "outputs": [
        {
          "output_type": "stream",
          "name": "stdout",
          "text": [
            "Looking in indexes: https://pypi.org/simple, https://us-python.pkg.dev/colab-wheels/public/simple/\n",
            "Requirement already satisfied: pyLDAvis in /usr/local/lib/python3.8/dist-packages (3.3.1)\n",
            "Requirement already satisfied: joblib in /usr/local/lib/python3.8/dist-packages (from pyLDAvis) (1.2.0)\n",
            "Requirement already satisfied: numexpr in /usr/local/lib/python3.8/dist-packages (from pyLDAvis) (2.8.4)\n",
            "Requirement already satisfied: gensim in /usr/local/lib/python3.8/dist-packages (from pyLDAvis) (3.6.0)\n",
            "Requirement already satisfied: scikit-learn in /usr/local/lib/python3.8/dist-packages (from pyLDAvis) (1.0.2)\n",
            "Requirement already satisfied: future in /usr/local/lib/python3.8/dist-packages (from pyLDAvis) (0.16.0)\n",
            "Requirement already satisfied: scipy in /usr/local/lib/python3.8/dist-packages (from pyLDAvis) (1.7.3)\n",
            "Requirement already satisfied: sklearn in /usr/local/lib/python3.8/dist-packages (from pyLDAvis) (0.0.post1)\n",
            "Requirement already satisfied: funcy in /usr/local/lib/python3.8/dist-packages (from pyLDAvis) (1.17)\n",
            "Requirement already satisfied: numpy>=1.20.0 in /usr/local/lib/python3.8/dist-packages (from pyLDAvis) (1.21.6)\n",
            "Requirement already satisfied: jinja2 in /usr/local/lib/python3.8/dist-packages (from pyLDAvis) (2.11.3)\n",
            "Requirement already satisfied: setuptools in /usr/local/lib/python3.8/dist-packages (from pyLDAvis) (57.4.0)\n",
            "Requirement already satisfied: pandas>=1.2.0 in /usr/local/lib/python3.8/dist-packages (from pyLDAvis) (1.3.5)\n",
            "Requirement already satisfied: pytz>=2017.3 in /usr/local/lib/python3.8/dist-packages (from pandas>=1.2.0->pyLDAvis) (2022.6)\n",
            "Requirement already satisfied: python-dateutil>=2.7.3 in /usr/local/lib/python3.8/dist-packages (from pandas>=1.2.0->pyLDAvis) (2.8.2)\n",
            "Requirement already satisfied: six>=1.5 in /usr/local/lib/python3.8/dist-packages (from python-dateutil>=2.7.3->pandas>=1.2.0->pyLDAvis) (1.15.0)\n",
            "Requirement already satisfied: smart-open>=1.2.1 in /usr/local/lib/python3.8/dist-packages (from gensim->pyLDAvis) (6.3.0)\n",
            "Requirement already satisfied: MarkupSafe>=0.23 in /usr/local/lib/python3.8/dist-packages (from jinja2->pyLDAvis) (2.0.1)\n",
            "Requirement already satisfied: threadpoolctl>=2.0.0 in /usr/local/lib/python3.8/dist-packages (from scikit-learn->pyLDAvis) (3.1.0)\n"
          ]
        }
      ],
      "source": [
        "pip install pyLDAvis"
      ]
    },
    {
      "cell_type": "code",
      "execution_count": null,
      "metadata": {
        "id": "sSYO75tGZfkv"
      },
      "outputs": [],
      "source": [
        "# ATTENTION\n",
        "# Utiliser un kernel sur lequel tensorflow est installé"
      ]
    },
    {
      "cell_type": "markdown",
      "metadata": {
        "id": "Si7qi13iZfkw"
      },
      "source": [
        "# SUMMARY\n",
        "\n",
        "## [Import libraries and files](#ch0)\n",
        "\n",
        "# [1 - Remove tags](#ch1)\n",
        "\n",
        "# [2 - Tokenize ](#ch2)\n",
        "\n",
        "# [3 - Lemmatize ](#ch3)\n",
        "\n",
        "# [4 - Whole function ](#ch4)\n",
        "\n",
        "# [5 - Tags ](#ch5)\n",
        "\n",
        "# [6 - Features Extract ](#ch6)\n",
        "\n",
        "# [7 - RNN Models ](#ch7)\n",
        "\n",
        "# [8 - LDA ](#ch8)\n",
        "\n",
        "\n",
        "\n",
        "## [Export](#ch99)"
      ]
    },
    {
      "cell_type": "markdown",
      "metadata": {
        "id": "qCayR6UvZfky"
      },
      "source": [
        "<a id=\"ch0\"></a>\n",
        "## Import libraries and files"
      ]
    },
    {
      "cell_type": "code",
      "execution_count": null,
      "metadata": {
        "colab": {
          "base_uri": "https://localhost:8080/"
        },
        "id": "C3DdkyQ3_grw",
        "outputId": "773bbe37-d0ea-4861-d90c-7a9698d19984"
      },
      "outputs": [
        {
          "output_type": "stream",
          "name": "stdout",
          "text": [
            "Drive already mounted at /content/gdrive; to attempt to forcibly remount, call drive.mount(\"/content/gdrive\", force_remount=True).\n"
          ]
        }
      ],
      "source": [
        "from google.colab import drive \n",
        "drive.mount('/content/gdrive')"
      ]
    },
    {
      "cell_type": "code",
      "execution_count": null,
      "metadata": {
        "id": "pQIyils5Zfky"
      },
      "outputs": [],
      "source": [
        "import numpy as np\n",
        "import pandas as pd\n",
        "from bs4 import BeautifulSoup\n",
        "import matplotlib.pyplot as plt\n",
        "import seaborn as sns\n",
        "import time\n",
        "\n",
        "# Tokenize\n",
        "import nltk\n",
        "from collections import Counter\n",
        "from nltk.stem import WordNetLemmatizer\n",
        "from nltk.corpus import wordnet\n",
        "import re\n",
        "import spacy\n",
        "\n",
        "# Features Extract\n",
        "from sklearn.feature_extraction.text import CountVectorizer, TfidfVectorizer\n",
        "from sklearn import cluster, metrics\n",
        "from sklearn import manifold, decomposition\n",
        "from wordcloud import WordCloud\n",
        "\n",
        "# RNN models\n",
        "\n",
        "import tensorflow as tf\n",
        "import tensorflow.keras\n",
        "from tensorflow.keras import backend as K\n",
        "\n",
        "from tensorflow.keras.preprocessing.text import Tokenizer\n",
        "from tensorflow.keras.preprocessing.sequence import pad_sequences\n",
        "from tensorflow.keras import metrics as kmetrics\n",
        "from tensorflow.keras.layers import *\n",
        "from tensorflow.keras.models import Model\n",
        "import tensorflow_hub as hub\n",
        "\n",
        "import os\n",
        "import transformers\n",
        "from transformers import AutoTokenizer\n",
        "from transformers import TFAutoModel\n",
        "\n",
        "import gensim\n",
        "\n",
        "#LDA\n",
        "\n",
        "import gensim.corpora as corpora\n",
        "import pyLDAvis\n",
        "import pyLDAvis.gensim_models\n",
        "from gensim.models import CoherenceModel\n",
        "\n",
        "# Test models\n",
        "from sklearn.linear_model import SGDClassifier, LogisticRegression"
      ]
    },
    {
      "cell_type": "code",
      "execution_count": null,
      "metadata": {
        "id": "nMQveB0QBpbY"
      },
      "outputs": [],
      "source": [
        "query_results = pd.read_csv(\"/content/gdrive/MyDrive/Colab Notebooks/query_results.csv\")"
      ]
    },
    {
      "cell_type": "code",
      "execution_count": null,
      "metadata": {
        "colab": {
          "base_uri": "https://localhost:8080/"
        },
        "id": "rdGqPnFGzq0Y",
        "outputId": "00281a61-5a77-4a6d-f0b4-18e472b2dceb"
      },
      "outputs": [
        {
          "output_type": "stream",
          "name": "stdout",
          "text": [
            "Drive already mounted at /content/gdrive; to attempt to forcibly remount, call drive.mount(\"/content/gdrive\", force_remount=True).\n"
          ]
        }
      ],
      "source": [
        "from google.colab import drive \n",
        "drive.mount('/content/gdrive')"
      ]
    },
    {
      "cell_type": "code",
      "execution_count": null,
      "metadata": {
        "id": "rmiCcio5Zfkz"
      },
      "outputs": [],
      "source": [
        "#from google.colab import drive \n",
        "#drive.mount('/content/gdrive')\n",
        "\n",
        "#query_results = pd.read_csv(\"/content/gdrive/MyDrive/Colab Notebooks/query_results.csv\")"
      ]
    },
    {
      "cell_type": "markdown",
      "metadata": {
        "id": "cO0hYEe8Zfk0"
      },
      "source": [
        "<a id=\"ch1\"></a>\n",
        "## I - Remove tags"
      ]
    },
    {
      "cell_type": "code",
      "execution_count": null,
      "metadata": {
        "colab": {
          "base_uri": "https://localhost:8080/",
          "height": 240
        },
        "id": "0hA8ukoJZfk0",
        "outputId": "e7dbe9a2-70ba-4df5-e671-6f524fc8410f"
      },
      "outputs": [
        {
          "output_type": "execute_result",
          "data": {
            "text/plain": [
              "                                               Title  \\\n",
              "0  C# Generics won't allow Delegate Type Constraints   \n",
              "1           How do you get a directory listing in C?   \n",
              "2                   Returning DataTables in WCF/.NET   \n",
              "\n",
              "                                                Body  \\\n",
              "0  <p>Is it possible to define a class in C# such...   \n",
              "1  <p>How do you scan a directory for folders and...   \n",
              "2  <p>I have a WCF service from which I want to r...   \n",
              "\n",
              "                                                Tags      Id  Score  \\\n",
              "0     <c#><generics><events><delegates><constraints>  191940     81   \n",
              "1  <c><file><directory><cross-platform><common-ta...   12489     69   \n",
              "2           <c#><.net><wcf><web-services><datatable>   12702     51   \n",
              "\n",
              "   ViewCount  FavoriteCount  AnswerCount  \n",
              "0      29837             12            8  \n",
              "1     139075             22            9  \n",
              "2      56460             12            8  "
            ],
            "text/html": [
              "\n",
              "  <div id=\"df-18e2e5d9-f853-4c44-9252-1b1f85fbd13d\">\n",
              "    <div class=\"colab-df-container\">\n",
              "      <div>\n",
              "<style scoped>\n",
              "    .dataframe tbody tr th:only-of-type {\n",
              "        vertical-align: middle;\n",
              "    }\n",
              "\n",
              "    .dataframe tbody tr th {\n",
              "        vertical-align: top;\n",
              "    }\n",
              "\n",
              "    .dataframe thead th {\n",
              "        text-align: right;\n",
              "    }\n",
              "</style>\n",
              "<table border=\"1\" class=\"dataframe\">\n",
              "  <thead>\n",
              "    <tr style=\"text-align: right;\">\n",
              "      <th></th>\n",
              "      <th>Title</th>\n",
              "      <th>Body</th>\n",
              "      <th>Tags</th>\n",
              "      <th>Id</th>\n",
              "      <th>Score</th>\n",
              "      <th>ViewCount</th>\n",
              "      <th>FavoriteCount</th>\n",
              "      <th>AnswerCount</th>\n",
              "    </tr>\n",
              "  </thead>\n",
              "  <tbody>\n",
              "    <tr>\n",
              "      <th>0</th>\n",
              "      <td>C# Generics won't allow Delegate Type Constraints</td>\n",
              "      <td>&lt;p&gt;Is it possible to define a class in C# such...</td>\n",
              "      <td>&lt;c#&gt;&lt;generics&gt;&lt;events&gt;&lt;delegates&gt;&lt;constraints&gt;</td>\n",
              "      <td>191940</td>\n",
              "      <td>81</td>\n",
              "      <td>29837</td>\n",
              "      <td>12</td>\n",
              "      <td>8</td>\n",
              "    </tr>\n",
              "    <tr>\n",
              "      <th>1</th>\n",
              "      <td>How do you get a directory listing in C?</td>\n",
              "      <td>&lt;p&gt;How do you scan a directory for folders and...</td>\n",
              "      <td>&lt;c&gt;&lt;file&gt;&lt;directory&gt;&lt;cross-platform&gt;&lt;common-ta...</td>\n",
              "      <td>12489</td>\n",
              "      <td>69</td>\n",
              "      <td>139075</td>\n",
              "      <td>22</td>\n",
              "      <td>9</td>\n",
              "    </tr>\n",
              "    <tr>\n",
              "      <th>2</th>\n",
              "      <td>Returning DataTables in WCF/.NET</td>\n",
              "      <td>&lt;p&gt;I have a WCF service from which I want to r...</td>\n",
              "      <td>&lt;c#&gt;&lt;.net&gt;&lt;wcf&gt;&lt;web-services&gt;&lt;datatable&gt;</td>\n",
              "      <td>12702</td>\n",
              "      <td>51</td>\n",
              "      <td>56460</td>\n",
              "      <td>12</td>\n",
              "      <td>8</td>\n",
              "    </tr>\n",
              "  </tbody>\n",
              "</table>\n",
              "</div>\n",
              "      <button class=\"colab-df-convert\" onclick=\"convertToInteractive('df-18e2e5d9-f853-4c44-9252-1b1f85fbd13d')\"\n",
              "              title=\"Convert this dataframe to an interactive table.\"\n",
              "              style=\"display:none;\">\n",
              "        \n",
              "  <svg xmlns=\"http://www.w3.org/2000/svg\" height=\"24px\"viewBox=\"0 0 24 24\"\n",
              "       width=\"24px\">\n",
              "    <path d=\"M0 0h24v24H0V0z\" fill=\"none\"/>\n",
              "    <path d=\"M18.56 5.44l.94 2.06.94-2.06 2.06-.94-2.06-.94-.94-2.06-.94 2.06-2.06.94zm-11 1L8.5 8.5l.94-2.06 2.06-.94-2.06-.94L8.5 2.5l-.94 2.06-2.06.94zm10 10l.94 2.06.94-2.06 2.06-.94-2.06-.94-.94-2.06-.94 2.06-2.06.94z\"/><path d=\"M17.41 7.96l-1.37-1.37c-.4-.4-.92-.59-1.43-.59-.52 0-1.04.2-1.43.59L10.3 9.45l-7.72 7.72c-.78.78-.78 2.05 0 2.83L4 21.41c.39.39.9.59 1.41.59.51 0 1.02-.2 1.41-.59l7.78-7.78 2.81-2.81c.8-.78.8-2.07 0-2.86zM5.41 20L4 18.59l7.72-7.72 1.47 1.35L5.41 20z\"/>\n",
              "  </svg>\n",
              "      </button>\n",
              "      \n",
              "  <style>\n",
              "    .colab-df-container {\n",
              "      display:flex;\n",
              "      flex-wrap:wrap;\n",
              "      gap: 12px;\n",
              "    }\n",
              "\n",
              "    .colab-df-convert {\n",
              "      background-color: #E8F0FE;\n",
              "      border: none;\n",
              "      border-radius: 50%;\n",
              "      cursor: pointer;\n",
              "      display: none;\n",
              "      fill: #1967D2;\n",
              "      height: 32px;\n",
              "      padding: 0 0 0 0;\n",
              "      width: 32px;\n",
              "    }\n",
              "\n",
              "    .colab-df-convert:hover {\n",
              "      background-color: #E2EBFA;\n",
              "      box-shadow: 0px 1px 2px rgba(60, 64, 67, 0.3), 0px 1px 3px 1px rgba(60, 64, 67, 0.15);\n",
              "      fill: #174EA6;\n",
              "    }\n",
              "\n",
              "    [theme=dark] .colab-df-convert {\n",
              "      background-color: #3B4455;\n",
              "      fill: #D2E3FC;\n",
              "    }\n",
              "\n",
              "    [theme=dark] .colab-df-convert:hover {\n",
              "      background-color: #434B5C;\n",
              "      box-shadow: 0px 1px 3px 1px rgba(0, 0, 0, 0.15);\n",
              "      filter: drop-shadow(0px 1px 2px rgba(0, 0, 0, 0.3));\n",
              "      fill: #FFFFFF;\n",
              "    }\n",
              "  </style>\n",
              "\n",
              "      <script>\n",
              "        const buttonEl =\n",
              "          document.querySelector('#df-18e2e5d9-f853-4c44-9252-1b1f85fbd13d button.colab-df-convert');\n",
              "        buttonEl.style.display =\n",
              "          google.colab.kernel.accessAllowed ? 'block' : 'none';\n",
              "\n",
              "        async function convertToInteractive(key) {\n",
              "          const element = document.querySelector('#df-18e2e5d9-f853-4c44-9252-1b1f85fbd13d');\n",
              "          const dataTable =\n",
              "            await google.colab.kernel.invokeFunction('convertToInteractive',\n",
              "                                                     [key], {});\n",
              "          if (!dataTable) return;\n",
              "\n",
              "          const docLinkHtml = 'Like what you see? Visit the ' +\n",
              "            '<a target=\"_blank\" href=https://colab.research.google.com/notebooks/data_table.ipynb>data table notebook</a>'\n",
              "            + ' to learn more about interactive tables.';\n",
              "          element.innerHTML = '';\n",
              "          dataTable['output_type'] = 'display_data';\n",
              "          await google.colab.output.renderOutput(dataTable, element);\n",
              "          const docLink = document.createElement('div');\n",
              "          docLink.innerHTML = docLinkHtml;\n",
              "          element.appendChild(docLink);\n",
              "        }\n",
              "      </script>\n",
              "    </div>\n",
              "  </div>\n",
              "  "
            ]
          },
          "metadata": {},
          "execution_count": 59
        }
      ],
      "source": [
        "query_results.head(3)"
      ]
    },
    {
      "cell_type": "code",
      "execution_count": null,
      "metadata": {
        "colab": {
          "base_uri": "https://localhost:8080/"
        },
        "id": "EFLUPdpiZfk0",
        "outputId": "ac7122b3-d53c-467b-aa92-02b195eb5627"
      },
      "outputs": [
        {
          "output_type": "stream",
          "name": "stdout",
          "text": [
            "<p>Is it possible to define a class in C# such that</p>\n",
            "\n",
            "<pre><code>class GenericCollection&lt;T&gt; : SomeBaseCollection&lt;T&gt; where T : Delegate\n",
            "</code></pre>\n",
            "\n",
            "<p>I couldn't for the life of me accomplish this last night in .NET 3.5. I tried using</p>\n",
            "\n",
            "<p><code>delegate, Delegate, Action&lt;T&gt; and Func&lt;T, T&gt;</code></p>\n",
            "\n",
            "<p>It seems to me that this should be allowable in some way. I'm trying to implement my own EventQueue.</p>\n",
            "\n",
            "<p>I ended up just doing this [primitive approximation mind you].</p>\n",
            "\n",
            "<pre><code>internal delegate void DWork();\n",
            "\n",
            "class EventQueue {\n",
            "    private Queue&lt;DWork&gt; eventq;\n",
            "}\n",
            "</code></pre>\n",
            "\n",
            "<p>But then I lose the ability to reuse the same definition for different types of functions.</p>\n",
            "\n",
            "<p>Thoughts?</p>\n",
            "\n"
          ]
        }
      ],
      "source": [
        "# Show before suppr\n",
        "print(query_results.Body[0])"
      ]
    },
    {
      "cell_type": "code",
      "execution_count": null,
      "metadata": {
        "id": "QxwUDu1HZfk1"
      },
      "outputs": [],
      "source": [
        "def suppr_balises_html(text):\n",
        " \n",
        "    soup = BeautifulSoup(text, \"html.parser\")\n",
        "#    for data in soup(['style', 'script']):\n",
        " #         data.decompose()\n",
        "            \n",
        "    text_out = ' '.join(soup.stripped_strings)\n",
        "    # Remove \\n\n",
        "    text_out = text_out.replace(\"\\n\", \" \")        \n",
        "    return text_out"
      ]
    },
    {
      "cell_type": "code",
      "execution_count": null,
      "metadata": {
        "id": "fqogB_exZfk1"
      },
      "outputs": [],
      "source": [
        "# Apply function\n",
        "test = suppr_balises_html(query_results.Body[0])"
      ]
    },
    {
      "cell_type": "code",
      "execution_count": null,
      "metadata": {
        "colab": {
          "base_uri": "https://localhost:8080/",
          "height": 107
        },
        "id": "32Z0-61vZfk1",
        "outputId": "027beaae-27c0-47ad-a983-5090ed135da2"
      },
      "outputs": [
        {
          "output_type": "execute_result",
          "data": {
            "text/plain": [
              "\"Is it possible to define a class in C# such that class GenericCollection<T> : SomeBaseCollection<T> where T : Delegate I couldn't for the life of me accomplish this last night in .NET 3.5. I tried using delegate, Delegate, Action<T> and Func<T, T> It seems to me that this should be allowable in some way. I'm trying to implement my own EventQueue. I ended up just doing this [primitive approximation mind you]. internal delegate void DWork();  class EventQueue {     private Queue<DWork> eventq; } But then I lose the ability to reuse the same definition for different types of functions. Thoughts?\""
            ],
            "application/vnd.google.colaboratory.intrinsic+json": {
              "type": "string"
            }
          },
          "metadata": {},
          "execution_count": 63
        }
      ],
      "source": [
        "# Show after suppr\n",
        "test"
      ]
    },
    {
      "cell_type": "code",
      "execution_count": null,
      "metadata": {
        "colab": {
          "base_uri": "https://localhost:8080/"
        },
        "id": "h_WenjiuZfk1",
        "outputId": "758d0776-b4e2-4504-b390-f2fd872f8a7a"
      },
      "outputs": [
        {
          "output_type": "execute_result",
          "data": {
            "text/plain": [
              "<html><body><p>Is it possible to define a class in C# such that class GenericCollection<t> : SomeBaseCollection<t> where T : Delegate I couldn't for the life of me accomplish this last night in .NET 3.5. I tried using delegate, Delegate, Action<t> and Func<t t=\"\"> It seems to me that this should be allowable in some way. I'm trying to implement my own EventQueue. I ended up just doing this [primitive approximation mind you]. internal delegate void DWork();  class EventQueue {     private Queue<dwork> eventq; } But then I lose the ability to reuse the same definition for different types of functions. Thoughts?</dwork></t></t></t></t></p></body></html>"
            ]
          },
          "metadata": {},
          "execution_count": 64
        }
      ],
      "source": [
        "soup = BeautifulSoup(test)\n",
        "soup"
      ]
    },
    {
      "cell_type": "code",
      "execution_count": null,
      "metadata": {
        "colab": {
          "base_uri": "https://localhost:8080/",
          "height": 35
        },
        "id": "z6oEQyISZfk1",
        "outputId": "bbd37af9-568d-4ea5-8d5c-6efe00ccc644"
      },
      "outputs": [
        {
          "output_type": "execute_result",
          "data": {
            "text/plain": [
              "'# Remove \\n\\nsoup.get_text().replace(\"\\n\", \" \")'"
            ],
            "application/vnd.google.colaboratory.intrinsic+json": {
              "type": "string"
            }
          },
          "metadata": {},
          "execution_count": 65
        }
      ],
      "source": [
        "# SUPPR QUAND SOUTENANCE\n",
        "'''# Remove \\n\n",
        "soup.get_text().replace(\"\\n\", \" \")'''"
      ]
    },
    {
      "cell_type": "markdown",
      "metadata": {
        "id": "wOaO1fC4Zfk1"
      },
      "source": [
        "<a id=\"ch2\"></a>\n",
        "## II - Tokenize"
      ]
    },
    {
      "cell_type": "code",
      "execution_count": null,
      "metadata": {
        "colab": {
          "base_uri": "https://localhost:8080/",
          "height": 125
        },
        "id": "Aaf1pm85Zfk1",
        "outputId": "2b61fe90-84db-488a-8721-7c50e0910e3b"
      },
      "outputs": [
        {
          "output_type": "execute_result",
          "data": {
            "text/plain": [
              "'<html><body><p>is it possible to define a class in c# such that class genericcollection<t> : somebasecollection<t> where t : delegate i couldn\\'t for the life of me accomplish this last night in .net 3.5. i tried using delegate, delegate, action<t> and func<t t=\"\"> it seems to me that this should be allowable in some way. i\\'m trying to implement my own eventqueue. i ended up just doing this [primitive approximation mind you]. internal delegate void dwork();  class eventqueue {     private queue<dwork> eventq; } but then i lose the ability to reuse the same definition for different types of functions. thoughts?</dwork></t></t></t></t></p></body></html>'"
            ],
            "application/vnd.google.colaboratory.intrinsic+json": {
              "type": "string"
            }
          },
          "metadata": {},
          "execution_count": 66
        }
      ],
      "source": [
        "# Words lowered to be all the same - and avoid case issues\n",
        "test = str(soup).lower()\n",
        "test"
      ]
    },
    {
      "cell_type": "code",
      "execution_count": null,
      "metadata": {
        "id": "TJYt-SL4Zfk2"
      },
      "outputs": [],
      "source": [
        "# Tokenize without ponctuation\n",
        "tokenizer = nltk.RegexpTokenizer(r'\\w+')\n",
        "tokenized = tokenizer.tokenize(test)"
      ]
    },
    {
      "cell_type": "code",
      "execution_count": null,
      "metadata": {
        "colab": {
          "base_uri": "https://localhost:8080/"
        },
        "id": "v1h9jp8uZfk2",
        "outputId": "efe11922-f961-4125-b2ae-c9bd6f608a23"
      },
      "outputs": [
        {
          "output_type": "stream",
          "name": "stderr",
          "text": [
            "[nltk_data] Downloading package stopwords to /root/nltk_data...\n",
            "[nltk_data]   Package stopwords is already up-to-date!\n"
          ]
        },
        {
          "output_type": "execute_result",
          "data": {
            "text/plain": [
              "['html',\n",
              " 'body',\n",
              " 'possible',\n",
              " 'define',\n",
              " 'class',\n",
              " 'class',\n",
              " 'genericcollection',\n",
              " 'somebasecollection',\n",
              " 'delegate',\n",
              " 'life',\n",
              " 'accomplish',\n",
              " 'last',\n",
              " 'night',\n",
              " 'net',\n",
              " 'tried',\n",
              " 'using',\n",
              " 'delegate',\n",
              " 'delegate',\n",
              " 'action',\n",
              " 'func',\n",
              " 'seems',\n",
              " 'allowable',\n",
              " 'way',\n",
              " 'trying',\n",
              " 'implement',\n",
              " 'eventqueue',\n",
              " 'ended',\n",
              " 'primitive',\n",
              " 'approximation',\n",
              " 'mind',\n",
              " 'internal',\n",
              " 'delegate',\n",
              " 'void',\n",
              " 'dwork',\n",
              " 'class',\n",
              " 'eventqueue',\n",
              " 'private',\n",
              " 'queue',\n",
              " 'dwork',\n",
              " 'eventq',\n",
              " 'lose',\n",
              " 'ability',\n",
              " 'reuse',\n",
              " 'definition',\n",
              " 'different',\n",
              " 'types',\n",
              " 'functions',\n",
              " 'thoughts',\n",
              " 'dwork',\n",
              " 'body',\n",
              " 'html']"
            ]
          },
          "metadata": {},
          "execution_count": 68
        }
      ],
      "source": [
        "# First cleaning of stopwords\n",
        "# Suppr most frequent words and small words (<2)\n",
        "nltk.download('stopwords')\n",
        "\n",
        "stopwords = nltk.corpus.stopwords.words('english')\n",
        "test_without_sw = [word for word in tokenized if word not in stopwords and len(word) > 2]\n",
        "test_without_sw"
      ]
    },
    {
      "cell_type": "code",
      "execution_count": null,
      "metadata": {
        "colab": {
          "base_uri": "https://localhost:8080/",
          "height": 89
        },
        "id": "UUC_vMquZfk2",
        "outputId": "589eef47-0f39-4726-ba93-cb8f03c2764b"
      },
      "outputs": [
        {
          "output_type": "execute_result",
          "data": {
            "text/plain": [
              "'# Second cleaning of stopwords\\nwords_whole_df = []\\nfor i in query_results.Body:\\n    words_whole_df.append(i)\\n\\ntokenized_words_whole_df = tokenizer.tokenize(str(words_whole_df))\\n\\n# Print and check most common tokens\\nmost_common_tokens = Counter(tokenized_words_whole_df).most_common(100)\\n\\ntest_without_stopwords = [word for word in test_without_sw if not word in most_common_tokens]\\ntest_without_stopwords'"
            ],
            "application/vnd.google.colaboratory.intrinsic+json": {
              "type": "string"
            }
          },
          "metadata": {},
          "execution_count": 69
        }
      ],
      "source": [
        "# SUPPR QUAND SOUTENANCE\n",
        "\n",
        "'''# Second cleaning of stopwords\n",
        "words_whole_df = []\n",
        "for i in query_results.Body:\n",
        "    words_whole_df.append(i)\n",
        "\n",
        "tokenized_words_whole_df = tokenizer.tokenize(str(words_whole_df))\n",
        "\n",
        "# Print and check most common tokens\n",
        "most_common_tokens = Counter(tokenized_words_whole_df).most_common(100)\n",
        "\n",
        "test_without_stopwords = [word for word in test_without_sw if not word in most_common_tokens]\n",
        "test_without_stopwords'''"
      ]
    },
    {
      "cell_type": "markdown",
      "metadata": {
        "id": "XvyVrINdZfk2"
      },
      "source": [
        "Those tokens are not specific : it is okay to get rid of them.  \n",
        "CHECK l'impact de ce cleaning au moment du tf-idf : ce que ça change aux résultats."
      ]
    },
    {
      "cell_type": "markdown",
      "metadata": {
        "id": "-CegYDZaZfk2"
      },
      "source": [
        "<a id=\"ch3\"></a>\n",
        "## III - Lemmatize"
      ]
    },
    {
      "cell_type": "code",
      "execution_count": null,
      "metadata": {
        "colab": {
          "base_uri": "https://localhost:8080/"
        },
        "id": "P-2KGwUxZfk2",
        "outputId": "382925d2-3349-460f-f8e3-d55a6784b435"
      },
      "outputs": [
        {
          "output_type": "stream",
          "name": "stderr",
          "text": [
            "[nltk_data] Downloading package averaged_perceptron_tagger to\n",
            "[nltk_data]     /root/nltk_data...\n",
            "[nltk_data]   Package averaged_perceptron_tagger is already up-to-\n",
            "[nltk_data]       date!\n"
          ]
        },
        {
          "output_type": "execute_result",
          "data": {
            "text/plain": [
              "{'html': 'NN',\n",
              " 'body': 'NN',\n",
              " 'possible': 'JJ',\n",
              " 'define': 'JJ',\n",
              " 'class': 'NN',\n",
              " 'genericcollection': 'NN',\n",
              " 'somebasecollection': 'NN',\n",
              " 'delegate': 'NN',\n",
              " 'life': 'NN',\n",
              " 'accomplish': 'JJ',\n",
              " 'last': 'JJ',\n",
              " 'night': 'NN',\n",
              " 'net': 'NN',\n",
              " 'tried': 'VBD',\n",
              " 'using': 'VBG',\n",
              " 'action': 'NN',\n",
              " 'func': 'NN',\n",
              " 'seems': 'VBZ',\n",
              " 'allowable': 'JJ',\n",
              " 'way': 'NN',\n",
              " 'trying': 'VBG',\n",
              " 'implement': 'JJ',\n",
              " 'eventqueue': 'NN',\n",
              " 'ended': 'VBD',\n",
              " 'primitive': 'JJ',\n",
              " 'approximation': 'NN',\n",
              " 'mind': 'IN',\n",
              " 'internal': 'JJ',\n",
              " 'void': 'NN',\n",
              " 'dwork': 'NN',\n",
              " 'private': 'JJ',\n",
              " 'queue': 'NN',\n",
              " 'eventq': 'VBP',\n",
              " 'lose': 'JJ',\n",
              " 'ability': 'NN',\n",
              " 'reuse': 'VBP',\n",
              " 'definition': 'NN',\n",
              " 'different': 'JJ',\n",
              " 'types': 'NNS',\n",
              " 'functions': 'NNS',\n",
              " 'thoughts': 'NNS'}"
            ]
          },
          "metadata": {},
          "execution_count": 70
        }
      ],
      "source": [
        "# First need to POS-tag tokens\n",
        "nltk.download('averaged_perceptron_tagger')\n",
        "test_postagged = dict(nltk.pos_tag(test_without_sw))\n",
        "test_postagged "
      ]
    },
    {
      "cell_type": "code",
      "execution_count": null,
      "metadata": {
        "id": "2FQHBgv5Zfk2"
      },
      "outputs": [],
      "source": [
        "# Function to convert pos_tag tags to WordNetLemmatizer tags\n",
        "def get_wordnet_pos(pos_tag):\n",
        "    if pos_tag.startswith('J'):\n",
        "        return wordnet.ADJ\n",
        "    elif pos_tag.startswith('V'):\n",
        "        return wordnet.VERB\n",
        "    elif pos_tag.startswith('N'):\n",
        "        return wordnet.NOUN\n",
        "    elif pos_tag.startswith('R'):\n",
        "        return wordnet.ADV\n",
        "    else:\n",
        "        return None"
      ]
    },
    {
      "cell_type": "code",
      "execution_count": null,
      "metadata": {
        "id": "Mt9ujPeUZfk3"
      },
      "outputs": [],
      "source": [
        "# Replace values of the dictionary\n",
        "def replace_pos(tokens):\n",
        "    k = 0\n",
        "    for i in tokens.keys():\n",
        "        tokens[i] = get_wordnet_pos(tokens[i])\n",
        "        k += 1\n",
        "    return tokens"
      ]
    },
    {
      "cell_type": "code",
      "execution_count": null,
      "metadata": {
        "colab": {
          "base_uri": "https://localhost:8080/"
        },
        "id": "LFaqOdtZZfk3",
        "outputId": "cd7173d9-af0b-4bea-f679-3b1cb0485945"
      },
      "outputs": [
        {
          "output_type": "stream",
          "name": "stderr",
          "text": [
            "[nltk_data] Downloading package wordnet to /root/nltk_data...\n",
            "[nltk_data]   Package wordnet is already up-to-date!\n",
            "[nltk_data] Downloading package omw-1.4 to /root/nltk_data...\n",
            "[nltk_data]   Package omw-1.4 is already up-to-date!\n"
          ]
        }
      ],
      "source": [
        "nltk.download('wordnet')\n",
        "nltk.download('omw-1.4')\n",
        "postagged = replace_pos(test_postagged)"
      ]
    },
    {
      "cell_type": "code",
      "execution_count": null,
      "metadata": {
        "colab": {
          "base_uri": "https://localhost:8080/"
        },
        "id": "lh9GTmu_Zfk3",
        "outputId": "cd36d753-80e5-4e30-9d99-59e135661341"
      },
      "outputs": [
        {
          "output_type": "execute_result",
          "data": {
            "text/plain": [
              "['html',\n",
              " 'body',\n",
              " 'possible',\n",
              " 'define',\n",
              " 'class',\n",
              " 'genericcollection',\n",
              " 'somebasecollection',\n",
              " 'delegate',\n",
              " 'life',\n",
              " 'accomplish',\n",
              " 'last',\n",
              " 'night',\n",
              " 'net',\n",
              " 'try',\n",
              " 'use',\n",
              " 'action',\n",
              " 'func',\n",
              " 'seem',\n",
              " 'allowable',\n",
              " 'way',\n",
              " 'try',\n",
              " 'implement',\n",
              " 'eventqueue',\n",
              " 'end',\n",
              " 'primitive',\n",
              " 'approximation',\n",
              " 'mind',\n",
              " 'internal',\n",
              " 'void',\n",
              " 'dwork',\n",
              " 'private',\n",
              " 'queue',\n",
              " 'eventq',\n",
              " 'lose',\n",
              " 'ability',\n",
              " 'reuse',\n",
              " 'definition',\n",
              " 'different',\n",
              " 'type',\n",
              " 'function',\n",
              " 'thought']"
            ]
          },
          "metadata": {},
          "execution_count": 74
        }
      ],
      "source": [
        "def lemmatize(tokens):\n",
        "    WNlemmatizer = WordNetLemmatizer()\n",
        "    lem_tokens = []\n",
        "    for key in tokens.keys():\n",
        "        if tokens[key] is None :    # In case there are no tags\n",
        "            lem_tokens.append(key)\n",
        "        else :\n",
        "            lem_tokens.append(WNlemmatizer.lemmatize(key, pos=tokens[key]) )\n",
        "    return lem_tokens\n",
        "\n",
        "lemmatize(postagged)"
      ]
    },
    {
      "cell_type": "markdown",
      "metadata": {
        "id": "0DqQ5iayZfk3"
      },
      "source": [
        "<a id=\"ch4\"></a>\n",
        "## IV - Whole function"
      ]
    },
    {
      "cell_type": "code",
      "execution_count": null,
      "metadata": {
        "id": "l7ea6Ch-13zX"
      },
      "outputs": [],
      "source": [
        "# Functions\n",
        "\n",
        "def listToString(s):\n",
        " \n",
        "    # initialize an empty string\n",
        "    str1 = \"\"\n",
        " \n",
        "    # traverse in the string\n",
        "    for ele in s:\n",
        "        str1 += ele + ' '\n",
        " \n",
        "    # return string\n",
        "    return str1\n",
        "\n",
        "# A améliorer avec Daouda\n",
        "def keep_nouns(sentence):\n",
        "    #nlp = spacy.load(\"en_core_web_sm\")  Mettait plus d'une heure à s'exécuter\n",
        "    #sentence_nlp = nlp(sentence)\n",
        "    liste = []\n",
        "    for word in sentence:\n",
        "        if word.pos_ == \"NOUN\" or word.pos_ == \"PROPN\":\n",
        "            liste.append(word)\n",
        "    return liste"
      ]
    },
    {
      "cell_type": "code",
      "execution_count": null,
      "metadata": {
        "id": "mIhE0SHv1-DG"
      },
      "outputs": [],
      "source": [
        "nlp = spacy.load(\"en_core_web_sm\")"
      ]
    },
    {
      "cell_type": "code",
      "execution_count": null,
      "metadata": {
        "id": "jw9bHvwAZfk3"
      },
      "outputs": [],
      "source": [
        "def tokenization_full(text):\n",
        "    text_out = suppr_balises_html(text)\n",
        "    text_out = text_out.lower()\n",
        "    # Tokenize\n",
        "    tokenizer = nltk.RegexpTokenizer(r'\\w+')\n",
        "    tokenized = tokenizer.tokenize(text_out)\n",
        "    # Stopwords\n",
        "    stopwords = nltk.corpus.stopwords.words('english')\n",
        "    text_without_sw = [word for word in tokenized if word not in stopwords and len(word) > 2]\n",
        "    # First need to POS-tag tokens\n",
        "    postagged = dict(nltk.pos_tag(text_without_sw))\n",
        "    tokens = replace_pos(postagged)\n",
        "    lem_tokens = lemmatize(tokens)\n",
        "    # NER\n",
        "    tokens_from_list_to_strings = listToString(lem_tokens)\n",
        "    sentences_nlp_ = nlp(tokens_from_list_to_strings)\n",
        "    ner_tokens = keep_nouns(sentences_nlp_)\n",
        "    detokenized = [token.text_with_ws for token in ner_tokens]\n",
        "    detokenized = str(detokenized)\n",
        "    return detokenized\n"
      ]
    },
    {
      "cell_type": "code",
      "execution_count": null,
      "metadata": {
        "id": "Ao3LCkt-Zfk3"
      },
      "outputs": [],
      "source": [
        "#query_results[\"body_cleaned\"] = query_results.Body.apply(tokenization_full)"
      ]
    },
    {
      "cell_type": "markdown",
      "metadata": {
        "id": "VYYVV5GYZfk3"
      },
      "source": [
        "<a id=\"ch5\"></a>\n",
        "## V - Tags"
      ]
    },
    {
      "cell_type": "code",
      "execution_count": null,
      "metadata": {
        "colab": {
          "base_uri": "https://localhost:8080/",
          "height": 424
        },
        "id": "f0TNea0sZfk3",
        "outputId": "219037eb-d715-4701-9969-a26bf0d224a9"
      },
      "outputs": [
        {
          "output_type": "execute_result",
          "data": {
            "text/plain": [
              "                                               Title  \\\n",
              "0  C# Generics won't allow Delegate Type Constraints   \n",
              "1           How do you get a directory listing in C?   \n",
              "2                   Returning DataTables in WCF/.NET   \n",
              "3  How to create a DataFrame from a text file in ...   \n",
              "4        mysqli or PDO - what are the pros and cons?   \n",
              "\n",
              "                                                Body  \\\n",
              "0  <p>Is it possible to define a class in C# such...   \n",
              "1  <p>How do you scan a directory for folders and...   \n",
              "2  <p>I have a WCF service from which I want to r...   \n",
              "3  <p>I have a text file on HDFS and I want to co...   \n",
              "4  <p>In our place we're split between using mysq...   \n",
              "\n",
              "                                                Tags        Id  Score  \\\n",
              "0     <c#><generics><events><delegates><constraints>    191940     81   \n",
              "1  <c><file><directory><cross-platform><common-ta...     12489     69   \n",
              "2           <c#><.net><wcf><web-services><datatable>     12702     51   \n",
              "3  <scala><apache-spark><dataframe><apache-spark-...  36766322     21   \n",
              "4    <php><mysql><pdo><mysqli><database-abstraction>     13569    342   \n",
              "\n",
              "   ViewCount  FavoriteCount  AnswerCount  \n",
              "0      29837             12            8  \n",
              "1     139075             22            9  \n",
              "2      56460             12            8  \n",
              "3     168246             12            8  \n",
              "4     145444            285           13  "
            ],
            "text/html": [
              "\n",
              "  <div id=\"df-615fff78-08ae-4b46-b250-46438b6d28f9\">\n",
              "    <div class=\"colab-df-container\">\n",
              "      <div>\n",
              "<style scoped>\n",
              "    .dataframe tbody tr th:only-of-type {\n",
              "        vertical-align: middle;\n",
              "    }\n",
              "\n",
              "    .dataframe tbody tr th {\n",
              "        vertical-align: top;\n",
              "    }\n",
              "\n",
              "    .dataframe thead th {\n",
              "        text-align: right;\n",
              "    }\n",
              "</style>\n",
              "<table border=\"1\" class=\"dataframe\">\n",
              "  <thead>\n",
              "    <tr style=\"text-align: right;\">\n",
              "      <th></th>\n",
              "      <th>Title</th>\n",
              "      <th>Body</th>\n",
              "      <th>Tags</th>\n",
              "      <th>Id</th>\n",
              "      <th>Score</th>\n",
              "      <th>ViewCount</th>\n",
              "      <th>FavoriteCount</th>\n",
              "      <th>AnswerCount</th>\n",
              "    </tr>\n",
              "  </thead>\n",
              "  <tbody>\n",
              "    <tr>\n",
              "      <th>0</th>\n",
              "      <td>C# Generics won't allow Delegate Type Constraints</td>\n",
              "      <td>&lt;p&gt;Is it possible to define a class in C# such...</td>\n",
              "      <td>&lt;c#&gt;&lt;generics&gt;&lt;events&gt;&lt;delegates&gt;&lt;constraints&gt;</td>\n",
              "      <td>191940</td>\n",
              "      <td>81</td>\n",
              "      <td>29837</td>\n",
              "      <td>12</td>\n",
              "      <td>8</td>\n",
              "    </tr>\n",
              "    <tr>\n",
              "      <th>1</th>\n",
              "      <td>How do you get a directory listing in C?</td>\n",
              "      <td>&lt;p&gt;How do you scan a directory for folders and...</td>\n",
              "      <td>&lt;c&gt;&lt;file&gt;&lt;directory&gt;&lt;cross-platform&gt;&lt;common-ta...</td>\n",
              "      <td>12489</td>\n",
              "      <td>69</td>\n",
              "      <td>139075</td>\n",
              "      <td>22</td>\n",
              "      <td>9</td>\n",
              "    </tr>\n",
              "    <tr>\n",
              "      <th>2</th>\n",
              "      <td>Returning DataTables in WCF/.NET</td>\n",
              "      <td>&lt;p&gt;I have a WCF service from which I want to r...</td>\n",
              "      <td>&lt;c#&gt;&lt;.net&gt;&lt;wcf&gt;&lt;web-services&gt;&lt;datatable&gt;</td>\n",
              "      <td>12702</td>\n",
              "      <td>51</td>\n",
              "      <td>56460</td>\n",
              "      <td>12</td>\n",
              "      <td>8</td>\n",
              "    </tr>\n",
              "    <tr>\n",
              "      <th>3</th>\n",
              "      <td>How to create a DataFrame from a text file in ...</td>\n",
              "      <td>&lt;p&gt;I have a text file on HDFS and I want to co...</td>\n",
              "      <td>&lt;scala&gt;&lt;apache-spark&gt;&lt;dataframe&gt;&lt;apache-spark-...</td>\n",
              "      <td>36766322</td>\n",
              "      <td>21</td>\n",
              "      <td>168246</td>\n",
              "      <td>12</td>\n",
              "      <td>8</td>\n",
              "    </tr>\n",
              "    <tr>\n",
              "      <th>4</th>\n",
              "      <td>mysqli or PDO - what are the pros and cons?</td>\n",
              "      <td>&lt;p&gt;In our place we're split between using mysq...</td>\n",
              "      <td>&lt;php&gt;&lt;mysql&gt;&lt;pdo&gt;&lt;mysqli&gt;&lt;database-abstraction&gt;</td>\n",
              "      <td>13569</td>\n",
              "      <td>342</td>\n",
              "      <td>145444</td>\n",
              "      <td>285</td>\n",
              "      <td>13</td>\n",
              "    </tr>\n",
              "  </tbody>\n",
              "</table>\n",
              "</div>\n",
              "      <button class=\"colab-df-convert\" onclick=\"convertToInteractive('df-615fff78-08ae-4b46-b250-46438b6d28f9')\"\n",
              "              title=\"Convert this dataframe to an interactive table.\"\n",
              "              style=\"display:none;\">\n",
              "        \n",
              "  <svg xmlns=\"http://www.w3.org/2000/svg\" height=\"24px\"viewBox=\"0 0 24 24\"\n",
              "       width=\"24px\">\n",
              "    <path d=\"M0 0h24v24H0V0z\" fill=\"none\"/>\n",
              "    <path d=\"M18.56 5.44l.94 2.06.94-2.06 2.06-.94-2.06-.94-.94-2.06-.94 2.06-2.06.94zm-11 1L8.5 8.5l.94-2.06 2.06-.94-2.06-.94L8.5 2.5l-.94 2.06-2.06.94zm10 10l.94 2.06.94-2.06 2.06-.94-2.06-.94-.94-2.06-.94 2.06-2.06.94z\"/><path d=\"M17.41 7.96l-1.37-1.37c-.4-.4-.92-.59-1.43-.59-.52 0-1.04.2-1.43.59L10.3 9.45l-7.72 7.72c-.78.78-.78 2.05 0 2.83L4 21.41c.39.39.9.59 1.41.59.51 0 1.02-.2 1.41-.59l7.78-7.78 2.81-2.81c.8-.78.8-2.07 0-2.86zM5.41 20L4 18.59l7.72-7.72 1.47 1.35L5.41 20z\"/>\n",
              "  </svg>\n",
              "      </button>\n",
              "      \n",
              "  <style>\n",
              "    .colab-df-container {\n",
              "      display:flex;\n",
              "      flex-wrap:wrap;\n",
              "      gap: 12px;\n",
              "    }\n",
              "\n",
              "    .colab-df-convert {\n",
              "      background-color: #E8F0FE;\n",
              "      border: none;\n",
              "      border-radius: 50%;\n",
              "      cursor: pointer;\n",
              "      display: none;\n",
              "      fill: #1967D2;\n",
              "      height: 32px;\n",
              "      padding: 0 0 0 0;\n",
              "      width: 32px;\n",
              "    }\n",
              "\n",
              "    .colab-df-convert:hover {\n",
              "      background-color: #E2EBFA;\n",
              "      box-shadow: 0px 1px 2px rgba(60, 64, 67, 0.3), 0px 1px 3px 1px rgba(60, 64, 67, 0.15);\n",
              "      fill: #174EA6;\n",
              "    }\n",
              "\n",
              "    [theme=dark] .colab-df-convert {\n",
              "      background-color: #3B4455;\n",
              "      fill: #D2E3FC;\n",
              "    }\n",
              "\n",
              "    [theme=dark] .colab-df-convert:hover {\n",
              "      background-color: #434B5C;\n",
              "      box-shadow: 0px 1px 3px 1px rgba(0, 0, 0, 0.15);\n",
              "      filter: drop-shadow(0px 1px 2px rgba(0, 0, 0, 0.3));\n",
              "      fill: #FFFFFF;\n",
              "    }\n",
              "  </style>\n",
              "\n",
              "      <script>\n",
              "        const buttonEl =\n",
              "          document.querySelector('#df-615fff78-08ae-4b46-b250-46438b6d28f9 button.colab-df-convert');\n",
              "        buttonEl.style.display =\n",
              "          google.colab.kernel.accessAllowed ? 'block' : 'none';\n",
              "\n",
              "        async function convertToInteractive(key) {\n",
              "          const element = document.querySelector('#df-615fff78-08ae-4b46-b250-46438b6d28f9');\n",
              "          const dataTable =\n",
              "            await google.colab.kernel.invokeFunction('convertToInteractive',\n",
              "                                                     [key], {});\n",
              "          if (!dataTable) return;\n",
              "\n",
              "          const docLinkHtml = 'Like what you see? Visit the ' +\n",
              "            '<a target=\"_blank\" href=https://colab.research.google.com/notebooks/data_table.ipynb>data table notebook</a>'\n",
              "            + ' to learn more about interactive tables.';\n",
              "          element.innerHTML = '';\n",
              "          dataTable['output_type'] = 'display_data';\n",
              "          await google.colab.output.renderOutput(dataTable, element);\n",
              "          const docLink = document.createElement('div');\n",
              "          docLink.innerHTML = docLinkHtml;\n",
              "          element.appendChild(docLink);\n",
              "        }\n",
              "      </script>\n",
              "    </div>\n",
              "  </div>\n",
              "  "
            ]
          },
          "metadata": {},
          "execution_count": 79
        }
      ],
      "source": [
        "query_results.head()"
      ]
    },
    {
      "cell_type": "code",
      "execution_count": null,
      "metadata": {
        "id": "uj54zQ1XZfk3"
      },
      "outputs": [],
      "source": [
        "def clean_tags(tags):\n",
        "    # Separate tags\n",
        "    pattern_brackets = r\"\\<.*?\\>\"\n",
        "    tags_separated = re.findall(pattern_brackets, tags)\n",
        "    # Remove brackets\n",
        "    pattern_remove_brackets = r'[<>]'\n",
        "    tags_cleaned = [re.sub(pattern_remove_brackets, '', word) for word in tags_separated]\n",
        "    return tags_cleaned"
      ]
    },
    {
      "cell_type": "code",
      "execution_count": null,
      "metadata": {
        "id": "xLhfNUIBZfk3"
      },
      "outputs": [],
      "source": [
        "query_results[\"tags_cleaned\"] = query_results.Tags.apply(clean_tags)"
      ]
    },
    {
      "cell_type": "code",
      "execution_count": null,
      "metadata": {
        "id": "OnVo07H3Zfk3"
      },
      "outputs": [],
      "source": [
        "list_tags = []\n",
        "for i in query_results.tags_cleaned:\n",
        "    list_tags.extend(i)"
      ]
    },
    {
      "cell_type": "code",
      "execution_count": null,
      "metadata": {
        "id": "XtFB0-aCZfk3"
      },
      "outputs": [],
      "source": [
        "tags_sorted = Counter(list_tags).most_common(100)\n",
        "tags_sorted = dict(tags_sorted)"
      ]
    },
    {
      "cell_type": "code",
      "execution_count": null,
      "metadata": {
        "colab": {
          "base_uri": "https://localhost:8080/",
          "height": 982
        },
        "id": "fc0eVBDUZfk3",
        "outputId": "5cc27738-846b-444d-ea80-aec00de75e7c"
      },
      "outputs": [
        {
          "output_type": "execute_result",
          "data": {
            "text/plain": [
              "<matplotlib.axes._subplots.AxesSubplot at 0x7fcf8373e190>"
            ]
          },
          "metadata": {},
          "execution_count": 84
        },
        {
          "output_type": "display_data",
          "data": {
            "text/plain": [
              "<Figure size 2160x2160 with 1 Axes>"
            ],
            "image/png": "[encoded data removed]"
          },
          "metadata": {
            "needs_background": "light"
          }
        }
      ],
      "source": [
        "fig, ax = plt.subplots(1,1, figsize=(30,30))\n",
        "\n",
        "#plt.bar(tags_sorted.keys(), tags_sorted.values())\n",
        "sns.barplot(y=list(tags_sorted.keys()), x=list(tags_sorted.values()), orient=\"h\")"
      ]
    },
    {
      "cell_type": "code",
      "execution_count": null,
      "metadata": {
        "id": "efSMnXnqZfk3"
      },
      "outputs": [],
      "source": [
        "# Keep only these tags in the df\n",
        "def remove_rare_tags(list_of_tags):\n",
        "    new_list = []\n",
        "    for tag in list_of_tags:\n",
        "        if tag in list(tags_sorted.keys()):\n",
        "            new_list.append(tag)\n",
        "    return new_list"
      ]
    },
    {
      "cell_type": "code",
      "execution_count": null,
      "metadata": {
        "colab": {
          "base_uri": "https://localhost:8080/",
          "height": 1000
        },
        "id": "-MSeBj1UZfk3",
        "outputId": "bb4a0423-f917-4528-e15b-ebeec1ec0dba"
      },
      "outputs": [
        {
          "output_type": "execute_result",
          "data": {
            "text/plain": [
              "                                                Title  \\\n",
              "0   C# Generics won't allow Delegate Type Constraints   \n",
              "1            How do you get a directory listing in C?   \n",
              "2                    Returning DataTables in WCF/.NET   \n",
              "3   How to create a DataFrame from a text file in ...   \n",
              "4         mysqli or PDO - what are the pros and cons?   \n",
              "5                        How to load plugins in .NET?   \n",
              "6      Increasing camera capture resolution in OpenCV   \n",
              "7                           Change templates in Xcode   \n",
              "8                     WordPress MediaWiki integration   \n",
              "9                             What is tail recursion?   \n",
              "10            How do I list the symbols in a .so file   \n",
              "11  Does C# have a way of giving me an immutable D...   \n",
              "12  What are the main performance differences betw...   \n",
              "13                           Spread vs MPI vs zeromq?   \n",
              "14           What Are High-Pass and Low-Pass Filters?   \n",
              "\n",
              "                                                 Body  \\\n",
              "0   <p>Is it possible to define a class in C# such...   \n",
              "1   <p>How do you scan a directory for folders and...   \n",
              "2   <p>I have a WCF service from which I want to r...   \n",
              "3   <p>I have a text file on HDFS and I want to co...   \n",
              "4   <p>In our place we're split between using mysq...   \n",
              "5   <p>I'd like to provide some way of creating dy...   \n",
              "6   <p>In my C/C++ program, I'm using <a href=\"htt...   \n",
              "7   <p>How would I change the initial templates cr...   \n",
              "8   <p>On the other end of the spectrum, I would b...   \n",
              "9   <p>Whilst starting to learn lisp, I've come ac...   \n",
              "10  <p>How do I list the symbols being exported fr...   \n",
              "11  <p><strong>Is there anything built into the co...   \n",
              "12  <p>I'm working on a database for a small web a...   \n",
              "13  <p>In one of the answers to <a href=\"https://s...   \n",
              "14  <p>Graphics and audio editing and processing s...   \n",
              "\n",
              "                                                 Tags        Id  Score  \\\n",
              "0      <c#><generics><events><delegates><constraints>    191940     81   \n",
              "1   <c><file><directory><cross-platform><common-ta...     12489     69   \n",
              "2            <c#><.net><wcf><web-services><datatable>     12702     51   \n",
              "3   <scala><apache-spark><dataframe><apache-spark-...  36766322     21   \n",
              "4     <php><mysql><pdo><mysqli><database-abstraction>     13569    342   \n",
              "5     <.net><windows><plugins><add-in><extensibility>     14278     27   \n",
              "6             <c><image><opencv><webcam><resolutions>     14287     52   \n",
              "7         <xcode><macos><templates><xcode4><xcode4.5>     33720    113   \n",
              "8            <php><mysql><wordpress><lamp><mediawiki>     33745     10   \n",
              "9   <algorithm><language-agnostic><functional-prog...     33923   1956   \n",
              "10              <c++><c><gcc><symbols><name-mangling>     34732    572   \n",
              "11          <c#><java><.net><collections><dictionary>     35002     73   \n",
              "12  <sql-server><sql-server-2005><storage><varchar...     35366    244   \n",
              "13  <api><networking><messaging><distributed><clus...     35490     47   \n",
              "14  <algorithm><graphics><audio><photoshop><signal...     35530     27   \n",
              "\n",
              "    ViewCount  FavoriteCount  AnswerCount  \\\n",
              "0       29837             12            8   \n",
              "1      139075             22            9   \n",
              "2       56460             12            8   \n",
              "3      168246             12            8   \n",
              "4      145444            285           13   \n",
              "5       14769             15            8   \n",
              "6       78108             26           15   \n",
              "7       50902             65           10   \n",
              "8       18616             11            6   \n",
              "9      559426            907           31   \n",
              "10     483505            232           11   \n",
              "11      24753             26           14   \n",
              "12     179255             77           14   \n",
              "13      13879             19            3   \n",
              "14      84998             18            6   \n",
              "\n",
              "                                         tags_cleaned  \\\n",
              "0      [c#, generics, events, delegates, constraints]   \n",
              "1   [c, file, directory, cross-platform, common-ta...   \n",
              "2            [c#, .net, wcf, web-services, datatable]   \n",
              "3   [scala, apache-spark, dataframe, apache-spark-...   \n",
              "4     [php, mysql, pdo, mysqli, database-abstraction]   \n",
              "5     [.net, windows, plugins, add-in, extensibility]   \n",
              "6             [c, image, opencv, webcam, resolutions]   \n",
              "7         [xcode, macos, templates, xcode4, xcode4.5]   \n",
              "8            [php, mysql, wordpress, lamp, mediawiki]   \n",
              "9   [algorithm, language-agnostic, functional-prog...   \n",
              "10              [c++, c, gcc, symbols, name-mangling]   \n",
              "11          [c#, java, .net, collections, dictionary]   \n",
              "12  [sql-server, sql-server-2005, storage, varchar...   \n",
              "13  [api, networking, messaging, distributed, clus...   \n",
              "14  [algorithm, graphics, audio, photoshop, signal...   \n",
              "\n",
              "               tags_cleaned_selected  \n",
              "0                               [c#]  \n",
              "1                          [c, file]  \n",
              "2                         [c#, .net]  \n",
              "3   [scala, apache-spark, dataframe]  \n",
              "4                       [php, mysql]  \n",
              "5                    [.net, windows]  \n",
              "6                 [c, image, opencv]  \n",
              "7                     [xcode, macos]  \n",
              "8                       [php, mysql]  \n",
              "9                        [algorithm]  \n",
              "10                     [c++, c, gcc]  \n",
              "11                  [c#, java, .net]  \n",
              "12                      [sql-server]  \n",
              "13                                []  \n",
              "14                       [algorithm]  "
            ],
            "text/html": [
              "\n",
              "  <div id=\"df-bb79c237-8d93-49c0-b6b6-0f68b2a662e3\">\n",
              "    <div class=\"colab-df-container\">\n",
              "      <div>\n",
              "<style scoped>\n",
              "    .dataframe tbody tr th:only-of-type {\n",
              "        vertical-align: middle;\n",
              "    }\n",
              "\n",
              "    .dataframe tbody tr th {\n",
              "        vertical-align: top;\n",
              "    }\n",
              "\n",
              "    .dataframe thead th {\n",
              "        text-align: right;\n",
              "    }\n",
              "</style>\n",
              "<table border=\"1\" class=\"dataframe\">\n",
              "  <thead>\n",
              "    <tr style=\"text-align: right;\">\n",
              "      <th></th>\n",
              "      <th>Title</th>\n",
              "      <th>Body</th>\n",
              "      <th>Tags</th>\n",
              "      <th>Id</th>\n",
              "      <th>Score</th>\n",
              "      <th>ViewCount</th>\n",
              "      <th>FavoriteCount</th>\n",
              "      <th>AnswerCount</th>\n",
              "      <th>tags_cleaned</th>\n",
              "      <th>tags_cleaned_selected</th>\n",
              "    </tr>\n",
              "  </thead>\n",
              "  <tbody>\n",
              "    <tr>\n",
              "      <th>0</th>\n",
              "      <td>C# Generics won't allow Delegate Type Constraints</td>\n",
              "      <td>&lt;p&gt;Is it possible to define a class in C# such...</td>\n",
              "      <td>&lt;c#&gt;&lt;generics&gt;&lt;events&gt;&lt;delegates&gt;&lt;constraints&gt;</td>\n",
              "      <td>191940</td>\n",
              "      <td>81</td>\n",
              "      <td>29837</td>\n",
              "      <td>12</td>\n",
              "      <td>8</td>\n",
              "      <td>[c#, generics, events, delegates, constraints]</td>\n",
              "      <td>[c#]</td>\n",
              "    </tr>\n",
              "    <tr>\n",
              "      <th>1</th>\n",
              "      <td>How do you get a directory listing in C?</td>\n",
              "      <td>&lt;p&gt;How do you scan a directory for folders and...</td>\n",
              "      <td>&lt;c&gt;&lt;file&gt;&lt;directory&gt;&lt;cross-platform&gt;&lt;common-ta...</td>\n",
              "      <td>12489</td>\n",
              "      <td>69</td>\n",
              "      <td>139075</td>\n",
              "      <td>22</td>\n",
              "      <td>9</td>\n",
              "      <td>[c, file, directory, cross-platform, common-ta...</td>\n",
              "      <td>[c, file]</td>\n",
              "    </tr>\n",
              "    <tr>\n",
              "      <th>2</th>\n",
              "      <td>Returning DataTables in WCF/.NET</td>\n",
              "      <td>&lt;p&gt;I have a WCF service from which I want to r...</td>\n",
              "      <td>&lt;c#&gt;&lt;.net&gt;&lt;wcf&gt;&lt;web-services&gt;&lt;datatable&gt;</td>\n",
              "      <td>12702</td>\n",
              "      <td>51</td>\n",
              "      <td>56460</td>\n",
              "      <td>12</td>\n",
              "      <td>8</td>\n",
              "      <td>[c#, .net, wcf, web-services, datatable]</td>\n",
              "      <td>[c#, .net]</td>\n",
              "    </tr>\n",
              "    <tr>\n",
              "      <th>3</th>\n",
              "      <td>How to create a DataFrame from a text file in ...</td>\n",
              "      <td>&lt;p&gt;I have a text file on HDFS and I want to co...</td>\n",
              "      <td>&lt;scala&gt;&lt;apache-spark&gt;&lt;dataframe&gt;&lt;apache-spark-...</td>\n",
              "      <td>36766322</td>\n",
              "      <td>21</td>\n",
              "      <td>168246</td>\n",
              "      <td>12</td>\n",
              "      <td>8</td>\n",
              "      <td>[scala, apache-spark, dataframe, apache-spark-...</td>\n",
              "      <td>[scala, apache-spark, dataframe]</td>\n",
              "    </tr>\n",
              "    <tr>\n",
              "      <th>4</th>\n",
              "      <td>mysqli or PDO - what are the pros and cons?</td>\n",
              "      <td>&lt;p&gt;In our place we're split between using mysq...</td>\n",
              "      <td>&lt;php&gt;&lt;mysql&gt;&lt;pdo&gt;&lt;mysqli&gt;&lt;database-abstraction&gt;</td>\n",
              "      <td>13569</td>\n",
              "      <td>342</td>\n",
              "      <td>145444</td>\n",
              "      <td>285</td>\n",
              "      <td>13</td>\n",
              "      <td>[php, mysql, pdo, mysqli, database-abstraction]</td>\n",
              "      <td>[php, mysql]</td>\n",
              "    </tr>\n",
              "    <tr>\n",
              "      <th>5</th>\n",
              "      <td>How to load plugins in .NET?</td>\n",
              "      <td>&lt;p&gt;I'd like to provide some way of creating dy...</td>\n",
              "      <td>&lt;.net&gt;&lt;windows&gt;&lt;plugins&gt;&lt;add-in&gt;&lt;extensibility&gt;</td>\n",
              "      <td>14278</td>\n",
              "      <td>27</td>\n",
              "      <td>14769</td>\n",
              "      <td>15</td>\n",
              "      <td>8</td>\n",
              "      <td>[.net, windows, plugins, add-in, extensibility]</td>\n",
              "      <td>[.net, windows]</td>\n",
              "    </tr>\n",
              "    <tr>\n",
              "      <th>6</th>\n",
              "      <td>Increasing camera capture resolution in OpenCV</td>\n",
              "      <td>&lt;p&gt;In my C/C++ program, I'm using &lt;a href=\"htt...</td>\n",
              "      <td>&lt;c&gt;&lt;image&gt;&lt;opencv&gt;&lt;webcam&gt;&lt;resolutions&gt;</td>\n",
              "      <td>14287</td>\n",
              "      <td>52</td>\n",
              "      <td>78108</td>\n",
              "      <td>26</td>\n",
              "      <td>15</td>\n",
              "      <td>[c, image, opencv, webcam, resolutions]</td>\n",
              "      <td>[c, image, opencv]</td>\n",
              "    </tr>\n",
              "    <tr>\n",
              "      <th>7</th>\n",
              "      <td>Change templates in Xcode</td>\n",
              "      <td>&lt;p&gt;How would I change the initial templates cr...</td>\n",
              "      <td>&lt;xcode&gt;&lt;macos&gt;&lt;templates&gt;&lt;xcode4&gt;&lt;xcode4.5&gt;</td>\n",
              "      <td>33720</td>\n",
              "      <td>113</td>\n",
              "      <td>50902</td>\n",
              "      <td>65</td>\n",
              "      <td>10</td>\n",
              "      <td>[xcode, macos, templates, xcode4, xcode4.5]</td>\n",
              "      <td>[xcode, macos]</td>\n",
              "    </tr>\n",
              "    <tr>\n",
              "      <th>8</th>\n",
              "      <td>WordPress MediaWiki integration</td>\n",
              "      <td>&lt;p&gt;On the other end of the spectrum, I would b...</td>\n",
              "      <td>&lt;php&gt;&lt;mysql&gt;&lt;wordpress&gt;&lt;lamp&gt;&lt;mediawiki&gt;</td>\n",
              "      <td>33745</td>\n",
              "      <td>10</td>\n",
              "      <td>18616</td>\n",
              "      <td>11</td>\n",
              "      <td>6</td>\n",
              "      <td>[php, mysql, wordpress, lamp, mediawiki]</td>\n",
              "      <td>[php, mysql]</td>\n",
              "    </tr>\n",
              "    <tr>\n",
              "      <th>9</th>\n",
              "      <td>What is tail recursion?</td>\n",
              "      <td>&lt;p&gt;Whilst starting to learn lisp, I've come ac...</td>\n",
              "      <td>&lt;algorithm&gt;&lt;language-agnostic&gt;&lt;functional-prog...</td>\n",
              "      <td>33923</td>\n",
              "      <td>1956</td>\n",
              "      <td>559426</td>\n",
              "      <td>907</td>\n",
              "      <td>31</td>\n",
              "      <td>[algorithm, language-agnostic, functional-prog...</td>\n",
              "      <td>[algorithm]</td>\n",
              "    </tr>\n",
              "    <tr>\n",
              "      <th>10</th>\n",
              "      <td>How do I list the symbols in a .so file</td>\n",
              "      <td>&lt;p&gt;How do I list the symbols being exported fr...</td>\n",
              "      <td>&lt;c++&gt;&lt;c&gt;&lt;gcc&gt;&lt;symbols&gt;&lt;name-mangling&gt;</td>\n",
              "      <td>34732</td>\n",
              "      <td>572</td>\n",
              "      <td>483505</td>\n",
              "      <td>232</td>\n",
              "      <td>11</td>\n",
              "      <td>[c++, c, gcc, symbols, name-mangling]</td>\n",
              "      <td>[c++, c, gcc]</td>\n",
              "    </tr>\n",
              "    <tr>\n",
              "      <th>11</th>\n",
              "      <td>Does C# have a way of giving me an immutable D...</td>\n",
              "      <td>&lt;p&gt;&lt;strong&gt;Is there anything built into the co...</td>\n",
              "      <td>&lt;c#&gt;&lt;java&gt;&lt;.net&gt;&lt;collections&gt;&lt;dictionary&gt;</td>\n",
              "      <td>35002</td>\n",
              "      <td>73</td>\n",
              "      <td>24753</td>\n",
              "      <td>26</td>\n",
              "      <td>14</td>\n",
              "      <td>[c#, java, .net, collections, dictionary]</td>\n",
              "      <td>[c#, java, .net]</td>\n",
              "    </tr>\n",
              "    <tr>\n",
              "      <th>12</th>\n",
              "      <td>What are the main performance differences betw...</td>\n",
              "      <td>&lt;p&gt;I'm working on a database for a small web a...</td>\n",
              "      <td>&lt;sql-server&gt;&lt;sql-server-2005&gt;&lt;storage&gt;&lt;varchar...</td>\n",
              "      <td>35366</td>\n",
              "      <td>244</td>\n",
              "      <td>179255</td>\n",
              "      <td>77</td>\n",
              "      <td>14</td>\n",
              "      <td>[sql-server, sql-server-2005, storage, varchar...</td>\n",
              "      <td>[sql-server]</td>\n",
              "    </tr>\n",
              "    <tr>\n",
              "      <th>13</th>\n",
              "      <td>Spread vs MPI vs zeromq?</td>\n",
              "      <td>&lt;p&gt;In one of the answers to &lt;a href=\"https://s...</td>\n",
              "      <td>&lt;api&gt;&lt;networking&gt;&lt;messaging&gt;&lt;distributed&gt;&lt;clus...</td>\n",
              "      <td>35490</td>\n",
              "      <td>47</td>\n",
              "      <td>13879</td>\n",
              "      <td>19</td>\n",
              "      <td>3</td>\n",
              "      <td>[api, networking, messaging, distributed, clus...</td>\n",
              "      <td>[]</td>\n",
              "    </tr>\n",
              "    <tr>\n",
              "      <th>14</th>\n",
              "      <td>What Are High-Pass and Low-Pass Filters?</td>\n",
              "      <td>&lt;p&gt;Graphics and audio editing and processing s...</td>\n",
              "      <td>&lt;algorithm&gt;&lt;graphics&gt;&lt;audio&gt;&lt;photoshop&gt;&lt;signal...</td>\n",
              "      <td>35530</td>\n",
              "      <td>27</td>\n",
              "      <td>84998</td>\n",
              "      <td>18</td>\n",
              "      <td>6</td>\n",
              "      <td>[algorithm, graphics, audio, photoshop, signal...</td>\n",
              "      <td>[algorithm]</td>\n",
              "    </tr>\n",
              "  </tbody>\n",
              "</table>\n",
              "</div>\n",
              "      <button class=\"colab-df-convert\" onclick=\"convertToInteractive('df-bb79c237-8d93-49c0-b6b6-0f68b2a662e3')\"\n",
              "              title=\"Convert this dataframe to an interactive table.\"\n",
              "              style=\"display:none;\">\n",
              "        \n",
              "  <svg xmlns=\"http://www.w3.org/2000/svg\" height=\"24px\"viewBox=\"0 0 24 24\"\n",
              "       width=\"24px\">\n",
              "    <path d=\"M0 0h24v24H0V0z\" fill=\"none\"/>\n",
              "    <path d=\"M18.56 5.44l.94 2.06.94-2.06 2.06-.94-2.06-.94-.94-2.06-.94 2.06-2.06.94zm-11 1L8.5 8.5l.94-2.06 2.06-.94-2.06-.94L8.5 2.5l-.94 2.06-2.06.94zm10 10l.94 2.06.94-2.06 2.06-.94-2.06-.94-.94-2.06-.94 2.06-2.06.94z\"/><path d=\"M17.41 7.96l-1.37-1.37c-.4-.4-.92-.59-1.43-.59-.52 0-1.04.2-1.43.59L10.3 9.45l-7.72 7.72c-.78.78-.78 2.05 0 2.83L4 21.41c.39.39.9.59 1.41.59.51 0 1.02-.2 1.41-.59l7.78-7.78 2.81-2.81c.8-.78.8-2.07 0-2.86zM5.41 20L4 18.59l7.72-7.72 1.47 1.35L5.41 20z\"/>\n",
              "  </svg>\n",
              "      </button>\n",
              "      \n",
              "  <style>\n",
              "    .colab-df-container {\n",
              "      display:flex;\n",
              "      flex-wrap:wrap;\n",
              "      gap: 12px;\n",
              "    }\n",
              "\n",
              "    .colab-df-convert {\n",
              "      background-color: #E8F0FE;\n",
              "      border: none;\n",
              "      border-radius: 50%;\n",
              "      cursor: pointer;\n",
              "      display: none;\n",
              "      fill: #1967D2;\n",
              "      height: 32px;\n",
              "      padding: 0 0 0 0;\n",
              "      width: 32px;\n",
              "    }\n",
              "\n",
              "    .colab-df-convert:hover {\n",
              "      background-color: #E2EBFA;\n",
              "      box-shadow: 0px 1px 2px rgba(60, 64, 67, 0.3), 0px 1px 3px 1px rgba(60, 64, 67, 0.15);\n",
              "      fill: #174EA6;\n",
              "    }\n",
              "\n",
              "    [theme=dark] .colab-df-convert {\n",
              "      background-color: #3B4455;\n",
              "      fill: #D2E3FC;\n",
              "    }\n",
              "\n",
              "    [theme=dark] .colab-df-convert:hover {\n",
              "      background-color: #434B5C;\n",
              "      box-shadow: 0px 1px 3px 1px rgba(0, 0, 0, 0.15);\n",
              "      filter: drop-shadow(0px 1px 2px rgba(0, 0, 0, 0.3));\n",
              "      fill: #FFFFFF;\n",
              "    }\n",
              "  </style>\n",
              "\n",
              "      <script>\n",
              "        const buttonEl =\n",
              "          document.querySelector('#df-bb79c237-8d93-49c0-b6b6-0f68b2a662e3 button.colab-df-convert');\n",
              "        buttonEl.style.display =\n",
              "          google.colab.kernel.accessAllowed ? 'block' : 'none';\n",
              "\n",
              "        async function convertToInteractive(key) {\n",
              "          const element = document.querySelector('#df-bb79c237-8d93-49c0-b6b6-0f68b2a662e3');\n",
              "          const dataTable =\n",
              "            await google.colab.kernel.invokeFunction('convertToInteractive',\n",
              "                                                     [key], {});\n",
              "          if (!dataTable) return;\n",
              "\n",
              "          const docLinkHtml = 'Like what you see? Visit the ' +\n",
              "            '<a target=\"_blank\" href=https://colab.research.google.com/notebooks/data_table.ipynb>data table notebook</a>'\n",
              "            + ' to learn more about interactive tables.';\n",
              "          element.innerHTML = '';\n",
              "          dataTable['output_type'] = 'display_data';\n",
              "          await google.colab.output.renderOutput(dataTable, element);\n",
              "          const docLink = document.createElement('div');\n",
              "          docLink.innerHTML = docLinkHtml;\n",
              "          element.appendChild(docLink);\n",
              "        }\n",
              "      </script>\n",
              "    </div>\n",
              "  </div>\n",
              "  "
            ]
          },
          "metadata": {},
          "execution_count": 86
        }
      ],
      "source": [
        "query_results[\"tags_cleaned_selected\"] = query_results.tags_cleaned.apply(remove_rare_tags)\n",
        "query_results.head(15)"
      ]
    },
    {
      "cell_type": "code",
      "execution_count": null,
      "metadata": {
        "id": "gUVzWVRG3RW6"
      },
      "outputs": [],
      "source": [
        "# Get rid of rows with empty tags\n",
        "query_results = query_results[query_results.tags_cleaned_selected.astype(str) != '[]']\n",
        "query_results.reset_index(drop=True, inplace=True)"
      ]
    },
    {
      "cell_type": "markdown",
      "metadata": {
        "id": "TjnIoonpZfk4"
      },
      "source": [
        "<a id=\"ch7\"></a>\n",
        "## VII - RNN Models"
      ]
    },
    {
      "cell_type": "markdown",
      "metadata": {
        "id": "k_LMPoS_Zfk4"
      },
      "source": [
        "#### Fonctions communes"
      ]
    },
    {
      "cell_type": "code",
      "execution_count": null,
      "metadata": {
        "id": "CPPWF-mc2jJx"
      },
      "outputs": [],
      "source": [
        "from sklearn import cluster, metrics\n",
        "from sklearn import manifold, decomposition"
      ]
    },
    {
      "cell_type": "code",
      "execution_count": null,
      "metadata": {
        "id": "A1LpZxrjZfk4"
      },
      "outputs": [],
      "source": [
        "\n",
        "# Calcul Tsne, détermination des clusters et calcul ARI entre vrais catégorie et n° de clusters\n",
        "def ARI_fct(features) :\n",
        "    time1 = time.time()\n",
        "    num_labels=len(l_cat)\n",
        "    tsne = manifold.TSNE(n_components=2, perplexity=30, n_iter=2000, \n",
        "                                 init='random', learning_rate=200, random_state=42)\n",
        "    X_tsne = tsne.fit_transform(features)\n",
        "    \n",
        "    # Détermination des clusters à partir des données après Tsne \n",
        "    cls = cluster.KMeans(n_clusters=num_labels, n_init=100, random_state=42)\n",
        "    cls.fit(X_tsne)\n",
        "    ARI = np.round(metrics.adjusted_rand_score(y_cat_num, cls.labels_),4)\n",
        "    time2 = np.round(time.time() - time1,0)\n",
        "    print(\"ARI : \", ARI, \"time : \", time2)\n",
        "    \n",
        "    return ARI, X_tsne, cls.labels_\n",
        "\n",
        "\n",
        "# visualisation du Tsne selon les vraies catégories et selon les clusters\n",
        "def TSNE_visu_fct(X_tsne, y_cat_num, labels, ARI) :\n",
        "    fig = plt.figure(figsize=(15,6))\n",
        "    \n",
        "    ax = fig.add_subplot(121)\n",
        "    scatter = ax.scatter(X_tsne[:,0],X_tsne[:,1], c=y_cat_num, cmap='Set1')\n",
        "    ax.legend(handles=scatter.legend_elements()[0], labels=l_cat, loc=\"best\", title=\"Categorie\")\n",
        "    plt.title('Représentation des tweets par catégories réelles')\n",
        "    \n",
        "    ax = fig.add_subplot(122)\n",
        "    scatter = ax.scatter(X_tsne[:,0],X_tsne[:,1], c=labels, cmap='Set1')\n",
        "    ax.legend(handles=scatter.legend_elements()[0], labels=set(labels), loc=\"best\", title=\"Clusters\")\n",
        "    plt.title('Représentation des tweets par clusters')\n",
        "    \n",
        "    plt.show()\n",
        "    print(\"ARI : \", ARI)\n"
      ]
    },
    {
      "cell_type": "markdown",
      "metadata": {
        "id": "oSnglB_2Zfk5"
      },
      "source": [
        "<a id=\"ch7-2\"></a>\n",
        "### 7 - 2 - BERT"
      ]
    },
    {
      "cell_type": "code",
      "source": [
        "#To extract features using methods such as BERT, we should not remove stopwords or lemmatize as we did before, so we create a new function.\n",
        "\n",
        "def message_to_words(raw_text):\n",
        "   \n",
        "    # 1. Remove non-letters        \n",
        "    letters_only = re.sub(\"[^a-zA-Z]\", \" \", raw_text) \n",
        "    #\n",
        "    # 2. Convert to lower case, split into individual words\n",
        "    words = letters_only.lower().split()                             \n",
        "    return( \" \".join(words)) "
      ],
      "metadata": {
        "id": "RAj4bSKEn_KE"
      },
      "execution_count": null,
      "outputs": []
    },
    {
      "cell_type": "code",
      "source": [
        "query_results[\"body_bert_use\"] = query_results.Body.apply(message_to_words)"
      ],
      "metadata": {
        "id": "YMwBLnezoW6N"
      },
      "execution_count": null,
      "outputs": []
    },
    {
      "cell_type": "code",
      "execution_count": null,
      "metadata": {
        "id": "vVMzv6PZZfk5"
      },
      "outputs": [],
      "source": [
        "# Bert\n",
        "\n",
        "os.environ[\"TF_KERAS\"]='1'"
      ]
    },
    {
      "cell_type": "markdown",
      "metadata": {
        "id": "Zb1NAmPlZfk5"
      },
      "source": [
        "#### Fonctions communes"
      ]
    },
    {
      "cell_type": "code",
      "execution_count": null,
      "metadata": {
        "id": "WHjwxStoZfk5"
      },
      "outputs": [],
      "source": [
        "# Fonction de préparation des sentences\n",
        "def bert_inp_fct(sentences, bert_tokenizer, max_length) :\n",
        "    input_ids=[]\n",
        "    token_type_ids = []\n",
        "    attention_mask=[]\n",
        "    bert_inp_tot = []\n",
        "\n",
        "    for sent in sentences:\n",
        "        bert_inp = bert_tokenizer.encode_plus(sent,\n",
        "                                              add_special_tokens = True,\n",
        "                                              max_length = max_length,\n",
        "                                              padding='max_length',\n",
        "                                              return_attention_mask = True, \n",
        "                                              return_token_type_ids=True,\n",
        "                                              truncation=True,\n",
        "                                              return_tensors=\"tf\")\n",
        "    \n",
        "        input_ids.append(bert_inp['input_ids'][0])\n",
        "        token_type_ids.append(bert_inp['token_type_ids'][0])\n",
        "        attention_mask.append(bert_inp['attention_mask'][0])\n",
        "        bert_inp_tot.append((bert_inp['input_ids'][0], \n",
        "                             bert_inp['token_type_ids'][0], \n",
        "                             bert_inp['attention_mask'][0]))\n",
        "\n",
        "    input_ids = np.asarray(input_ids)\n",
        "    token_type_ids = np.asarray(token_type_ids)\n",
        "    attention_mask = np.array(attention_mask)\n",
        "    \n",
        "    return input_ids, token_type_ids, attention_mask, bert_inp_tot\n",
        "    \n",
        "\n",
        "# Fonction de création des features\n",
        "def feature_BERT_fct(model, model_type, sentences, max_length, b_size, mode='HF') :\n",
        "    batch_size = b_size\n",
        "    batch_size_pred = b_size\n",
        "    bert_tokenizer = AutoTokenizer.from_pretrained(model_type)\n",
        "    time1 = time.time()\n",
        "\n",
        "    for step in range(len(sentences)//batch_size) :\n",
        "        idx = step*batch_size\n",
        "        input_ids, token_type_ids, attention_mask, bert_inp_tot = bert_inp_fct(sentences[idx:idx+batch_size], \n",
        "                                                                      bert_tokenizer, max_length)\n",
        "        \n",
        "        if mode=='HF' :    # Bert HuggingFace\n",
        "            outputs = model.predict([input_ids, attention_mask, token_type_ids], batch_size=batch_size_pred)\n",
        "            last_hidden_states = outputs.last_hidden_state\n",
        "\n",
        "        if mode=='TFhub' : # Bert Tensorflow Hub\n",
        "            text_preprocessed = {\"input_word_ids\" : input_ids, \n",
        "                                 \"input_mask\" : attention_mask, \n",
        "                                 \"input_type_ids\" : token_type_ids}\n",
        "            outputs = model(text_preprocessed)\n",
        "            last_hidden_states = outputs['sequence_output']\n",
        "             \n",
        "        if step ==0 :\n",
        "            last_hidden_states_tot = last_hidden_states\n",
        "            last_hidden_states_tot_0 = last_hidden_states\n",
        "        else :\n",
        "            last_hidden_states_tot = np.concatenate((last_hidden_states_tot,last_hidden_states))\n",
        "    \n",
        "    features_bert = np.array(last_hidden_states_tot).mean(axis=1)\n",
        "    \n",
        "    time2 = np.round(time.time() - time1,0)\n",
        "    print(\"temps traitement : \", time2)\n",
        "     \n",
        "    return features_bert, last_hidden_states_tot"
      ]
    },
    {
      "cell_type": "code",
      "execution_count": null,
      "metadata": {
        "id": "H5BqLxc7_fWh"
      },
      "outputs": [],
      "source": [
        "stop"
      ]
    },
    {
      "cell_type": "markdown",
      "metadata": {
        "id": "H5CA4hQuZfk5"
      },
      "source": [
        "#### 7 - 2 - 1 - BERT HuggingFace"
      ]
    },
    {
      "cell_type": "code",
      "source": [
        "max_length = 16\n",
        "batch_size = 10\n",
        "model_type = 'bert-base-uncased'\n",
        "model = TFAutoModel.from_pretrained(model_type)"
      ],
      "metadata": {
        "id": "16iadSODrJOJ"
      },
      "execution_count": null,
      "outputs": []
    },
    {
      "cell_type": "code",
      "execution_count": null,
      "metadata": {
        "id": "DEaVJHl9f-w6"
      },
      "outputs": [],
      "source": [
        "def clean_tags(tags):\n",
        "    # Separate tags\n",
        "    pattern_brackets = r\"\\<.*?\\>\"\n",
        "    tags_separated = re.findall(pattern_brackets, tags)\n",
        "    # Remove brackets\n",
        "    pattern_remove_brackets = r'[<>]'\n",
        "    tags_cleaned = [re.sub(pattern_remove_brackets, '', word) for word in tags_separated]\n",
        "    return tags_cleaned"
      ]
    },
    {
      "cell_type": "code",
      "execution_count": null,
      "metadata": {
        "id": "_qHI_jfIgCYJ"
      },
      "outputs": [],
      "source": [
        "query_results[\"tags_cleaned_selected\"] = query_results.Tags.apply(clean_tags)"
      ]
    },
    {
      "cell_type": "code",
      "execution_count": null,
      "metadata": {
        "id": "5rD8XEo1gzrW"
      },
      "outputs": [],
      "source": [
        "nb_lignes_select = 5000\n",
        "data_l_cat = query_results[0:nb_lignes_select]\n",
        "l_cat = [tuple(i) for i in data_l_cat['tags_cleaned_selected']]\n",
        "y_cat_num = [(1-l_cat.index(tuple(data_l_cat.iloc[i]['tags_cleaned_selected']))) for i in range(len(data_l_cat))]\n",
        "\n",
        "#l_cat = list(set(data_T['airline_sentiment']))\n",
        "#print(\"catégories : \", l_cat)\n",
        "#y_cat_num = [(1-l_cat.index(data_T.iloc[i]['airline_sentiment'])) for i in range(len(data_T))]"
      ]
    },
    {
      "cell_type": "code",
      "execution_count": null,
      "metadata": {
        "id": "ljc1uwBVDF6E"
      },
      "outputs": [],
      "source": [
        "sentences = query_results['body_bert_use'].astype(str).to_list()\n",
        "\n",
        "# Select first 1000 rows because BERT is slow\n",
        "selected_sentences = sentences[0:nb_lignes_select]\n",
        "l_cat = list(set(l_cat))"
      ]
    },
    {
      "cell_type": "code",
      "execution_count": null,
      "metadata": {
        "id": "qfUAIiwWZfk5",
        "colab": {
          "base_uri": "https://localhost:8080/",
          "height": 1000,
          "referenced_widgets": [
            "7e59a7191dc54aa2ba5014028e725c78",
            "14feafb37042438fa8693f3b94e14b13",
            "76577c5e4eb046148e20f9e9931fba74",
            "98d80ddebd5743638b54288a86039931",
            "6e07988ed2aa48209cdb56cc5cf1554a",
            "fa1a54134ce649e1861e7275526fbd88",
            "4a6fadf2fb5d4325b5a23a59dff6b460",
            "1e6f066ac00e4ef0b38ad82234ae45e6",
            "5534767f9ed245728e8b9d4fe64ad26a",
            "cea844fd6dea4ac68076f653f0bb2f56",
            "e4844f0533304cb499a01d324e986cd1",
            "54ca9f2a6364419297a99e5a9d898562",
            "adc044cb67f94f0ca250e4392e64b579",
            "0868ab6e885e4b6f86738d9dd295404e",
            "d033ff4fb8b24b5291752786f6bdf1e0",
            "32f7d060da9543ebabed0fda6ad19768",
            "47b1d6922286494a81e09421e0489266",
            "ec787b99edfd4527b6c20c1fea1ad263",
            "1089d2fc50cc42ed8c90da4869713478",
            "bec0543c43454425bdbedf3cfff43327",
            "253fd5ef00da4553b7c861d91c98163f",
            "9d8d678df36645b8b3181a027e7be784",
            "9debd35392424bbfa9603bbffa3316de",
            "ea83d25945ad4452a7e2aaea112fd9c4",
            "15bcfcf0c8d944a59d8751118126c105",
            "66b65fb6b0bc4225ad2ae4cce38c734d",
            "773f96a0d4014b5293f0e6db211f385a",
            "e8028e0ee3b94322a1bfeec2db198600",
            "79a1e1cc641440b5b4c8f4966559a701",
            "de3a3df2461f4b8898a13d2a24e8ea15",
            "89ccf17234cf46baae2f4cebad674ba1",
            "2bc1ca30b91e4bfa92238a948d7487c2",
            "83bb04719eef4893809ad286c015cc6b"
          ]
        },
        "outputId": "ecf8a247-a7d1-482a-f072-3ef692e4e804"
      },
      "outputs": [
        {
          "output_type": "display_data",
          "data": {
            "text/plain": [
              "Downloading:   0%|          | 0.00/28.0 [00:00<?, ?B/s]"
            ],
            "application/vnd.jupyter.widget-view+json": {
              "version_major": 2,
              "version_minor": 0,
              "model_id": "7e59a7191dc54aa2ba5014028e725c78"
            }
          },
          "metadata": {}
        },
        {
          "output_type": "display_data",
          "data": {
            "text/plain": [
              "Downloading:   0%|          | 0.00/232k [00:00<?, ?B/s]"
            ],
            "application/vnd.jupyter.widget-view+json": {
              "version_major": 2,
              "version_minor": 0,
              "model_id": "54ca9f2a6364419297a99e5a9d898562"
            }
          },
          "metadata": {}
        },
        {
          "output_type": "display_data",
          "data": {
            "text/plain": [
              "Downloading:   0%|          | 0.00/466k [00:00<?, ?B/s]"
            ],
            "application/vnd.jupyter.widget-view+json": {
              "version_major": 2,
              "version_minor": 0,
              "model_id": "9debd35392424bbfa9603bbffa3316de"
            }
          },
          "metadata": {}
        },
        {
          "output_type": "stream",
          "name": "stdout",
          "text": [
            "1/1 [==============================] - 8s 8s/step\n",
            "1/1 [==============================] - 1s 622ms/step\n",
            "1/1 [==============================] - 1s 600ms/step\n",
            "1/1 [==============================] - 1s 641ms/step\n",
            "1/1 [==============================] - 1s 608ms/step\n",
            "1/1 [==============================] - 1s 620ms/step\n",
            "1/1 [==============================] - 1s 646ms/step\n",
            "1/1 [==============================] - 1s 641ms/step\n",
            "1/1 [==============================] - 1s 603ms/step\n",
            "1/1 [==============================] - 1s 632ms/step\n",
            "1/1 [==============================] - 1s 653ms/step\n",
            "1/1 [==============================] - 1s 597ms/step\n",
            "1/1 [==============================] - 1s 648ms/step\n",
            "1/1 [==============================] - 1s 633ms/step\n",
            "1/1 [==============================] - 2s 2s/step\n",
            "1/1 [==============================] - 1s 658ms/step\n",
            "1/1 [==============================] - 1s 675ms/step\n",
            "1/1 [==============================] - 1s 655ms/step\n",
            "1/1 [==============================] - 1s 670ms/step\n",
            "1/1 [==============================] - 1s 638ms/step\n",
            "1/1 [==============================] - 1s 674ms/step\n",
            "1/1 [==============================] - 1s 662ms/step\n",
            "1/1 [==============================] - 1s 608ms/step\n",
            "1/1 [==============================] - 1s 638ms/step\n",
            "1/1 [==============================] - 1s 629ms/step\n",
            "1/1 [==============================] - 1s 646ms/step\n",
            "1/1 [==============================] - 1s 611ms/step\n",
            "1/1 [==============================] - 1s 675ms/step\n",
            "1/1 [==============================] - 1s 681ms/step\n",
            "1/1 [==============================] - 1s 1s/step\n",
            "1/1 [==============================] - 1s 1s/step\n",
            "1/1 [==============================] - 1s 789ms/step\n",
            "1/1 [==============================] - 1s 638ms/step\n",
            "1/1 [==============================] - 1s 609ms/step\n",
            "1/1 [==============================] - 1s 627ms/step\n",
            "1/1 [==============================] - 1s 627ms/step\n",
            "1/1 [==============================] - 1s 662ms/step\n",
            "1/1 [==============================] - 1s 618ms/step\n",
            "1/1 [==============================] - 1s 607ms/step\n",
            "1/1 [==============================] - 1s 663ms/step\n",
            "1/1 [==============================] - 1s 669ms/step\n",
            "1/1 [==============================] - 1s 637ms/step\n",
            "1/1 [==============================] - 1s 665ms/step\n",
            "1/1 [==============================] - 1s 650ms/step\n",
            "1/1 [==============================] - 1s 628ms/step\n",
            "1/1 [==============================] - 1s 611ms/step\n",
            "1/1 [==============================] - 1s 641ms/step\n",
            "1/1 [==============================] - 1s 691ms/step\n",
            "1/1 [==============================] - 1s 631ms/step\n",
            "1/1 [==============================] - 1s 645ms/step\n",
            "1/1 [==============================] - 1s 658ms/step\n",
            "1/1 [==============================] - 1s 632ms/step\n",
            "1/1 [==============================] - 1s 609ms/step\n",
            "1/1 [==============================] - 1s 622ms/step\n",
            "1/1 [==============================] - 1s 614ms/step\n",
            "1/1 [==============================] - 1s 607ms/step\n",
            "1/1 [==============================] - 1s 626ms/step\n",
            "1/1 [==============================] - 1s 606ms/step\n",
            "1/1 [==============================] - 1s 599ms/step\n",
            "1/1 [==============================] - 1s 623ms/step\n",
            "1/1 [==============================] - 1s 675ms/step\n",
            "1/1 [==============================] - 1s 666ms/step\n",
            "1/1 [==============================] - 1s 663ms/step\n",
            "1/1 [==============================] - 1s 669ms/step\n",
            "1/1 [==============================] - 1s 609ms/step\n",
            "1/1 [==============================] - 1s 669ms/step\n",
            "1/1 [==============================] - 1s 662ms/step\n",
            "1/1 [==============================] - 1s 982ms/step\n",
            "1/1 [==============================] - 1s 1s/step\n",
            "1/1 [==============================] - 1s 1s/step\n",
            "1/1 [==============================] - 1s 1s/step\n",
            "1/1 [==============================] - 1s 820ms/step\n",
            "1/1 [==============================] - 1s 656ms/step\n",
            "1/1 [==============================] - 1s 644ms/step\n",
            "1/1 [==============================] - 1s 652ms/step\n",
            "1/1 [==============================] - 1s 592ms/step\n",
            "1/1 [==============================] - 1s 624ms/step\n",
            "1/1 [==============================] - 1s 627ms/step\n",
            "1/1 [==============================] - 1s 602ms/step\n",
            "1/1 [==============================] - 1s 623ms/step\n",
            "1/1 [==============================] - 1s 626ms/step\n",
            "1/1 [==============================] - 1s 602ms/step\n",
            "1/1 [==============================] - 1s 605ms/step\n",
            "1/1 [==============================] - 1s 619ms/step\n",
            "1/1 [==============================] - 1s 600ms/step\n",
            "1/1 [==============================] - 1s 598ms/step\n",
            "1/1 [==============================] - 1s 670ms/step\n",
            "1/1 [==============================] - 1s 663ms/step\n",
            "1/1 [==============================] - 1s 641ms/step\n",
            "1/1 [==============================] - 1s 594ms/step\n",
            "1/1 [==============================] - 1s 608ms/step\n",
            "1/1 [==============================] - 1s 621ms/step\n",
            "1/1 [==============================] - 1s 602ms/step\n",
            "1/1 [==============================] - 1s 650ms/step\n",
            "1/1 [==============================] - 1s 605ms/step\n",
            "1/1 [==============================] - 1s 662ms/step\n",
            "1/1 [==============================] - 1s 693ms/step\n",
            "1/1 [==============================] - 1s 681ms/step\n",
            "1/1 [==============================] - 1s 623ms/step\n",
            "1/1 [==============================] - 1s 662ms/step\n",
            "1/1 [==============================] - 1s 676ms/step\n",
            "1/1 [==============================] - 1s 680ms/step\n",
            "1/1 [==============================] - 1s 673ms/step\n",
            "1/1 [==============================] - 1s 616ms/step\n",
            "1/1 [==============================] - 1s 663ms/step\n",
            "1/1 [==============================] - 1s 663ms/step\n",
            "1/1 [==============================] - 1s 667ms/step\n",
            "1/1 [==============================] - 1s 699ms/step\n",
            "1/1 [==============================] - 1s 656ms/step\n",
            "1/1 [==============================] - 1s 660ms/step\n",
            "1/1 [==============================] - 1s 661ms/step\n",
            "1/1 [==============================] - 1s 676ms/step\n",
            "1/1 [==============================] - 1s 677ms/step\n",
            "1/1 [==============================] - 1s 672ms/step\n",
            "1/1 [==============================] - 1s 669ms/step\n",
            "1/1 [==============================] - 1s 655ms/step\n",
            "1/1 [==============================] - 1s 612ms/step\n",
            "1/1 [==============================] - 1s 684ms/step\n",
            "1/1 [==============================] - 1s 694ms/step\n",
            "1/1 [==============================] - 1s 657ms/step\n",
            "1/1 [==============================] - 1s 647ms/step\n",
            "1/1 [==============================] - 1s 794ms/step\n",
            "1/1 [==============================] - 1s 648ms/step\n",
            "1/1 [==============================] - 1s 614ms/step\n",
            "1/1 [==============================] - 1s 617ms/step\n",
            "1/1 [==============================] - 1s 624ms/step\n",
            "1/1 [==============================] - 1s 648ms/step\n",
            "1/1 [==============================] - 2s 2s/step\n",
            "1/1 [==============================] - 1s 1s/step\n",
            "1/1 [==============================] - 1s 996ms/step\n",
            "1/1 [==============================] - 1s 1s/step\n",
            "1/1 [==============================] - 1s 961ms/step\n",
            "1/1 [==============================] - 1s 1s/step\n",
            "1/1 [==============================] - 1s 1s/step\n",
            "1/1 [==============================] - 1s 1s/step\n",
            "1/1 [==============================] - 1s 660ms/step\n",
            "1/1 [==============================] - 1s 665ms/step\n",
            "1/1 [==============================] - 1s 697ms/step\n",
            "1/1 [==============================] - 1s 683ms/step\n",
            "1/1 [==============================] - 1s 621ms/step\n",
            "1/1 [==============================] - 1s 700ms/step\n",
            "1/1 [==============================] - 1s 664ms/step\n",
            "1/1 [==============================] - 1s 677ms/step\n",
            "1/1 [==============================] - 1s 665ms/step\n",
            "1/1 [==============================] - 1s 650ms/step\n",
            "1/1 [==============================] - 1s 677ms/step\n",
            "1/1 [==============================] - 1s 667ms/step\n",
            "1/1 [==============================] - 1s 623ms/step\n",
            "1/1 [==============================] - 1s 623ms/step\n",
            "1/1 [==============================] - 1s 613ms/step\n",
            "1/1 [==============================] - 1s 730ms/step\n",
            "1/1 [==============================] - 1s 1s/step\n",
            "1/1 [==============================] - 1s 1s/step\n",
            "1/1 [==============================] - 1s 1s/step\n",
            "1/1 [==============================] - 1s 989ms/step\n",
            "1/1 [==============================] - 1s 990ms/step\n",
            "1/1 [==============================] - 1s 985ms/step\n",
            "1/1 [==============================] - 1s 1s/step\n",
            "1/1 [==============================] - 1s 1s/step\n",
            "1/1 [==============================] - 1s 1s/step\n",
            "1/1 [==============================] - 1s 1s/step\n",
            "1/1 [==============================] - 1s 1s/step\n",
            "1/1 [==============================] - 1s 1s/step\n",
            "1/1 [==============================] - 1s 1s/step\n",
            "1/1 [==============================] - 1s 966ms/step\n",
            "1/1 [==============================] - 1s 1s/step\n",
            "1/1 [==============================] - 1s 683ms/step\n",
            "1/1 [==============================] - 1s 655ms/step\n",
            "1/1 [==============================] - 1s 1s/step\n",
            "1/1 [==============================] - 1s 1s/step\n",
            "1/1 [==============================] - 2s 2s/step\n",
            "1/1 [==============================] - 2s 2s/step\n",
            "1/1 [==============================] - 1s 1s/step\n",
            "1/1 [==============================] - 1s 1s/step\n",
            "1/1 [==============================] - 1s 1s/step\n",
            "1/1 [==============================] - 2s 2s/step\n",
            "1/1 [==============================] - 2s 2s/step\n",
            "1/1 [==============================] - 2s 2s/step\n",
            "1/1 [==============================] - 1s 1s/step\n",
            "1/1 [==============================] - 2s 2s/step\n",
            "1/1 [==============================] - 2s 2s/step\n",
            "1/1 [==============================] - 1s 1s/step\n",
            "1/1 [==============================] - 1s 1s/step\n",
            "1/1 [==============================] - 1s 1s/step\n",
            "1/1 [==============================] - 1s 606ms/step\n",
            "1/1 [==============================] - 1s 660ms/step\n",
            "1/1 [==============================] - 1s 650ms/step\n",
            "1/1 [==============================] - 1s 663ms/step\n",
            "1/1 [==============================] - 1s 631ms/step\n",
            "1/1 [==============================] - 1s 614ms/step\n",
            "1/1 [==============================] - 1s 622ms/step\n",
            "1/1 [==============================] - 1s 613ms/step\n",
            "1/1 [==============================] - 1s 609ms/step\n",
            "1/1 [==============================] - 1s 621ms/step\n",
            "1/1 [==============================] - 1s 621ms/step\n",
            "1/1 [==============================] - 1s 618ms/step\n",
            "1/1 [==============================] - 1s 659ms/step\n",
            "1/1 [==============================] - 1s 642ms/step\n",
            "1/1 [==============================] - 1s 646ms/step\n",
            "1/1 [==============================] - 1s 653ms/step\n",
            "1/1 [==============================] - 1s 629ms/step\n",
            "1/1 [==============================] - 1s 620ms/step\n",
            "1/1 [==============================] - 1s 620ms/step\n",
            "1/1 [==============================] - 1s 611ms/step\n",
            "1/1 [==============================] - 1s 614ms/step\n",
            "1/1 [==============================] - 1s 628ms/step\n",
            "1/1 [==============================] - 1s 673ms/step\n",
            "1/1 [==============================] - 1s 658ms/step\n",
            "1/1 [==============================] - 1s 648ms/step\n",
            "1/1 [==============================] - 1s 675ms/step\n",
            "1/1 [==============================] - 1s 650ms/step\n",
            "1/1 [==============================] - 1s 624ms/step\n",
            "1/1 [==============================] - 1s 873ms/step\n",
            "1/1 [==============================] - 1s 1s/step\n",
            "1/1 [==============================] - 1s 957ms/step\n",
            "1/1 [==============================] - 1s 1s/step\n",
            "1/1 [==============================] - 1s 1s/step\n",
            "1/1 [==============================] - 1s 1s/step\n",
            "1/1 [==============================] - 1s 1s/step\n",
            "1/1 [==============================] - 1s 1s/step\n",
            "1/1 [==============================] - 2s 2s/step\n",
            "1/1 [==============================] - 1s 1s/step\n",
            "1/1 [==============================] - 1s 1s/step\n",
            "1/1 [==============================] - 1s 1s/step\n",
            "1/1 [==============================] - 1s 977ms/step\n",
            "1/1 [==============================] - 1s 1s/step\n",
            "1/1 [==============================] - 1s 1s/step\n",
            "1/1 [==============================] - 1s 1s/step\n",
            "1/1 [==============================] - 1s 1s/step\n",
            "1/1 [==============================] - 2s 2s/step\n",
            "1/1 [==============================] - 1s 626ms/step\n",
            "1/1 [==============================] - 1s 630ms/step\n",
            "1/1 [==============================] - 1s 623ms/step\n",
            "1/1 [==============================] - 1s 604ms/step\n",
            "1/1 [==============================] - 1s 605ms/step\n",
            "1/1 [==============================] - 1s 659ms/step\n",
            "1/1 [==============================] - 1s 791ms/step\n",
            "1/1 [==============================] - 1s 629ms/step\n",
            "1/1 [==============================] - 1s 706ms/step\n",
            "1/1 [==============================] - 1s 654ms/step\n",
            "1/1 [==============================] - 1s 652ms/step\n",
            "1/1 [==============================] - 1s 632ms/step\n",
            "1/1 [==============================] - 1s 641ms/step\n",
            "1/1 [==============================] - 1s 675ms/step\n",
            "1/1 [==============================] - 1s 700ms/step\n",
            "1/1 [==============================] - 1s 648ms/step\n",
            "1/1 [==============================] - 1s 1s/step\n",
            "1/1 [==============================] - 1s 951ms/step\n",
            "1/1 [==============================] - 1s 993ms/step\n",
            "1/1 [==============================] - 1s 988ms/step\n",
            "1/1 [==============================] - 1s 1s/step\n",
            "1/1 [==============================] - 1s 1s/step\n",
            "1/1 [==============================] - 1s 1s/step\n",
            "1/1 [==============================] - 1s 1s/step\n",
            "1/1 [==============================] - 1s 1s/step\n",
            "1/1 [==============================] - 1s 1s/step\n",
            "1/1 [==============================] - 1s 1s/step\n",
            "1/1 [==============================] - 1s 1s/step\n",
            "1/1 [==============================] - 1s 1s/step\n",
            "1/1 [==============================] - 1s 953ms/step\n",
            "1/1 [==============================] - 1s 650ms/step\n",
            "1/1 [==============================] - 1s 604ms/step\n",
            "1/1 [==============================] - 1s 623ms/step\n",
            "1/1 [==============================] - 1s 639ms/step\n",
            "1/1 [==============================] - 1s 1s/step\n",
            "1/1 [==============================] - 1s 959ms/step\n",
            "1/1 [==============================] - 1s 1s/step\n",
            "1/1 [==============================] - 1s 1s/step\n",
            "1/1 [==============================] - 1s 1s/step\n",
            "1/1 [==============================] - 1s 1s/step\n",
            "1/1 [==============================] - 1s 987ms/step\n",
            "1/1 [==============================] - 1s 1s/step\n",
            "1/1 [==============================] - 2s 2s/step\n",
            "1/1 [==============================] - 2s 2s/step\n",
            "1/1 [==============================] - 1s 1s/step\n",
            "1/1 [==============================] - 1s 1s/step\n",
            "1/1 [==============================] - 1s 1s/step\n",
            "1/1 [==============================] - 1s 1s/step\n",
            "1/1 [==============================] - 1s 1s/step\n",
            "1/1 [==============================] - 1s 1s/step\n",
            "1/1 [==============================] - 1s 983ms/step\n",
            "1/1 [==============================] - 1s 1s/step\n",
            "1/1 [==============================] - 1s 1s/step\n",
            "1/1 [==============================] - 1s 1s/step\n",
            "1/1 [==============================] - 1s 962ms/step\n",
            "1/1 [==============================] - 1s 616ms/step\n",
            "1/1 [==============================] - 1s 608ms/step\n",
            "1/1 [==============================] - 1s 647ms/step\n",
            "1/1 [==============================] - 1s 652ms/step\n",
            "1/1 [==============================] - 1s 668ms/step\n",
            "1/1 [==============================] - 1s 665ms/step\n",
            "1/1 [==============================] - 1s 669ms/step\n",
            "1/1 [==============================] - 1s 624ms/step\n",
            "1/1 [==============================] - 1s 621ms/step\n",
            "1/1 [==============================] - 1s 622ms/step\n",
            "1/1 [==============================] - 1s 607ms/step\n",
            "1/1 [==============================] - 1s 645ms/step\n",
            "1/1 [==============================] - 1s 642ms/step\n",
            "1/1 [==============================] - 1s 677ms/step\n",
            "1/1 [==============================] - 1s 644ms/step\n",
            "1/1 [==============================] - 1s 624ms/step\n",
            "1/1 [==============================] - 1s 1s/step\n",
            "1/1 [==============================] - 1s 677ms/step\n",
            "1/1 [==============================] - 1s 638ms/step\n",
            "1/1 [==============================] - 1s 630ms/step\n",
            "1/1 [==============================] - 1s 637ms/step\n",
            "1/1 [==============================] - 1s 668ms/step\n",
            "1/1 [==============================] - 1s 611ms/step\n",
            "1/1 [==============================] - 1s 619ms/step\n",
            "1/1 [==============================] - 1s 617ms/step\n",
            "1/1 [==============================] - 1s 619ms/step\n",
            "1/1 [==============================] - 1s 600ms/step\n",
            "1/1 [==============================] - 1s 620ms/step\n",
            "1/1 [==============================] - 1s 620ms/step\n",
            "1/1 [==============================] - 1s 631ms/step\n",
            "1/1 [==============================] - 1s 912ms/step\n",
            "1/1 [==============================] - 1s 1s/step\n",
            "1/1 [==============================] - 1s 718ms/step\n",
            "1/1 [==============================] - 1s 692ms/step\n",
            "1/1 [==============================] - 1s 703ms/step\n",
            "1/1 [==============================] - 1s 804ms/step\n",
            "1/1 [==============================] - 1s 1s/step\n",
            "1/1 [==============================] - 1s 1s/step\n",
            "1/1 [==============================] - 1s 643ms/step\n",
            "1/1 [==============================] - 1s 636ms/step\n",
            "1/1 [==============================] - 1s 673ms/step\n",
            "1/1 [==============================] - 1s 663ms/step\n",
            "1/1 [==============================] - 1s 682ms/step\n",
            "1/1 [==============================] - 1s 670ms/step\n",
            "1/1 [==============================] - 1s 662ms/step\n",
            "1/1 [==============================] - 1s 666ms/step\n",
            "1/1 [==============================] - 1s 674ms/step\n",
            "1/1 [==============================] - 1s 679ms/step\n",
            "1/1 [==============================] - 1s 622ms/step\n",
            "1/1 [==============================] - 1s 661ms/step\n",
            "1/1 [==============================] - 1s 642ms/step\n",
            "1/1 [==============================] - 1s 629ms/step\n",
            "1/1 [==============================] - 1s 632ms/step\n",
            "1/1 [==============================] - 1s 627ms/step\n",
            "1/1 [==============================] - 1s 648ms/step\n",
            "1/1 [==============================] - 1s 645ms/step\n",
            "1/1 [==============================] - 1s 694ms/step\n",
            "1/1 [==============================] - 1s 649ms/step\n",
            "1/1 [==============================] - 1s 644ms/step\n",
            "1/1 [==============================] - 1s 650ms/step\n",
            "1/1 [==============================] - 1s 646ms/step\n",
            "1/1 [==============================] - 1s 627ms/step\n",
            "1/1 [==============================] - 1s 618ms/step\n",
            "1/1 [==============================] - 1s 607ms/step\n",
            "1/1 [==============================] - 1s 607ms/step\n",
            "1/1 [==============================] - 1s 616ms/step\n",
            "1/1 [==============================] - 1s 618ms/step\n",
            "1/1 [==============================] - 1s 656ms/step\n",
            "1/1 [==============================] - 1s 671ms/step\n",
            "1/1 [==============================] - 1s 689ms/step\n",
            "1/1 [==============================] - 1s 729ms/step\n",
            "1/1 [==============================] - 1s 644ms/step\n",
            "1/1 [==============================] - 1s 652ms/step\n",
            "1/1 [==============================] - 1s 688ms/step\n",
            "1/1 [==============================] - 1s 913ms/step\n",
            "1/1 [==============================] - 1s 1s/step\n",
            "1/1 [==============================] - 1s 1s/step\n",
            "1/1 [==============================] - 1s 1s/step\n",
            "1/1 [==============================] - 1s 1s/step\n",
            "1/1 [==============================] - 1s 974ms/step\n",
            "1/1 [==============================] - 1s 1s/step\n",
            "1/1 [==============================] - 1s 1s/step\n",
            "1/1 [==============================] - 1s 1s/step\n",
            "1/1 [==============================] - 1s 1s/step\n",
            "1/1 [==============================] - 1s 1s/step\n",
            "1/1 [==============================] - 1s 996ms/step\n",
            "1/1 [==============================] - 1s 973ms/step\n",
            "1/1 [==============================] - 1s 954ms/step\n",
            "1/1 [==============================] - 1s 985ms/step\n",
            "1/1 [==============================] - 1s 937ms/step\n",
            "1/1 [==============================] - 1s 714ms/step\n",
            "1/1 [==============================] - 1s 660ms/step\n",
            "1/1 [==============================] - 1s 643ms/step\n",
            "1/1 [==============================] - 1s 672ms/step\n",
            "1/1 [==============================] - 1s 1s/step\n",
            "1/1 [==============================] - 1s 1s/step\n",
            "1/1 [==============================] - 1s 1s/step\n",
            "1/1 [==============================] - 1s 983ms/step\n",
            "1/1 [==============================] - 1s 653ms/step\n",
            "1/1 [==============================] - 1s 630ms/step\n",
            "1/1 [==============================] - 1s 874ms/step\n",
            "1/1 [==============================] - 1s 839ms/step\n",
            "1/1 [==============================] - 1s 984ms/step\n",
            "1/1 [==============================] - 1s 1s/step\n",
            "1/1 [==============================] - 1s 981ms/step\n",
            "1/1 [==============================] - 2s 2s/step\n",
            "1/1 [==============================] - 1s 1s/step\n",
            "1/1 [==============================] - 1s 1s/step\n",
            "1/1 [==============================] - 1s 1s/step\n",
            "1/1 [==============================] - 1s 1s/step\n",
            "1/1 [==============================] - 1s 1s/step\n",
            "1/1 [==============================] - 1s 1s/step\n",
            "1/1 [==============================] - 1s 1s/step\n",
            "1/1 [==============================] - 1s 1s/step\n",
            "1/1 [==============================] - 1s 1s/step\n",
            "1/1 [==============================] - 1s 1s/step\n",
            "1/1 [==============================] - 1s 1s/step\n",
            "1/1 [==============================] - 1s 1s/step\n",
            "1/1 [==============================] - 1s 1s/step\n",
            "1/1 [==============================] - 1s 1s/step\n",
            "1/1 [==============================] - 1s 1s/step\n",
            "1/1 [==============================] - 1s 1s/step\n",
            "1/1 [==============================] - 1s 1s/step\n",
            "1/1 [==============================] - 1s 781ms/step\n",
            "1/1 [==============================] - 1s 633ms/step\n",
            "1/1 [==============================] - 1s 643ms/step\n",
            "1/1 [==============================] - 1s 652ms/step\n",
            "1/1 [==============================] - 1s 671ms/step\n",
            "1/1 [==============================] - 1s 1s/step\n",
            "1/1 [==============================] - 1s 1s/step\n",
            "1/1 [==============================] - 1s 1s/step\n",
            "1/1 [==============================] - 1s 1s/step\n",
            "1/1 [==============================] - 1s 957ms/step\n",
            "1/1 [==============================] - 1s 1s/step\n",
            "1/1 [==============================] - 1s 1s/step\n",
            "1/1 [==============================] - 1s 1s/step\n",
            "1/1 [==============================] - 1s 985ms/step\n",
            "1/1 [==============================] - 1s 938ms/step\n",
            "1/1 [==============================] - 1s 1s/step\n",
            "1/1 [==============================] - 1s 1s/step\n",
            "1/1 [==============================] - 1s 789ms/step\n",
            "1/1 [==============================] - 1s 661ms/step\n",
            "1/1 [==============================] - 1s 732ms/step\n",
            "1/1 [==============================] - 1s 695ms/step\n",
            "1/1 [==============================] - 1s 649ms/step\n",
            "1/1 [==============================] - 1s 595ms/step\n",
            "1/1 [==============================] - 1s 615ms/step\n",
            "1/1 [==============================] - 1s 665ms/step\n",
            "1/1 [==============================] - 1s 1s/step\n",
            "1/1 [==============================] - 1s 983ms/step\n",
            "1/1 [==============================] - 1s 768ms/step\n",
            "1/1 [==============================] - 1s 1s/step\n",
            "1/1 [==============================] - 1s 1s/step\n",
            "1/1 [==============================] - 1s 1s/step\n",
            "1/1 [==============================] - 1s 1s/step\n",
            "1/1 [==============================] - 1s 1s/step\n",
            "1/1 [==============================] - 2s 2s/step\n",
            "1/1 [==============================] - 1s 1s/step\n",
            "1/1 [==============================] - 1s 1s/step\n",
            "1/1 [==============================] - 1s 1s/step\n",
            "1/1 [==============================] - 1s 1s/step\n",
            "1/1 [==============================] - 1s 1s/step\n",
            "1/1 [==============================] - 1s 1s/step\n",
            "1/1 [==============================] - 1s 1s/step\n",
            "1/1 [==============================] - 2s 2s/step\n",
            "1/1 [==============================] - 1s 1s/step\n",
            "1/1 [==============================] - 1s 1s/step\n",
            "1/1 [==============================] - 2s 2s/step\n",
            "1/1 [==============================] - 1s 1s/step\n",
            "1/1 [==============================] - 1s 1s/step\n",
            "1/1 [==============================] - 1s 1s/step\n",
            "1/1 [==============================] - 1s 1s/step\n",
            "1/1 [==============================] - 1s 1s/step\n",
            "1/1 [==============================] - 2s 2s/step\n",
            "1/1 [==============================] - 1s 1s/step\n",
            "1/1 [==============================] - 2s 2s/step\n",
            "1/1 [==============================] - 2s 2s/step\n",
            "1/1 [==============================] - 2s 2s/step\n",
            "1/1 [==============================] - 1s 1s/step\n",
            "1/1 [==============================] - 1s 1s/step\n",
            "1/1 [==============================] - 1s 1s/step\n",
            "1/1 [==============================] - 1s 1s/step\n",
            "1/1 [==============================] - 2s 2s/step\n",
            "1/1 [==============================] - 1s 1s/step\n",
            "1/1 [==============================] - 2s 2s/step\n",
            "1/1 [==============================] - 1s 1s/step\n",
            "1/1 [==============================] - 1s 1s/step\n",
            "1/1 [==============================] - 1s 1s/step\n",
            "1/1 [==============================] - 1s 1s/step\n",
            "1/1 [==============================] - 1s 1s/step\n",
            "1/1 [==============================] - 1s 1s/step\n",
            "1/1 [==============================] - 1s 1s/step\n",
            "1/1 [==============================] - 1s 1s/step\n",
            "1/1 [==============================] - 1s 1s/step\n",
            "1/1 [==============================] - 1s 1s/step\n",
            "1/1 [==============================] - 1s 1s/step\n",
            "1/1 [==============================] - 1s 992ms/step\n",
            "1/1 [==============================] - 1s 1s/step\n",
            "1/1 [==============================] - 1s 1s/step\n",
            "1/1 [==============================] - 1s 979ms/step\n",
            "1/1 [==============================] - 1s 1s/step\n",
            "1/1 [==============================] - 1s 894ms/step\n",
            "1/1 [==============================] - 1s 630ms/step\n",
            "1/1 [==============================] - 1s 625ms/step\n",
            "1/1 [==============================] - 1s 615ms/step\n",
            "1/1 [==============================] - 1s 664ms/step\n",
            "1/1 [==============================] - 1s 653ms/step\n",
            "1/1 [==============================] - 1s 645ms/step\n",
            "1/1 [==============================] - 1s 626ms/step\n",
            "1/1 [==============================] - 1s 608ms/step\n",
            "1/1 [==============================] - 1s 675ms/step\n",
            "1/1 [==============================] - 1s 691ms/step\n",
            "1/1 [==============================] - 1s 700ms/step\n",
            "1/1 [==============================] - 1s 686ms/step\n",
            "1/1 [==============================] - 1s 640ms/step\n",
            "temps traitement :  609.0\n",
            "ARI :  0.025 time :  707.0\n"
          ]
        }
      ],
      "source": [
        "#Création des features\n",
        "\n",
        "features_bert, last_hidden_states_tot = feature_BERT_fct(model, model_type, selected_sentences, \n",
        "                                                         max_length, batch_size, mode='HF')\n",
        "\n",
        "ARI, X_tsne, labels = ARI_fct(features_bert)"
      ]
    },
    {
      "cell_type": "code",
      "execution_count": null,
      "metadata": {
        "id": "uNNT78a5FNXg"
      },
      "outputs": [],
      "source": [
        "# Matrice d'embedding\n",
        "df_bert_huggingface = pd.DataFrame(features_bert)\n",
        "df_bert_huggingface[\"tags\"] = query_results[\"tags_cleaned_selected\"][0:nb_lignes_select]"
      ]
    },
    {
      "cell_type": "code",
      "execution_count": null,
      "metadata": {
        "id": "VYqoyD2vyOw0"
      },
      "outputs": [],
      "source": [
        "# Exporter le BERT\n",
        "df_bert_huggingface.to_pickle(\"df_bert_huggingface.pkl\")"
      ]
    },
    {
      "cell_type": "code",
      "source": [
        "df_bert_huggingface.to_csv(\"df_bert_huggingface.csv\")"
      ],
      "metadata": {
        "id": "MboRV_GcHoRq"
      },
      "execution_count": null,
      "outputs": []
    },
    {
      "cell_type": "markdown",
      "metadata": {
        "id": "MVXt40BHZfk5"
      },
      "source": [
        "#### 7 - 2 - 2 - BERT hub Tensorflow"
      ]
    },
    {
      "cell_type": "code",
      "execution_count": null,
      "metadata": {
        "id": "4UG4oFh7Zfk5"
      },
      "outputs": [],
      "source": [
        "# import tensorflow_text \n",
        "\n",
        "# Guide sur le Tensorflow hub : https://www.tensorflow.org/text/tutorials/classify_text_with_bert\n",
        "model_url = 'https://tfhub.dev/tensorflow/bert_en_uncased_L-12_H-768_A-12/4'\n",
        "bert_layer = hub.KerasLayer(model_url, trainable=True)\n",
        "\n",
        "max_length = 64\n",
        "batch_size = 10\n",
        "model_type = 'bert-base-uncased'\n",
        "model = bert_layer"
      ]
    },
    {
      "cell_type": "code",
      "execution_count": null,
      "metadata": {
        "id": "8u5UNnkXZfk5",
        "colab": {
          "base_uri": "https://localhost:8080/"
        },
        "outputId": "dfb49824-02d1-4d7d-9c7d-58d10d0306ab"
      },
      "outputs": [
        {
          "output_type": "stream",
          "name": "stdout",
          "text": [
            "temps traitement :  1272.0\n"
          ]
        }
      ],
      "source": [
        "features_bert_tf, last_hidden_states_tot_tf = feature_BERT_fct(model, model_type, selected_sentences, \n",
        "                                                         max_length, batch_size, mode='TFhub')"
      ]
    },
    {
      "cell_type": "code",
      "execution_count": null,
      "metadata": {
        "id": "GJbKK4QqZfk6"
      },
      "outputs": [],
      "source": [
        "df_bert_hub_tensorflow = pd.DataFrame(features_bert_tf)\n",
        "df_bert_hub_tensorflow[\"tags\"] = query_results[\"tags_cleaned_selected\"][0:nb_lignes_select]"
      ]
    },
    {
      "cell_type": "code",
      "execution_count": null,
      "metadata": {
        "id": "zja2fhOQKfKD"
      },
      "outputs": [],
      "source": [
        "df_bert_hub_tensorflow.to_pickle(\"df_bert_hub_tensorflow.pkl\")"
      ]
    },
    {
      "cell_type": "code",
      "source": [
        "df_bert_hub_tensorflow.to_csv(\"df_bert_hub_tensorflow.csv\")"
      ],
      "metadata": {
        "id": "pLX24oyhH35l"
      },
      "execution_count": null,
      "outputs": []
    },
    {
      "cell_type": "markdown",
      "metadata": {
        "id": "tRsjR8NxZfk6"
      },
      "source": [
        "<a id=\"ch7-3\"></a>\n",
        "### 7 - 3 - USE - Universal Sentence Encoder"
      ]
    },
    {
      "cell_type": "code",
      "execution_count": null,
      "metadata": {
        "id": "FOKFcgLHZfk6"
      },
      "outputs": [],
      "source": [
        "import tensorflow_hub"
      ]
    },
    {
      "cell_type": "code",
      "execution_count": null,
      "metadata": {
        "id": "2EEILo0JZfk6"
      },
      "outputs": [],
      "source": [
        "embed = hub.load(\"https://tfhub.dev/google/universal-sentence-encoder/4\")"
      ]
    },
    {
      "cell_type": "code",
      "execution_count": null,
      "metadata": {
        "id": "eNCOTwCnZfk6"
      },
      "outputs": [],
      "source": [
        "def feature_USE_fct(sentences, b_size) :\n",
        "    batch_size = b_size\n",
        "    time1 = time.time()\n",
        "\n",
        "    for step in range(len(sentences)//batch_size+1) :\n",
        "        idx = step*batch_size # Divise par batch_size\n",
        "        feat = embed(sentences[idx:idx+batch_size])\n",
        "\n",
        "        if step ==0 :\n",
        "            features = feat\n",
        "        else :\n",
        "            features = np.concatenate((features,feat)) # Concatène les batchs divisés\n",
        "\n",
        "    time2 = np.round(time.time() - time1,0)\n",
        "    return features"
      ]
    },
    {
      "cell_type": "code",
      "execution_count": null,
      "metadata": {
        "id": "XdEzhCGnZfk6"
      },
      "outputs": [],
      "source": [
        "batch_size = 10\n",
        "sentences = query_results['body_bert_use'].to_list()"
      ]
    },
    {
      "cell_type": "code",
      "execution_count": null,
      "metadata": {
        "id": "zf4kM7hwZfk6"
      },
      "outputs": [],
      "source": [
        "features_USE = feature_USE_fct(sentences, batch_size)"
      ]
    },
    {
      "cell_type": "code",
      "execution_count": null,
      "metadata": {
        "id": "NQV94QJtZfk6"
      },
      "outputs": [],
      "source": [
        "# Matrice d'embedding\n",
        "df_use = pd.DataFrame(features_USE)"
      ]
    },
    {
      "cell_type": "code",
      "execution_count": null,
      "metadata": {
        "id": "-AamuASGbKMK"
      },
      "outputs": [],
      "source": [
        "df_use[\"tags\"] = query_results[\"tags_cleaned_selected\"]"
      ]
    },
    {
      "cell_type": "code",
      "execution_count": null,
      "metadata": {
        "id": "bpNjkNK1bcyy"
      },
      "outputs": [],
      "source": [
        "df_use"
      ]
    },
    {
      "cell_type": "code",
      "execution_count": null,
      "metadata": {
        "id": "nxNaZaJF79qb"
      },
      "outputs": [],
      "source": [
        "# Exporter le USE\n",
        "df_use.to_pickle(\"use_data2.pkl\")"
      ]
    },
    {
      "cell_type": "code",
      "source": [
        "df_use.to_csv(\"df_use.csv\")"
      ],
      "metadata": {
        "id": "9Mt3VUJ_IG09"
      },
      "execution_count": null,
      "outputs": []
    },
    {
      "cell_type": "code",
      "execution_count": null,
      "metadata": {
        "id": "ZJVuI7fX42Qe"
      },
      "outputs": [],
      "source": [
        "### 4 lignes manquent, ce sont les 4 du dernier batch, qui ne sont pas utilisés\n",
        "len(sentences)/10"
      ]
    },
    {
      "cell_type": "markdown",
      "metadata": {
        "id": "7n2RqIp1Zfk6"
      },
      "source": [
        "<a id=\"ch99\"></a>\n",
        "### Export"
      ]
    },
    {
      "cell_type": "code",
      "execution_count": null,
      "metadata": {
        "id": "HrMbF9aeZfk7"
      },
      "outputs": [],
      "source": [
        "to_export = query_results.copy()\n",
        "to_export.drop([\"Body\", \"Tags\", 'tags_cleaned'], axis=1, inplace=True)\n",
        "to_export.rename(columns={\"body_cleaned\":\"body\", \"tags_cleaned_selected\":\"tags\"}, inplace=True)"
      ]
    },
    {
      "cell_type": "code",
      "execution_count": null,
      "metadata": {
        "id": "9WivLMaNZfk7"
      },
      "outputs": [],
      "source": [
        "to_export.to_csv(\"query_cleaned.csv\", index=False)"
      ]
    }
  ],
  "metadata": {
    "colab": {
      "collapsed_sections": [
        "7n2RqIp1Zfk6"
      ],
      "provenance": []
    },
    "kernelspec": {
      "display_name": "Python 3.7.13",
      "language": "python",
      "name": "python3"
    },
    "language_info": {
      "codemirror_mode": {
        "name": "ipython",
        "version": 3
      },
      "file_extension": ".py",
      "mimetype": "text/x-python",
      "name": "python",
      "nbconvert_exporter": "python",
      "pygments_lexer": "ipython3",
      "version": "3.7.13"
    },
    "vscode": {
      "interpreter": {
        "hash": "dc1b947dce198ff7f2d2cb152b2cbb61132fce4429fa808fd5b89ac4d7df39fa"
      }
    },
    "widgets": {
      "application/vnd.jupyter.widget-state+json": {
        "7e59a7191dc54aa2ba5014028e725c78": {
          "model_module": "@jupyter-widgets/controls",
          "model_name": "HBoxModel",
          "model_module_version": "1.5.0",
          "state": {
            "_dom_classes": [],
            "_model_module": "@jupyter-widgets/controls",
            "_model_module_version": "1.5.0",
            "_model_name": "HBoxModel",
            "_view_count": null,
            "_view_module": "@jupyter-widgets/controls",
            "_view_module_version": "1.5.0",
            "_view_name": "HBoxView",
            "box_style": "",
            "children": [
              "IPY_MODEL_14feafb37042438fa8693f3b94e14b13",
              "IPY_MODEL_76577c5e4eb046148e20f9e9931fba74",
              "IPY_MODEL_98d80ddebd5743638b54288a86039931"
            ],
            "layout": "IPY_MODEL_6e07988ed2aa48209cdb56cc5cf1554a"
          }
        },
        "14feafb37042438fa8693f3b94e14b13": {
          "model_module": "@jupyter-widgets/controls",
          "model_name": "HTMLModel",
          "model_module_version": "1.5.0",
          "state": {
            "_dom_classes": [],
            "_model_module": "@jupyter-widgets/controls",
            "_model_module_version": "1.5.0",
            "_model_name": "HTMLModel",
            "_view_count": null,
            "_view_module": "@jupyter-widgets/controls",
            "_view_module_version": "1.5.0",
            "_view_name": "HTMLView",
            "description": "",
            "description_tooltip": null,
            "layout": "IPY_MODEL_fa1a54134ce649e1861e7275526fbd88",
            "placeholder": "​",
            "style": "IPY_MODEL_4a6fadf2fb5d4325b5a23a59dff6b460",
            "value": "Downloading: 100%"
          }
        },
        "76577c5e4eb046148e20f9e9931fba74": {
          "model_module": "@jupyter-widgets/controls",
          "model_name": "FloatProgressModel",
          "model_module_version": "1.5.0",
          "state": {
            "_dom_classes": [],
            "_model_module": "@jupyter-widgets/controls",
            "_model_module_version": "1.5.0",
            "_model_name": "FloatProgressModel",
            "_view_count": null,
            "_view_module": "@jupyter-widgets/controls",
            "_view_module_version": "1.5.0",
            "_view_name": "ProgressView",
            "bar_style": "success",
            "description": "",
            "description_tooltip": null,
            "layout": "IPY_MODEL_1e6f066ac00e4ef0b38ad82234ae45e6",
            "max": 28,
            "min": 0,
            "orientation": "horizontal",
            "style": "IPY_MODEL_5534767f9ed245728e8b9d4fe64ad26a",
            "value": 28
          }
        },
        "98d80ddebd5743638b54288a86039931": {
          "model_module": "@jupyter-widgets/controls",
          "model_name": "HTMLModel",
          "model_module_version": "1.5.0",
          "state": {
            "_dom_classes": [],
            "_model_module": "@jupyter-widgets/controls",
            "_model_module_version": "1.5.0",
            "_model_name": "HTMLModel",
            "_view_count": null,
            "_view_module": "@jupyter-widgets/controls",
            "_view_module_version": "1.5.0",
            "_view_name": "HTMLView",
            "description": "",
            "description_tooltip": null,
            "layout": "IPY_MODEL_cea844fd6dea4ac68076f653f0bb2f56",
            "placeholder": "​",
            "style": "IPY_MODEL_e4844f0533304cb499a01d324e986cd1",
            "value": " 28.0/28.0 [00:00&lt;00:00, 443B/s]"
          }
        },
        "6e07988ed2aa48209cdb56cc5cf1554a": {
          "model_module": "@jupyter-widgets/base",
          "model_name": "LayoutModel",
          "model_module_version": "1.2.0",
          "state": {
            "_model_module": "@jupyter-widgets/base",
            "_model_module_version": "1.2.0",
            "_model_name": "LayoutModel",
            "_view_count": null,
            "_view_module": "@jupyter-widgets/base",
            "_view_module_version": "1.2.0",
            "_view_name": "LayoutView",
            "align_content": null,
            "align_items": null,
            "align_self": null,
            "border": null,
            "bottom": null,
            "display": null,
            "flex": null,
            "flex_flow": null,
            "grid_area": null,
            "grid_auto_columns": null,
            "grid_auto_flow": null,
            "grid_auto_rows": null,
            "grid_column": null,
            "grid_gap": null,
            "grid_row": null,
            "grid_template_areas": null,
            "grid_template_columns": null,
            "grid_template_rows": null,
            "height": null,
            "justify_content": null,
            "justify_items": null,
            "left": null,
            "margin": null,
            "max_height": null,
            "max_width": null,
            "min_height": null,
            "min_width": null,
            "object_fit": null,
            "object_position": null,
            "order": null,
            "overflow": null,
            "overflow_x": null,
            "overflow_y": null,
            "padding": null,
            "right": null,
            "top": null,
            "visibility": null,
            "width": null
          }
        },
        "fa1a54134ce649e1861e7275526fbd88": {
          "model_module": "@jupyter-widgets/base",
          "model_name": "LayoutModel",
          "model_module_version": "1.2.0",
          "state": {
            "_model_module": "@jupyter-widgets/base",
            "_model_module_version": "1.2.0",
            "_model_name": "LayoutModel",
            "_view_count": null,
            "_view_module": "@jupyter-widgets/base",
            "_view_module_version": "1.2.0",
            "_view_name": "LayoutView",
            "align_content": null,
            "align_items": null,
            "align_self": null,
            "border": null,
            "bottom": null,
            "display": null,
            "flex": null,
            "flex_flow": null,
            "grid_area": null,
            "grid_auto_columns": null,
            "grid_auto_flow": null,
            "grid_auto_rows": null,
            "grid_column": null,
            "grid_gap": null,
            "grid_row": null,
            "grid_template_areas": null,
            "grid_template_columns": null,
            "grid_template_rows": null,
            "height": null,
            "justify_content": null,
            "justify_items": null,
            "left": null,
            "margin": null,
            "max_height": null,
            "max_width": null,
            "min_height": null,
            "min_width": null,
            "object_fit": null,
            "object_position": null,
            "order": null,
            "overflow": null,
            "overflow_x": null,
            "overflow_y": null,
            "padding": null,
            "right": null,
            "top": null,
            "visibility": null,
            "width": null
          }
        },
        "4a6fadf2fb5d4325b5a23a59dff6b460": {
          "model_module": "@jupyter-widgets/controls",
          "model_name": "DescriptionStyleModel",
          "model_module_version": "1.5.0",
          "state": {
            "_model_module": "@jupyter-widgets/controls",
            "_model_module_version": "1.5.0",
            "_model_name": "DescriptionStyleModel",
            "_view_count": null,
            "_view_module": "@jupyter-widgets/base",
            "_view_module_version": "1.2.0",
            "_view_name": "StyleView",
            "description_width": ""
          }
        },
        "1e6f066ac00e4ef0b38ad82234ae45e6": {
          "model_module": "@jupyter-widgets/base",
          "model_name": "LayoutModel",
          "model_module_version": "1.2.0",
          "state": {
            "_model_module": "@jupyter-widgets/base",
            "_model_module_version": "1.2.0",
            "_model_name": "LayoutModel",
            "_view_count": null,
            "_view_module": "@jupyter-widgets/base",
            "_view_module_version": "1.2.0",
            "_view_name": "LayoutView",
            "align_content": null,
            "align_items": null,
            "align_self": null,
            "border": null,
            "bottom": null,
            "display": null,
            "flex": null,
            "flex_flow": null,
            "grid_area": null,
            "grid_auto_columns": null,
            "grid_auto_flow": null,
            "grid_auto_rows": null,
            "grid_column": null,
            "grid_gap": null,
            "grid_row": null,
            "grid_template_areas": null,
            "grid_template_columns": null,
            "grid_template_rows": null,
            "height": null,
            "justify_content": null,
            "justify_items": null,
            "left": null,
            "margin": null,
            "max_height": null,
            "max_width": null,
            "min_height": null,
            "min_width": null,
            "object_fit": null,
            "object_position": null,
            "order": null,
            "overflow": null,
            "overflow_x": null,
            "overflow_y": null,
            "padding": null,
            "right": null,
            "top": null,
            "visibility": null,
            "width": null
          }
        },
        "5534767f9ed245728e8b9d4fe64ad26a": {
          "model_module": "@jupyter-widgets/controls",
          "model_name": "ProgressStyleModel",
          "model_module_version": "1.5.0",
          "state": {
            "_model_module": "@jupyter-widgets/controls",
            "_model_module_version": "1.5.0",
            "_model_name": "ProgressStyleModel",
            "_view_count": null,
            "_view_module": "@jupyter-widgets/base",
            "_view_module_version": "1.2.0",
            "_view_name": "StyleView",
            "bar_color": null,
            "description_width": ""
          }
        },
        "cea844fd6dea4ac68076f653f0bb2f56": {
          "model_module": "@jupyter-widgets/base",
          "model_name": "LayoutModel",
          "model_module_version": "1.2.0",
          "state": {
            "_model_module": "@jupyter-widgets/base",
            "_model_module_version": "1.2.0",
            "_model_name": "LayoutModel",
            "_view_count": null,
            "_view_module": "@jupyter-widgets/base",
            "_view_module_version": "1.2.0",
            "_view_name": "LayoutView",
            "align_content": null,
            "align_items": null,
            "align_self": null,
            "border": null,
            "bottom": null,
            "display": null,
            "flex": null,
            "flex_flow": null,
            "grid_area": null,
            "grid_auto_columns": null,
            "grid_auto_flow": null,
            "grid_auto_rows": null,
            "grid_column": null,
            "grid_gap": null,
            "grid_row": null,
            "grid_template_areas": null,
            "grid_template_columns": null,
            "grid_template_rows": null,
            "height": null,
            "justify_content": null,
            "justify_items": null,
            "left": null,
            "margin": null,
            "max_height": null,
            "max_width": null,
            "min_height": null,
            "min_width": null,
            "object_fit": null,
            "object_position": null,
            "order": null,
            "overflow": null,
            "overflow_x": null,
            "overflow_y": null,
            "padding": null,
            "right": null,
            "top": null,
            "visibility": null,
            "width": null
          }
        },
        "e4844f0533304cb499a01d324e986cd1": {
          "model_module": "@jupyter-widgets/controls",
          "model_name": "DescriptionStyleModel",
          "model_module_version": "1.5.0",
          "state": {
            "_model_module": "@jupyter-widgets/controls",
            "_model_module_version": "1.5.0",
            "_model_name": "DescriptionStyleModel",
            "_view_count": null,
            "_view_module": "@jupyter-widgets/base",
            "_view_module_version": "1.2.0",
            "_view_name": "StyleView",
            "description_width": ""
          }
        },
        "54ca9f2a6364419297a99e5a9d898562": {
          "model_module": "@jupyter-widgets/controls",
          "model_name": "HBoxModel",
          "model_module_version": "1.5.0",
          "state": {
            "_dom_classes": [],
            "_model_module": "@jupyter-widgets/controls",
            "_model_module_version": "1.5.0",
            "_model_name": "HBoxModel",
            "_view_count": null,
            "_view_module": "@jupyter-widgets/controls",
            "_view_module_version": "1.5.0",
            "_view_name": "HBoxView",
            "box_style": "",
            "children": [
              "IPY_MODEL_adc044cb67f94f0ca250e4392e64b579",
              "IPY_MODEL_0868ab6e885e4b6f86738d9dd295404e",
              "IPY_MODEL_d033ff4fb8b24b5291752786f6bdf1e0"
            ],
            "layout": "IPY_MODEL_32f7d060da9543ebabed0fda6ad19768"
          }
        },
        "adc044cb67f94f0ca250e4392e64b579": {
          "model_module": "@jupyter-widgets/controls",
          "model_name": "HTMLModel",
          "model_module_version": "1.5.0",
          "state": {
            "_dom_classes": [],
            "_model_module": "@jupyter-widgets/controls",
            "_model_module_version": "1.5.0",
            "_model_name": "HTMLModel",
            "_view_count": null,
            "_view_module": "@jupyter-widgets/controls",
            "_view_module_version": "1.5.0",
            "_view_name": "HTMLView",
            "description": "",
            "description_tooltip": null,
            "layout": "IPY_MODEL_47b1d6922286494a81e09421e0489266",
            "placeholder": "​",
            "style": "IPY_MODEL_ec787b99edfd4527b6c20c1fea1ad263",
            "value": "Downloading: 100%"
          }
        },
        "0868ab6e885e4b6f86738d9dd295404e": {
          "model_module": "@jupyter-widgets/controls",
          "model_name": "FloatProgressModel",
          "model_module_version": "1.5.0",
          "state": {
            "_dom_classes": [],
            "_model_module": "@jupyter-widgets/controls",
            "_model_module_version": "1.5.0",
            "_model_name": "FloatProgressModel",
            "_view_count": null,
            "_view_module": "@jupyter-widgets/controls",
            "_view_module_version": "1.5.0",
            "_view_name": "ProgressView",
            "bar_style": "success",
            "description": "",
            "description_tooltip": null,
            "layout": "IPY_MODEL_1089d2fc50cc42ed8c90da4869713478",
            "max": 231508,
            "min": 0,
            "orientation": "horizontal",
            "style": "IPY_MODEL_bec0543c43454425bdbedf3cfff43327",
            "value": 231508
          }
        },
        "d033ff4fb8b24b5291752786f6bdf1e0": {
          "model_module": "@jupyter-widgets/controls",
          "model_name": "HTMLModel",
          "model_module_version": "1.5.0",
          "state": {
            "_dom_classes": [],
            "_model_module": "@jupyter-widgets/controls",
            "_model_module_version": "1.5.0",
            "_model_name": "HTMLModel",
            "_view_count": null,
            "_view_module": "@jupyter-widgets/controls",
            "_view_module_version": "1.5.0",
            "_view_name": "HTMLView",
            "description": "",
            "description_tooltip": null,
            "layout": "IPY_MODEL_253fd5ef00da4553b7c861d91c98163f",
            "placeholder": "​",
            "style": "IPY_MODEL_9d8d678df36645b8b3181a027e7be784",
            "value": " 232k/232k [00:00&lt;00:00, 1.62MB/s]"
          }
        },
        "32f7d060da9543ebabed0fda6ad19768": {
          "model_module": "@jupyter-widgets/base",
          "model_name": "LayoutModel",
          "model_module_version": "1.2.0",
          "state": {
            "_model_module": "@jupyter-widgets/base",
            "_model_module_version": "1.2.0",
            "_model_name": "LayoutModel",
            "_view_count": null,
            "_view_module": "@jupyter-widgets/base",
            "_view_module_version": "1.2.0",
            "_view_name": "LayoutView",
            "align_content": null,
            "align_items": null,
            "align_self": null,
            "border": null,
            "bottom": null,
            "display": null,
            "flex": null,
            "flex_flow": null,
            "grid_area": null,
            "grid_auto_columns": null,
            "grid_auto_flow": null,
            "grid_auto_rows": null,
            "grid_column": null,
            "grid_gap": null,
            "grid_row": null,
            "grid_template_areas": null,
            "grid_template_columns": null,
            "grid_template_rows": null,
            "height": null,
            "justify_content": null,
            "justify_items": null,
            "left": null,
            "margin": null,
            "max_height": null,
            "max_width": null,
            "min_height": null,
            "min_width": null,
            "object_fit": null,
            "object_position": null,
            "order": null,
            "overflow": null,
            "overflow_x": null,
            "overflow_y": null,
            "padding": null,
            "right": null,
            "top": null,
            "visibility": null,
            "width": null
          }
        },
        "47b1d6922286494a81e09421e0489266": {
          "model_module": "@jupyter-widgets/base",
          "model_name": "LayoutModel",
          "model_module_version": "1.2.0",
          "state": {
            "_model_module": "@jupyter-widgets/base",
            "_model_module_version": "1.2.0",
            "_model_name": "LayoutModel",
            "_view_count": null,
            "_view_module": "@jupyter-widgets/base",
            "_view_module_version": "1.2.0",
            "_view_name": "LayoutView",
            "align_content": null,
            "align_items": null,
            "align_self": null,
            "border": null,
            "bottom": null,
            "display": null,
            "flex": null,
            "flex_flow": null,
            "grid_area": null,
            "grid_auto_columns": null,
            "grid_auto_flow": null,
            "grid_auto_rows": null,
            "grid_column": null,
            "grid_gap": null,
            "grid_row": null,
            "grid_template_areas": null,
            "grid_template_columns": null,
            "grid_template_rows": null,
            "height": null,
            "justify_content": null,
            "justify_items": null,
            "left": null,
            "margin": null,
            "max_height": null,
            "max_width": null,
            "min_height": null,
            "min_width": null,
            "object_fit": null,
            "object_position": null,
            "order": null,
            "overflow": null,
            "overflow_x": null,
            "overflow_y": null,
            "padding": null,
            "right": null,
            "top": null,
            "visibility": null,
            "width": null
          }
        },
        "ec787b99edfd4527b6c20c1fea1ad263": {
          "model_module": "@jupyter-widgets/controls",
          "model_name": "DescriptionStyleModel",
          "model_module_version": "1.5.0",
          "state": {
            "_model_module": "@jupyter-widgets/controls",
            "_model_module_version": "1.5.0",
            "_model_name": "DescriptionStyleModel",
            "_view_count": null,
            "_view_module": "@jupyter-widgets/base",
            "_view_module_version": "1.2.0",
            "_view_name": "StyleView",
            "description_width": ""
          }
        },
        "1089d2fc50cc42ed8c90da4869713478": {
          "model_module": "@jupyter-widgets/base",
          "model_name": "LayoutModel",
          "model_module_version": "1.2.0",
          "state": {
            "_model_module": "@jupyter-widgets/base",
            "_model_module_version": "1.2.0",
            "_model_name": "LayoutModel",
            "_view_count": null,
            "_view_module": "@jupyter-widgets/base",
            "_view_module_version": "1.2.0",
            "_view_name": "LayoutView",
            "align_content": null,
            "align_items": null,
            "align_self": null,
            "border": null,
            "bottom": null,
            "display": null,
            "flex": null,
            "flex_flow": null,
            "grid_area": null,
            "grid_auto_columns": null,
            "grid_auto_flow": null,
            "grid_auto_rows": null,
            "grid_column": null,
            "grid_gap": null,
            "grid_row": null,
            "grid_template_areas": null,
            "grid_template_columns": null,
            "grid_template_rows": null,
            "height": null,
            "justify_content": null,
            "justify_items": null,
            "left": null,
            "margin": null,
            "max_height": null,
            "max_width": null,
            "min_height": null,
            "min_width": null,
            "object_fit": null,
            "object_position": null,
            "order": null,
            "overflow": null,
            "overflow_x": null,
            "overflow_y": null,
            "padding": null,
            "right": null,
            "top": null,
            "visibility": null,
            "width": null
          }
        },
        "bec0543c43454425bdbedf3cfff43327": {
          "model_module": "@jupyter-widgets/controls",
          "model_name": "ProgressStyleModel",
          "model_module_version": "1.5.0",
          "state": {
            "_model_module": "@jupyter-widgets/controls",
            "_model_module_version": "1.5.0",
            "_model_name": "ProgressStyleModel",
            "_view_count": null,
            "_view_module": "@jupyter-widgets/base",
            "_view_module_version": "1.2.0",
            "_view_name": "StyleView",
            "bar_color": null,
            "description_width": ""
          }
        },
        "253fd5ef00da4553b7c861d91c98163f": {
          "model_module": "@jupyter-widgets/base",
          "model_name": "LayoutModel",
          "model_module_version": "1.2.0",
          "state": {
            "_model_module": "@jupyter-widgets/base",
            "_model_module_version": "1.2.0",
            "_model_name": "LayoutModel",
            "_view_count": null,
            "_view_module": "@jupyter-widgets/base",
            "_view_module_version": "1.2.0",
            "_view_name": "LayoutView",
            "align_content": null,
            "align_items": null,
            "align_self": null,
            "border": null,
            "bottom": null,
            "display": null,
            "flex": null,
            "flex_flow": null,
            "grid_area": null,
            "grid_auto_columns": null,
            "grid_auto_flow": null,
            "grid_auto_rows": null,
            "grid_column": null,
            "grid_gap": null,
            "grid_row": null,
            "grid_template_areas": null,
            "grid_template_columns": null,
            "grid_template_rows": null,
            "height": null,
            "justify_content": null,
            "justify_items": null,
            "left": null,
            "margin": null,
            "max_height": null,
            "max_width": null,
            "min_height": null,
            "min_width": null,
            "object_fit": null,
            "object_position": null,
            "order": null,
            "overflow": null,
            "overflow_x": null,
            "overflow_y": null,
            "padding": null,
            "right": null,
            "top": null,
            "visibility": null,
            "width": null
          }
        },
        "9d8d678df36645b8b3181a027e7be784": {
          "model_module": "@jupyter-widgets/controls",
          "model_name": "DescriptionStyleModel",
          "model_module_version": "1.5.0",
          "state": {
            "_model_module": "@jupyter-widgets/controls",
            "_model_module_version": "1.5.0",
            "_model_name": "DescriptionStyleModel",
            "_view_count": null,
            "_view_module": "@jupyter-widgets/base",
            "_view_module_version": "1.2.0",
            "_view_name": "StyleView",
            "description_width": ""
          }
        },
        "9debd35392424bbfa9603bbffa3316de": {
          "model_module": "@jupyter-widgets/controls",
          "model_name": "HBoxModel",
          "model_module_version": "1.5.0",
          "state": {
            "_dom_classes": [],
            "_model_module": "@jupyter-widgets/controls",
            "_model_module_version": "1.5.0",
            "_model_name": "HBoxModel",
            "_view_count": null,
            "_view_module": "@jupyter-widgets/controls",
            "_view_module_version": "1.5.0",
            "_view_name": "HBoxView",
            "box_style": "",
            "children": [
              "IPY_MODEL_ea83d25945ad4452a7e2aaea112fd9c4",
              "IPY_MODEL_15bcfcf0c8d944a59d8751118126c105",
              "IPY_MODEL_66b65fb6b0bc4225ad2ae4cce38c734d"
            ],
            "layout": "IPY_MODEL_773f96a0d4014b5293f0e6db211f385a"
          }
        },
        "ea83d25945ad4452a7e2aaea112fd9c4": {
          "model_module": "@jupyter-widgets/controls",
          "model_name": "HTMLModel",
          "model_module_version": "1.5.0",
          "state": {
            "_dom_classes": [],
            "_model_module": "@jupyter-widgets/controls",
            "_model_module_version": "1.5.0",
            "_model_name": "HTMLModel",
            "_view_count": null,
            "_view_module": "@jupyter-widgets/controls",
            "_view_module_version": "1.5.0",
            "_view_name": "HTMLView",
            "description": "",
            "description_tooltip": null,
            "layout": "IPY_MODEL_e8028e0ee3b94322a1bfeec2db198600",
            "placeholder": "​",
            "style": "IPY_MODEL_79a1e1cc641440b5b4c8f4966559a701",
            "value": "Downloading: 100%"
          }
        },
        "15bcfcf0c8d944a59d8751118126c105": {
          "model_module": "@jupyter-widgets/controls",
          "model_name": "FloatProgressModel",
          "model_module_version": "1.5.0",
          "state": {
            "_dom_classes": [],
            "_model_module": "@jupyter-widgets/controls",
            "_model_module_version": "1.5.0",
            "_model_name": "FloatProgressModel",
            "_view_count": null,
            "_view_module": "@jupyter-widgets/controls",
            "_view_module_version": "1.5.0",
            "_view_name": "ProgressView",
            "bar_style": "success",
            "description": "",
            "description_tooltip": null,
            "layout": "IPY_MODEL_de3a3df2461f4b8898a13d2a24e8ea15",
            "max": 466062,
            "min": 0,
            "orientation": "horizontal",
            "style": "IPY_MODEL_89ccf17234cf46baae2f4cebad674ba1",
            "value": 466062
          }
        },
        "66b65fb6b0bc4225ad2ae4cce38c734d": {
          "model_module": "@jupyter-widgets/controls",
          "model_name": "HTMLModel",
          "model_module_version": "1.5.0",
          "state": {
            "_dom_classes": [],
            "_model_module": "@jupyter-widgets/controls",
            "_model_module_version": "1.5.0",
            "_model_name": "HTMLModel",
            "_view_count": null,
            "_view_module": "@jupyter-widgets/controls",
            "_view_module_version": "1.5.0",
            "_view_name": "HTMLView",
            "description": "",
            "description_tooltip": null,
            "layout": "IPY_MODEL_2bc1ca30b91e4bfa92238a948d7487c2",
            "placeholder": "​",
            "style": "IPY_MODEL_83bb04719eef4893809ad286c015cc6b",
            "value": " 466k/466k [00:00&lt;00:00, 1.80MB/s]"
          }
        },
        "773f96a0d4014b5293f0e6db211f385a": {
          "model_module": "@jupyter-widgets/base",
          "model_name": "LayoutModel",
          "model_module_version": "1.2.0",
          "state": {
            "_model_module": "@jupyter-widgets/base",
            "_model_module_version": "1.2.0",
            "_model_name": "LayoutModel",
            "_view_count": null,
            "_view_module": "@jupyter-widgets/base",
            "_view_module_version": "1.2.0",
            "_view_name": "LayoutView",
            "align_content": null,
            "align_items": null,
            "align_self": null,
            "border": null,
            "bottom": null,
            "display": null,
            "flex": null,
            "flex_flow": null,
            "grid_area": null,
            "grid_auto_columns": null,
            "grid_auto_flow": null,
            "grid_auto_rows": null,
            "grid_column": null,
            "grid_gap": null,
            "grid_row": null,
            "grid_template_areas": null,
            "grid_template_columns": null,
            "grid_template_rows": null,
            "height": null,
            "justify_content": null,
            "justify_items": null,
            "left": null,
            "margin": null,
            "max_height": null,
            "max_width": null,
            "min_height": null,
            "min_width": null,
            "object_fit": null,
            "object_position": null,
            "order": null,
            "overflow": null,
            "overflow_x": null,
            "overflow_y": null,
            "padding": null,
            "right": null,
            "top": null,
            "visibility": null,
            "width": null
          }
        },
        "e8028e0ee3b94322a1bfeec2db198600": {
          "model_module": "@jupyter-widgets/base",
          "model_name": "LayoutModel",
          "model_module_version": "1.2.0",
          "state": {
            "_model_module": "@jupyter-widgets/base",
            "_model_module_version": "1.2.0",
            "_model_name": "LayoutModel",
            "_view_count": null,
            "_view_module": "@jupyter-widgets/base",
            "_view_module_version": "1.2.0",
            "_view_name": "LayoutView",
            "align_content": null,
            "align_items": null,
            "align_self": null,
            "border": null,
            "bottom": null,
            "display": null,
            "flex": null,
            "flex_flow": null,
            "grid_area": null,
            "grid_auto_columns": null,
            "grid_auto_flow": null,
            "grid_auto_rows": null,
            "grid_column": null,
            "grid_gap": null,
            "grid_row": null,
            "grid_template_areas": null,
            "grid_template_columns": null,
            "grid_template_rows": null,
            "height": null,
            "justify_content": null,
            "justify_items": null,
            "left": null,
            "margin": null,
            "max_height": null,
            "max_width": null,
            "min_height": null,
            "min_width": null,
            "object_fit": null,
            "object_position": null,
            "order": null,
            "overflow": null,
            "overflow_x": null,
            "overflow_y": null,
            "padding": null,
            "right": null,
            "top": null,
            "visibility": null,
            "width": null
          }
        },
        "79a1e1cc641440b5b4c8f4966559a701": {
          "model_module": "@jupyter-widgets/controls",
          "model_name": "DescriptionStyleModel",
          "model_module_version": "1.5.0",
          "state": {
            "_model_module": "@jupyter-widgets/controls",
            "_model_module_version": "1.5.0",
            "_model_name": "DescriptionStyleModel",
            "_view_count": null,
            "_view_module": "@jupyter-widgets/base",
            "_view_module_version": "1.2.0",
            "_view_name": "StyleView",
            "description_width": ""
          }
        },
        "de3a3df2461f4b8898a13d2a24e8ea15": {
          "model_module": "@jupyter-widgets/base",
          "model_name": "LayoutModel",
          "model_module_version": "1.2.0",
          "state": {
            "_model_module": "@jupyter-widgets/base",
            "_model_module_version": "1.2.0",
            "_model_name": "LayoutModel",
            "_view_count": null,
            "_view_module": "@jupyter-widgets/base",
            "_view_module_version": "1.2.0",
            "_view_name": "LayoutView",
            "align_content": null,
            "align_items": null,
            "align_self": null,
            "border": null,
            "bottom": null,
            "display": null,
            "flex": null,
            "flex_flow": null,
            "grid_area": null,
            "grid_auto_columns": null,
            "grid_auto_flow": null,
            "grid_auto_rows": null,
            "grid_column": null,
            "grid_gap": null,
            "grid_row": null,
            "grid_template_areas": null,
            "grid_template_columns": null,
            "grid_template_rows": null,
            "height": null,
            "justify_content": null,
            "justify_items": null,
            "left": null,
            "margin": null,
            "max_height": null,
            "max_width": null,
            "min_height": null,
            "min_width": null,
            "object_fit": null,
            "object_position": null,
            "order": null,
            "overflow": null,
            "overflow_x": null,
            "overflow_y": null,
            "padding": null,
            "right": null,
            "top": null,
            "visibility": null,
            "width": null
          }
        },
        "89ccf17234cf46baae2f4cebad674ba1": {
          "model_module": "@jupyter-widgets/controls",
          "model_name": "ProgressStyleModel",
          "model_module_version": "1.5.0",
          "state": {
            "_model_module": "@jupyter-widgets/controls",
            "_model_module_version": "1.5.0",
            "_model_name": "ProgressStyleModel",
            "_view_count": null,
            "_view_module": "@jupyter-widgets/base",
            "_view_module_version": "1.2.0",
            "_view_name": "StyleView",
            "bar_color": null,
            "description_width": ""
          }
        },
        "2bc1ca30b91e4bfa92238a948d7487c2": {
          "model_module": "@jupyter-widgets/base",
          "model_name": "LayoutModel",
          "model_module_version": "1.2.0",
          "state": {
            "_model_module": "@jupyter-widgets/base",
            "_model_module_version": "1.2.0",
            "_model_name": "LayoutModel",
            "_view_count": null,
            "_view_module": "@jupyter-widgets/base",
            "_view_module_version": "1.2.0",
            "_view_name": "LayoutView",
            "align_content": null,
            "align_items": null,
            "align_self": null,
            "border": null,
            "bottom": null,
            "display": null,
            "flex": null,
            "flex_flow": null,
            "grid_area": null,
            "grid_auto_columns": null,
            "grid_auto_flow": null,
            "grid_auto_rows": null,
            "grid_column": null,
            "grid_gap": null,
            "grid_row": null,
            "grid_template_areas": null,
            "grid_template_columns": null,
            "grid_template_rows": null,
            "height": null,
            "justify_content": null,
            "justify_items": null,
            "left": null,
            "margin": null,
            "max_height": null,
            "max_width": null,
            "min_height": null,
            "min_width": null,
            "object_fit": null,
            "object_position": null,
            "order": null,
            "overflow": null,
            "overflow_x": null,
            "overflow_y": null,
            "padding": null,
            "right": null,
            "top": null,
            "visibility": null,
            "width": null
          }
        },
        "83bb04719eef4893809ad286c015cc6b": {
          "model_module": "@jupyter-widgets/controls",
          "model_name": "DescriptionStyleModel",
          "model_module_version": "1.5.0",
          "state": {
            "_model_module": "@jupyter-widgets/controls",
            "_model_module_version": "1.5.0",
            "_model_name": "DescriptionStyleModel",
            "_view_count": null,
            "_view_module": "@jupyter-widgets/base",
            "_view_module_version": "1.2.0",
            "_view_name": "StyleView",
            "description_width": ""
          }
        }
      }
    }
  },
  "nbformat": 4,
  "nbformat_minor": 0
}