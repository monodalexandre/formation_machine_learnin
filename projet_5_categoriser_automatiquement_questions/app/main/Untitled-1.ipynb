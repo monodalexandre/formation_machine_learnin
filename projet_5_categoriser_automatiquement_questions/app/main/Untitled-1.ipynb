{
 "cells": [
  {
   "cell_type": "code",
   "execution_count": 3,
   "metadata": {},
   "outputs": [
    {
     "name": "stdout",
     "output_type": "stream",
     "text": [
      "1.4.2\n"
     ]
    }
   ],
   "source": [
    "print(pd.__version__)"
   ]
  },
  {
   "cell_type": "code",
   "execution_count": 12,
   "metadata": {},
   "outputs": [],
   "source": [
    "dict_bow = load('dict_bow.pkl')\n",
    "data_for_tfidf = load('data_for_tfidf.pkl')\n",
    "dict_tag = load('dict_tag_100.pkl')"
   ]
  },
  {
   "cell_type": "code",
   "execution_count": null,
   "metadata": {},
   "outputs": [],
   "source": [
    "for i in range(2003):\n",
    "    print(data_for_tfidf.get(i))"
   ]
  },
  {
   "cell_type": "code",
   "execution_count": 30,
   "metadata": {},
   "outputs": [],
   "source": [
    "title_in = \"How do I make a flat list out of a list of lists\"\n",
    "post_in = \"Explanation: the shortcuts based on + (including the implied use in sum) are, of necessity, O(L**2) when there are L sublists -- as the intermediate result list keeps getting longer, at each step a new intermediate result list object gets allocated, and all the items in the previous intermediate result must be copied over (as well as a few new ones added at the end). So, for simplicity and without actual loss of generality, say you have L sublists of I items each: the first I items are copied back and forth L-1 times, the second I items L-2 times, and so on; total number of copies is I times the sum of x for x from 1 to L excluded, i.e., I * (L**2)/2\""
   ]
  },
  {
   "cell_type": "code",
   "execution_count": 19,
   "metadata": {},
   "outputs": [],
   "source": [
    "def suppr_balises_html(text):\n",
    "    soup = BeautifulSoup(text, \"html.parser\")\n",
    "    for data in soup(['style', 'script']):\n",
    "        data.decompose()\n",
    "\n",
    "    text_out = ' '.join(soup.stripped_strings)\n",
    "    return text_out\n",
    "\n",
    "def tokenize_text(text):\n",
    "    words = list(gensim.utils.tokenize(text, lowercase=True))\n",
    "    return words\n",
    "\n",
    "def suppr_stopwords(list):\n",
    "    mystopwords = set(stopwords.words('english'))\n",
    "    words = [x for x in list if x not in mystopwords and len(x) > 1]\n",
    "    return words\n",
    "\n",
    "def lemmatize(list):\n",
    "    lemmatizer = WordNetLemmatizer()\n",
    "    words = [lemmatizer.lemmatize(x) for x in list]\n",
    "    return words"
   ]
  },
  {
   "cell_type": "code",
   "execution_count": 31,
   "metadata": {},
   "outputs": [],
   "source": [
    "title_body_api = pd.DataFrame()\n",
    "post_out = suppr_balises_html(post_in)\n",
    "title_out = tokenize_text(title_in)\n",
    "post_out = tokenize_text(post_out)\n",
    "title_out = suppr_stopwords(title_out)\n",
    "post_out = suppr_stopwords(post_out)\n",
    "title_out = lemmatize(title_out)\n",
    "post_out = lemmatize(post_out)\n",
    "title_body_api['Title_body'] = [title_out + post_out]"
   ]
  },
  {
   "cell_type": "code",
   "execution_count": 52,
   "metadata": {},
   "outputs": [],
   "source": [
    "texts = title_body_api['Title_body']\n",
    "texts = pd.concat([texts, data_for_tfidf['Title_body']])\n",
    "bow_corpus = [dict_bow.doc2bow(text) for text in texts]"
   ]
  },
  {
   "cell_type": "code",
   "execution_count": 61,
   "metadata": {},
   "outputs": [
    {
     "data": {
      "text/plain": [
       "0    [make, flat, list, list, list, explanation, sh...\n",
       "Name: Title_body, dtype: object"
      ]
     },
     "execution_count": 61,
     "metadata": {},
     "output_type": "execute_result"
    }
   ],
   "source": [
    "texts = title_body_api['Title_body']\n",
    "texts"
   ]
  },
  {
   "cell_type": "code",
   "execution_count": 63,
   "metadata": {},
   "outputs": [],
   "source": [
    "test = [post_out]"
   ]
  },
  {
   "cell_type": "code",
   "execution_count": 64,
   "metadata": {},
   "outputs": [],
   "source": [
    "bow_corpus = [dict_bow.doc2bow(text) for text in test]"
   ]
  },
  {
   "cell_type": "code",
   "execution_count": 37,
   "metadata": {},
   "outputs": [
    {
     "data": {
      "text/plain": [
       "0    [make, flat, list, list, list, explanation, sh...\n",
       "Name: Title_body, dtype: object"
      ]
     },
     "execution_count": 37,
     "metadata": {},
     "output_type": "execute_result"
    }
   ],
   "source": [
    "title_body_api['Title_body']"
   ]
  },
  {
   "cell_type": "code",
   "execution_count": 51,
   "metadata": {},
   "outputs": [
    {
     "data": {
      "text/plain": [
       "38094    [problem, converting, matrix, data, frame, thi...\n",
       "40624    [launch, batch, file, stored, different, direc...\n",
       "49425    [making, function, template, specialization, v...\n",
       "35734    [need, modify, jquery, cycle, updateactivepage...\n",
       "41708    [equivalent, linux, free, command, freebsd, eq...\n",
       "                               ...                        \n",
       "48026    [valueerror, classification, metric, handle, m...\n",
       "23855    [jersey, jax, r, glassfish, empty, webapp, ele...\n",
       "19842    [puppeteer, get, iframe, parent, element, sele...\n",
       "36517    [haskell, really, purely, functional, language...\n",
       "41527    [browse, active, directory, silverlight, silve...\n",
       "Name: Title_body, Length: 1000, dtype: object"
      ]
     },
     "execution_count": 51,
     "metadata": {},
     "output_type": "execute_result"
    }
   ],
   "source": [
    "data_for_tfidf['Title_body']"
   ]
  },
  {
   "cell_type": "code",
   "execution_count": 69,
   "metadata": {},
   "outputs": [],
   "source": [
    "texts = pd.concat([texts, data_for_tfidf['Title_body']])\n",
    "bow_corpus = [dict_bow.doc2bow(text) for text in data_for_tfidf['Title_body']]"
   ]
  },
  {
   "cell_type": "code",
   "execution_count": 74,
   "metadata": {},
   "outputs": [],
   "source": [
    "tfidf = TfidfModel(bow_corpus)\n",
    "bow_tv_ft_ttb = [tfidf[text] for text in bow_corpus]\n",
    "bow_tv_ft_ttb_test = [bow_tv_ft_ttb[0]]\n"
   ]
  },
  {
   "cell_type": "code",
   "execution_count": null,
   "metadata": {},
   "outputs": [],
   "source": [
    "    X_test = gensim.matutils.corpus2csc(bow_tv_ft_ttb_test, num_terms=len(dict_bow))\n",
    "    X_test = X_test.T.toarray()\n",
    "    scaler = load('standardscaler')\n",
    "    X_test_std = scaler.transform(X_test)\n",
    "    clf = load('modele_reg_log')\n",
    "    y_pred_test_proba = clf.predict_proba(X_test_std)"
   ]
  },
  {
   "cell_type": "code",
   "execution_count": 81,
   "metadata": {},
   "outputs": [
    {
     "data": {
      "text/plain": [
       "1"
      ]
     },
     "execution_count": 81,
     "metadata": {},
     "output_type": "execute_result"
    }
   ],
   "source": [
    "y_pred_test_proba_w = y_pred_test_proba.copy()\n",
    "len(y_pred_test_proba_w)"
   ]
  },
  {
   "cell_type": "code",
   "execution_count": 97,
   "metadata": {},
   "outputs": [
    {
     "data": {
      "text/plain": [
       "'gcc selenium web-services wordpress http'"
      ]
     },
     "execution_count": 97,
     "metadata": {},
     "output_type": "execute_result"
    }
   ],
   "source": [
    "    tag_predit = pd.DataFrame()\n",
    "    for k in range(len(y_pred_test_proba_w)):\n",
    "        for i in range(5):\n",
    "            val_max = 0\n",
    "            ind = -1\n",
    "            for j in range(100):\n",
    "                if y_pred_test_proba_w[k, j] > val_max:\n",
    "                    val_max = y_pred_test_proba_w[k, j]\n",
    "                    ind = j\n",
    "            if ind > -1:\n",
    "                tag_predit.loc[k, i] = dict_tag[ind]\n",
    "                y_pred_test_proba_w[k, ind] = 0\n",
    "    tag_predit['List_tags'] = tag_predit[0] + ' ' + tag_predit[1] + \\\n",
    "                              ' ' + tag_predit[2] + ' ' + tag_predit[3] + ' ' + tag_predit[4]\n",
    "    Tags_out = tag_predit.loc[0]['List_tags']\n",
    "    Tags_out"
   ]
  },
  {
   "cell_type": "code",
   "execution_count": 84,
   "metadata": {},
   "outputs": [
    {
     "name": "stdout",
     "output_type": "stream",
     "text": [
      "0\n"
     ]
    }
   ],
   "source": [
    "for k in range(len(y_pred_test_proba_w)):\n",
    "    print(k)"
   ]
  },
  {
   "cell_type": "code",
   "execution_count": 102,
   "metadata": {},
   "outputs": [
    {
     "data": {
      "text/plain": [
       "'optimization apache xcode bash iphone'"
      ]
     },
     "execution_count": 102,
     "metadata": {},
     "output_type": "execute_result"
    }
   ],
   "source": [
    "for i in range(5):\n",
    "            val_max = 0\n",
    "            ind = -1\n",
    "            for j in range(100):\n",
    "                if y_pred_test_proba_w[k, j] > val_max:\n",
    "                    val_max = y_pred_test_proba_w[k, j]\n",
    "                    ind = j\n",
    "            if ind > -1:\n",
    "                tag_predit.loc[k, i] = dict_tag[ind]\n",
    "                y_pred_test_proba_w[k, ind] = 0\n",
    "tag_predit['List_tags'] = tag_predit[0] + ' ' + tag_predit[1] + \\\n",
    "                              ' ' + tag_predit[2] + ' ' + tag_predit[3] + ' ' + tag_predit[4]\n",
    "Tags_out = tag_predit.loc[0]['List_tags']\n",
    "Tags_out"
   ]
  }
 ],
 "metadata": {
  "kernelspec": {
   "display_name": "Python 3.9.12 ('base')",
   "language": "python",
   "name": "python3"
  },
  "language_info": {
   "codemirror_mode": {
    "name": "ipython",
    "version": 3
   },
   "file_extension": ".py",
   "mimetype": "text/x-python",
   "name": "python",
   "nbconvert_exporter": "python",
   "pygments_lexer": "ipython3",
   "version": "3.9.12"
  },
  "orig_nbformat": 4,
  "vscode": {
   "interpreter": {
    "hash": "3b02d5c77b47e185741c27571d0835cbbbb01116464cfa56b19952d9db95f7bd"
   }
  }
 },
 "nbformat": 4,
 "nbformat_minor": 2
}
