{
 "cells": [
  {
   "attachments": {},
   "cell_type": "markdown",
   "metadata": {},
   "source": [
    "Ce fichier a pour but de vérifer la qualité du modèle.  \n",
    "Nous allons comparer l'évolution des performances du modèle sur une année."
   ]
  },
  {
   "cell_type": "code",
   "execution_count": 1,
   "metadata": {},
   "outputs": [],
   "source": [
    "import pandas as pd\n",
    "import numpy as np\n",
    "import matplotlib.pyplot as plt\n",
    "import seaborn as sns\n",
    "import datetime as dt\n",
    "from datetime import datetime\n",
    "import joblib\n",
    "\n",
    "# Clustering\n",
    "from sklearn.metrics import adjusted_rand_score, pair_confusion_matrix\n",
    "from sklearn.preprocessing import StandardScaler\n",
    "import plotly.express as px\n",
    "\n",
    "from fonctions import *\n",
    "from clustering_utils import *"
   ]
  },
  {
   "cell_type": "code",
   "execution_count": 2,
   "metadata": {},
   "outputs": [],
   "source": [
    "# Import files\n",
    "rfm = joblib.load(\"rfm_review_deliv_delay_dataset\")\n",
    "data = joblib.load(\"data_\")"
   ]
  },
  {
   "cell_type": "code",
   "execution_count": 3,
   "metadata": {},
   "outputs": [],
   "source": [
    " # Calcul du délai de livraison\n",
    "data[\"delivery_delay\"] = data.order_delivered_customer_date - data.order_purchase_timestamp"
   ]
  },
  {
   "cell_type": "code",
   "execution_count": 4,
   "metadata": {},
   "outputs": [],
   "source": [
    "# Instantiate a KMeans clustering model\n",
    "model = KMeans(n_clusters=6, random_state=42)\n",
    "model.fit(rfm)\n",
    "\n",
    "# Assign each customer to a cluster\n",
    "rfm_clustered = rfm.copy()\n",
    "rfm_clustered['cluster_kmeans'] = model.predict(rfm)"
   ]
  },
  {
   "attachments": {},
   "cell_type": "markdown",
   "metadata": {},
   "source": [
    "#### Analyse de la stabilité"
   ]
  },
  {
   "attachments": {},
   "cell_type": "markdown",
   "metadata": {},
   "source": [
    "Je cherche ici, à observer l'évolution de la segmentation client au cours du temps. <br>\n",
    "\n",
    "Pour cela, dans un premier temps, je découpe mon dataset:\n",
    "- La première année servira d'entrainement pour mon K-Means,\n",
    "- Je prédirai sur chaque mois suivant le nouvel état des clients.\n",
    "\n",
    "Finalement, j'observerai cette évolution en calculant l'ARI score entre la première année et chaque mois suivants. <br>"
   ]
  },
  {
   "attachments": {},
   "cell_type": "markdown",
   "metadata": {},
   "source": [
    "##### **Décomposition dataset**"
   ]
  },
  {
   "cell_type": "code",
   "execution_count": 5,
   "metadata": {},
   "outputs": [
    {
     "data": {
      "text/plain": [
       "Index(['product_id', 'product_category_name', 'product_name_lenght',\n",
       "       'product_description_lenght', 'product_photos_qty', 'product_weight_g',\n",
       "       'product_length_cm', 'product_height_cm', 'product_width_cm',\n",
       "       'product_category_name_english', 'order_id', 'order_item_id',\n",
       "       'seller_id', 'shipping_limit_date', 'price', 'freight_value',\n",
       "       'customer_id', 'customer_unique_id', 'customer_zip_code_prefix',\n",
       "       'customer_city', 'customer_state', 'customer_total_commands',\n",
       "       'payment_sequential', 'payment_type', 'payment_installments',\n",
       "       'payment_value', 'order_status', 'order_purchase_timestamp',\n",
       "       'order_approved_at', 'order_delivered_carrier_date',\n",
       "       'order_delivered_customer_date', 'order_estimated_delivery_date',\n",
       "       'order_delivered_delay', 'review_id', 'review_score',\n",
       "       'review_comment_title', 'review_comment_message',\n",
       "       'review_creation_date', 'review_answer_timestamp', 'delivery_delay'],\n",
       "      dtype='object')"
      ]
     },
     "execution_count": 5,
     "metadata": {},
     "output_type": "execute_result"
    }
   ],
   "source": [
    "data.columns"
   ]
  },
  {
   "cell_type": "code",
   "execution_count": 6,
   "metadata": {},
   "outputs": [
    {
     "name": "stdout",
     "output_type": "stream",
     "text": [
      "2016-10-04 09:43:32\n",
      "2018-09-03 17:40:06\n"
     ]
    }
   ],
   "source": [
    "print(data.order_approved_at.min())\n",
    "print(data.order_approved_at.max())"
   ]
  },
  {
   "attachments": {},
   "cell_type": "markdown",
   "metadata": {},
   "source": [
    "Ma période d'étude va du 4 Octobre 2016 au 3 Septembre 2018.\n",
    "Je prends la période du 4 octobre 2016 au 31 décembre 2017 pour l'entrainement, soit un peu plus d'un an."
   ]
  },
  {
   "cell_type": "code",
   "execution_count": 7,
   "metadata": {},
   "outputs": [],
   "source": [
    "min_date = datetime(2016,10,4)\n",
    "max_date = datetime(2018,1,1)\n",
    "\n",
    "df_year_1 = data[data.order_approved_at < max_date]"
   ]
  },
  {
   "cell_type": "code",
   "execution_count": 8,
   "metadata": {},
   "outputs": [],
   "source": [
    "df_months = {} \n",
    "\n",
    "for months in range(1, 9):\n",
    "    max_date = datetime(2018, months+1, 1)\n",
    "    df_months[f'df_months_{months}'] = data[ (data.order_approved_at >= min_date) & (data.order_approved_at < max_date)]\n"
   ]
  },
  {
   "cell_type": "code",
   "execution_count": 9,
   "metadata": {},
   "outputs": [],
   "source": [
    "def create_kpis(data: pd.DataFrame):\n",
    "    \n",
    "    # Récence\n",
    "    debut = datetime(2017,1,1,0,0,0)\n",
    "    fin = datetime(2018,8,26,23,59,59)\n",
    "\n",
    "    tmp = data.copy()\n",
    "\n",
    "    tmp.drop_duplicates(subset='order_id', inplace=True) # J'ai plusieurs fois le même order_id si le client a commandé plusieurs produits\n",
    "    tmp.set_index('order_id', inplace=True)\n",
    "    tmp = tmp[['customer_unique_id', 'order_approved_at']]\n",
    "\n",
    "    customer_recence = fin - tmp.groupby('customer_unique_id').max()['order_approved_at']\n",
    "    customer_recence = customer_recence.apply(func=lambda x: x.days) # Je ne conserve que les jours\n",
    "\n",
    "    # Fréquence\n",
    "\n",
    "    tmp = data.copy()\n",
    "\n",
    "    tmp.drop_duplicates(subset='order_id', inplace=True) # J'ai plusieurs fois le même order_id si le client a commandé plusieurs produits\n",
    "    tmp.set_index('order_id', inplace=True)\n",
    "    tmp = tmp[['customer_unique_id', 'order_approved_at']]\n",
    "\n",
    "    customer_frequence = tmp.groupby('customer_unique_id').count()['order_approved_at']\n",
    "\n",
    "    # Montant\n",
    "\n",
    "    tmp = data.copy()\n",
    "\n",
    "    tmp.drop_duplicates(subset='order_id', inplace=True) # J'ai plusieurs fois le même order_id si le client a commandé plusieurs produits\n",
    "    tmp.set_index('order_id', inplace=True)\n",
    "    tmp = tmp[['customer_unique_id', 'price']]\n",
    "\n",
    "    customer_montant = tmp.groupby('customer_unique_id').sum()['price']\n",
    "    \n",
    "    # Delivery\n",
    "\n",
    "    tmp = data.copy()\n",
    "    tmp = data.copy()\n",
    "    tmp.drop_duplicates(subset='order_id', inplace=True) # J'ai plusieurs fois le même order_id si le client a commandé plusieurs produits\n",
    "    tmp.set_index('order_id', inplace=True)\n",
    "    tmp[\"delay_in_seconds\"] = tmp.delivery_delay.dt.total_seconds()\n",
    "    tmp = tmp[['customer_unique_id', 'delay_in_seconds']]\n",
    "\n",
    "    delivery = tmp.groupby('customer_unique_id').mean()['delay_in_seconds']\n",
    "\n",
    "    # Review Score\n",
    "\n",
    "    tmp = data.copy()\n",
    "\n",
    "    tmp.drop_duplicates(subset='order_id', inplace=True) # J'ai plusieurs fois le même order_id si le client a commandé plusieurs produits\n",
    "    tmp.set_index('order_id', inplace=True)\n",
    "    tmp = tmp[['customer_unique_id', 'review_score']]\n",
    "\n",
    "    review_score = tmp.groupby('customer_unique_id').mean()['review_score']\n",
    "\n",
    "    # Création du DF\n",
    "    kpi_df = pd.DataFrame(data={\n",
    "                    'recence': customer_recence, 'frequence':customer_frequence, \"montant\":customer_montant\n",
    "                    , \"delivery_delay\":delivery\n",
    "                    , \"review_score\":review_score}, \n",
    "             )\n",
    "    \n",
    "    return kpi_df\n",
    "\n",
    "def preproc_kpis(data: pd.DataFrame):\n",
    "    tmp = data.copy()\n",
    "\n",
    "    # Scaling\n",
    "    scaler = StandardScaler()\n",
    "    scaler.fit(tmp) \n",
    "    scaled_values = scaler.transform(tmp)\n",
    "\n",
    "    return pd.DataFrame(data=scaled_values, columns=tmp.columns, index=tmp.index)"
   ]
  },
  {
   "cell_type": "code",
   "execution_count": 10,
   "metadata": {},
   "outputs": [],
   "source": [
    "# Clients marqués comme outliers précédemment \n",
    "\n",
    "kpi_year_1 = preproc_kpis(create_kpis(df_year_1))\n",
    "kpi_year_1.dropna(inplace=True)\n",
    "                        \n",
    "kpi_months = {}\n",
    "for months in range(1,9):\n",
    "    kpi_months[f'kpi_months_{months}'] = preproc_kpis(create_kpis(df_months[f'df_months_{months}'])) # On recalcule les KPIs pour ce dataset"
   ]
  },
  {
   "attachments": {},
   "cell_type": "markdown",
   "metadata": {},
   "source": [
    "##### **Calcul des ARIs**"
   ]
  },
  {
   "cell_type": "code",
   "execution_count": 11,
   "metadata": {},
   "outputs": [
    {
     "name": "stderr",
     "output_type": "stream",
     "text": [
      "/opt/anaconda3/envs/tf/lib/python3.7/site-packages/sklearn/base.py:493: FutureWarning: The feature names should match those that were passed during fit. Starting version 1.2, an error will be raised.\n",
      "Feature names unseen at fit time:\n",
      "- delivery_delay\n",
      "- frequence\n",
      "- montant\n",
      "- recence\n",
      "- review_score\n",
      "Feature names seen at fit time, yet now missing:\n",
      "- Delivery\n",
      "- Frequency\n",
      "- MonetaryValue\n",
      "- Recency\n",
      "- Review\n",
      "\n",
      "  warnings.warn(message, FutureWarning)\n"
     ]
    }
   ],
   "source": [
    "df_month = kpi_months['kpi_months_2']\n",
    "df_month = df_month.fillna(df_month.mean())\n",
    "kmeans_month = KMeans(n_clusters=6, random_state=42)\n",
    "kmeans_month.fit(df_month)\n",
    "labels_true = kmeans_month.labels_\n",
    "\n",
    "labels_pred = model.predict(df_month)"
   ]
  },
  {
   "cell_type": "code",
   "execution_count": 12,
   "metadata": {},
   "outputs": [
    {
     "data": {
      "image/png": "[encoded data removed]",
      "text/plain": [
       "<Figure size 640x480 with 1 Axes>"
      ]
     },
     "metadata": {},
     "output_type": "display_data"
    }
   ],
   "source": [
    "aris = []\n",
    "kpi_year_1.sort_values(by='customer_unique_id', inplace=True)\n",
    "model = KMeans(n_clusters=5, random_state=42)\n",
    "model.fit(kpi_year_1)\n",
    "\n",
    "# On compare les même clients\n",
    "for months in range(1,9):\n",
    "    \n",
    "    df_month = kpi_months[f'kpi_months_{months}']\n",
    "    df_month = df_month.fillna(df_month.mean())\n",
    "    kmeans_month = KMeans(n_clusters=6, random_state=42)\n",
    "    kmeans_month.fit(df_month)\n",
    "    labels_true = kmeans_month.labels_\n",
    "\n",
    "    labels_pred = model.predict(df_month)\n",
    "    aris.append(adjusted_rand_score(labels_true, labels_pred))\n",
    "\n",
    "x_index = ['Janvier', 'Fevrier', 'Mars', 'Avril', 'Mai', 'Juin', 'Juillet', 'Aout']\n",
    "\n",
    "sns.lineplot(x=x_index, y=aris, linestyle='dotted', marker='o', markersize=12)\n",
    "\n",
    "plt.ylabel('Score ARI')\n",
    "plt.title('ARI scores entre la première année et les mois suivants')\n",
    "plt.show()"
   ]
  },
  {
   "attachments": {},
   "cell_type": "markdown",
   "metadata": {},
   "source": [
    "On peut réentrainer le modèle en aout parce qu'on a un décrochage. Soit au bout de M+8"
   ]
  }
 ],
 "metadata": {
  "kernelspec": {
   "display_name": "Python 3",
   "language": "python",
   "name": "python3"
  },
  "language_info": {
   "codemirror_mode": {
    "name": "ipython",
    "version": 3
   },
   "file_extension": ".py",
   "mimetype": "text/x-python",
   "name": "python",
   "nbconvert_exporter": "python",
   "pygments_lexer": "ipython3",
   "version": "3.7.13"
  },
  "orig_nbformat": 4
 },
 "nbformat": 4,
 "nbformat_minor": 2
}
