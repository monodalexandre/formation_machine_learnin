{
 "cells": [
  {
   "cell_type": "code",
   "execution_count": null,
   "metadata": {},
   "outputs": [],
   "source": [
    "# SUMMARY\n",
    "\n",
    "## 0 - [Import libraries and files](#ch0)\n",
    "\n",
    "## 1 - [Feature selection](#ch1)\n",
    "\n",
    "## 2 - [Feature engineering](#ch2)"
   ]
  },
  {
   "cell_type": "code",
   "execution_count": null,
   "metadata": {},
   "outputs": [],
   "source": [
    "# New column, with Yuka2 score\n",
    "\n",
    "### POUR MOI : Harmoniser les scores, sur une base 100\n",
    "\n",
    "data[\"score_nutri\"] = data[\"nutrition-score-fr_100g\"]*60/100\n",
    "\n",
    "data[\"score_additives\"] = np.nan\n",
    "for i in data[\"additives_n\"]:       # Les données ne sont pas propre, faire un traitement avant pour enlever le point à la fin de chaque nb de la colonne 'additives_n'\n",
    "    if i <= 4:\n",
    "        data[\"score_additives\"] = 0\n",
    "    if i > 4 and i <=12 :\n",
    "        data[\"score_additives\"] = 1\n",
    "    ...\n",
    "\n",
    "data[\"score_bio\"] = np.nan\n",
    "bio_labels = [\"bio\", \"AB\", \"OGM\", 'Organic']\n",
    "for i in data.labels_fr :\n",
    "    if i.contains() :\n",
    "        data.score_bio = 10\n",
    "\n",
    "data[\"score_local\"] = np.nan\n",
    "local_label = \"France\"\n",
    "for i in data.labels_fr :\n",
    "    if i.contains() :\n",
    "        data.score_local = 10\n",
    "\n",
    "\n",
    "\n",
    "\n",
    "data[\"Yuka2\"] = data.score_nutri + data.score_additives + ..."
   ]
  }
 ],
 "metadata": {
  "kernelspec": {
   "display_name": "Python 3 (ipykernel)",
   "language": "python",
   "name": "python3"
  },
  "language_info": {
   "codemirror_mode": {
    "name": "ipython",
    "version": 3
   },
   "file_extension": ".py",
   "mimetype": "text/x-python",
   "name": "python",
   "nbconvert_exporter": "python",
   "pygments_lexer": "ipython3",
   "version": "3.10.2"
  }
 },
 "nbformat": 4,
 "nbformat_minor": 2
}
