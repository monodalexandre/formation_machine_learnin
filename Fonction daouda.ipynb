{
 "cells": [
  {
   "attachments": {},
   "cell_type": "markdown",
   "metadata": {},
   "source": [
    "Def fonction : à l’intérieur on dit le type des argumetns ; et dire l format de sortie (df, liste, …) ; décrire les arguments de la fonction"
   ]
  },
  {
   "cell_type": "code",
   "execution_count": null,
   "metadata": {},
   "outputs": [],
   "source": [
    "### Define a function to prepare input data for a given start date \n",
    "def prepare_input_data(start_date, batch=True, batching_time=8) : \n",
    "    \"\"\"\n",
    "            Arguments\n",
    "            ---------\n",
    "                start_date: datetime\n",
    "                    a speficic date to get orders\n",
    "                batch : bool\n",
    "                    specify if we are batching or not. In case of mono dispatch, the most recent order will be consider.\n",
    "                batching_time : int\n",
    "                    batching time used to collect all orders and drivers from start_date to start_date +  batching_time\n",
    "            \n",
    "            Return\n",
    "            ------- \n",
    "                list of nearby orders and drivers dataframe to create json inputs file (for Nextmv and LogisticsOS)\n",
    "    \"\"\"\n",
    "    ## define batching end date. Re-format datetime format\n",
    "    start_date_str = pd.to_datetime(start_date).strftime(\"%Y-%m-%d %H:%M:%S\")\n",
    "\n",
    "    ## In case of batching \n",
    "    if batch==True:\n",
    "        batching_time_end =  start_date + datetime.timedelta(minutes=batching_time)\n",
    "        batching_time_end_str = pd.to_datetime(batching_time_end).strftime(\"%Y-%m-%d %H:%M:%S\")\n",
    "        data = orders.loc[(orders['order_time_cvrt']>= start_date_str) & (orders['order_time_cvrt'] <=batching_time_end_str)]\n",
    "\n",
    "    ## In case of mono dispatch\n",
    "    else:\n",
    "        last_order = orders.loc[orders['order_time_cvrt']<= start_date_str]['order_id'].iloc[-1]\n",
    "        data = orders.loc[orders['order_id']==last_order]\n",
    "\n",
    "    ## Get all orders\n",
    "    orders_list =  data.order_id.unique().tolist()\n",
    "\n",
    "    ## list which will contain driver locations and ongoing orders\n",
    "    drivers_input = []\n",
    "    ## For each order, get the list of nearby drivers. For each nearby driver, retrieve ongoing order\n",
    "    ## Ongoing order : order previously assigned to the driver (before the run) and which is not yet delivered at the run time.\n",
    "    ## For orders input : return order id and time, delivery address (lat, lng), restaurant adress (lat, lng)\n",
    "    ## For drivers input : return driver id, location and timestamp, ongoing orders (order id and time, assigned at, delivered at)\n",
    "    for order in orders_list :\n",
    "        drivers, nearby_drivers_table = nearby_drivers(order, start_date, batch, batching_time)\n",
    "        nearby_drivers_orders = orders.loc[orders['driverid'].isin(drivers)].drop_duplicates('order_id')\n",
    "        ongoing_orders = nearby_drivers_orders.loc[(nearby_drivers_orders['final_assigned_at']<= start_date_str) & (nearby_drivers_orders['food_delivered']>= start_date_str)].drop_duplicates('order_id')[['driverid', 'order_id', 'order_time', 'final_assigned_at', 'food_delivered']].sort_values('driverid')\n",
    "        ongoing_orders.columns = ['driverid','ongoing_order_id', 'ongoing_order_time',\t'ongoing_order_final_assigned_at',\t'ongoing_order_delivered_at']\n",
    "        ongoing_orders.ongoing_order_id = ongoing_orders.ongoing_order_id.fillna('')\n",
    "        drivers_table = nearby_drivers_table.merge(ongoing_orders, on ='driverid', how='left')\n",
    "        drivers_input.append(drivers_table)\n",
    "\n",
    "    orders_table = data[['order_id','order_time', 'delivery_address_lat', 'delivery_address_lng','shopid','restaurant_lat', 'restaurant_lng']].drop_duplicates('order_id').sort_values('order_time')\n",
    "    drivers_input = pd.concat(drivers_input).sort_values(['received_timestamp'], ascending=False).drop_duplicates('driverid')\n",
    "    backlog_input =  orders.loc[orders['order_id'].isin(drivers_input.ongoing_order_id.unique())][['order_id','order_time', 'delivery_address_lat', 'delivery_address_lng','shopid','restaurant_lat', 'restaurant_lng']].drop_duplicates('order_id').sort_values('order_time')\n",
    "    return (drivers_input, orders_table, backlog_input)"
   ]
  }
 ],
 "metadata": {
  "kernelspec": {
   "display_name": "Python 3",
   "language": "python",
   "name": "python3"
  },
  "language_info": {
   "name": "python",
   "version": "3.7.13"
  },
  "orig_nbformat": 4
 },
 "nbformat": 4,
 "nbformat_minor": 2
}
