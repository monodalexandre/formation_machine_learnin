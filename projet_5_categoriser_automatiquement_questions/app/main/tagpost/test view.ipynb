{
 "cells": [
  {
   "cell_type": "code",
   "execution_count": 1,
   "metadata": {},
   "outputs": [
    {
     "name": "stderr",
     "output_type": "stream",
     "text": [
      "[nltk_data] Downloading package punkt to\n",
      "[nltk_data]     /Users/alexandremonod/nltk_data...\n",
      "[nltk_data]   Package punkt is already up-to-date!\n",
      "[nltk_data] Downloading package stopwords to\n",
      "[nltk_data]     /Users/alexandremonod/nltk_data...\n",
      "[nltk_data]   Package stopwords is already up-to-date!\n",
      "[nltk_data] Downloading package wordnet to\n",
      "[nltk_data]     /Users/alexandremonod/nltk_data...\n",
      "[nltk_data]   Package wordnet is already up-to-date!\n",
      "[nltk_data] Downloading package omw-1.4 to\n",
      "[nltk_data]     /Users/alexandremonod/nltk_data...\n",
      "[nltk_data]   Package omw-1.4 is already up-to-date!\n"
     ]
    }
   ],
   "source": [
    "import pandas as pd\n",
    "import gensim\n",
    "import spacy\n",
    "nlp = spacy.load(\"en_core_web_sm\")\n",
    "from joblib import load\n",
    "\n",
    "\n",
    "from gensim.models import TfidfModel\n",
    "from bs4 import BeautifulSoup\n",
    "\n",
    "import nltk\n",
    "nltk.download('punkt')\n",
    "nltk.download('stopwords')\n",
    "nltk.download('wordnet')\n",
    "nltk.download('omw-1.4')\n",
    "from nltk.corpus import stopwords\n",
    "from nltk.corpus import wordnet\n",
    "from nltk.stem import WordNetLemmatizer\n",
    "\n",
    "# Model\n",
    "from sklearn.feature_extraction.text import CountVectorizer\n",
    "from sklearn.preprocessing import MultiLabelBinarizer"
   ]
  },
  {
   "cell_type": "code",
   "execution_count": 20,
   "metadata": {},
   "outputs": [],
   "source": [
    "def suppr_balises_html(text):\n",
    "    soup = BeautifulSoup(text, \"html.parser\")\n",
    "    text_out = ' '.join(soup.stripped_strings)\n",
    "    # Remove \\n\n",
    "    text_out = text_out.replace(\"\\n\", \" \")        \n",
    "    return text_out\n",
    "\n",
    "def get_wordnet_pos(pos_tag):\n",
    "    if pos_tag.startswith('J'):\n",
    "        return wordnet.ADJ\n",
    "    elif pos_tag.startswith('V'):\n",
    "        return wordnet.VERB\n",
    "    elif pos_tag.startswith('N'):\n",
    "        return wordnet.NOUN\n",
    "    elif pos_tag.startswith('R'):\n",
    "        return wordnet.ADV\n",
    "    else:\n",
    "        return None\n",
    "\n",
    "def replace_pos(tokens):\n",
    "    k = 0\n",
    "    for i in tokens.keys():\n",
    "        tokens[i] = get_wordnet_pos(tokens[i])\n",
    "        k += 1\n",
    "    return tokens\n",
    "\n",
    "def lemmatize(tokens):\n",
    "    WNlemmatizer = WordNetLemmatizer()\n",
    "    lem_tokens = []\n",
    "    for key in tokens.keys():\n",
    "        if tokens[key] is None :    # In case there are no tags\n",
    "            lem_tokens.append(key)\n",
    "        else :\n",
    "            lem_tokens.append(WNlemmatizer.lemmatize(key, pos=tokens[key]) )\n",
    "    return lem_tokens\n",
    "\n",
    "def listToString(s):\n",
    "    str1 = \"\"\n",
    "    for ele in s:\n",
    "        str1 += ele + ' '\n",
    "    return str1\n",
    "\n",
    "def keep_nouns(sentence):\n",
    "    liste = []\n",
    "    for word in sentence:\n",
    "        if word.pos_ == \"NOUN\" or word.pos_ == \"PROPN\":\n",
    "            liste.append(word)\n",
    "    return liste\n",
    "\n",
    "def tokenization_full(text):\n",
    "    text_out = suppr_balises_html(text)\n",
    "    text_out = text_out.lower()\n",
    "    # Tokenize\n",
    "    tokenizer = nltk.RegexpTokenizer(r'\\w+')\n",
    "    tokenized = tokenizer.tokenize(text_out)\n",
    "    # Stopwords\n",
    "    stopwords = nltk.corpus.stopwords.words('english')\n",
    "    text_without_sw = [word for word in tokenized if word not in stopwords and len(word) > 2]\n",
    "    # First need to POS-tag tokens\n",
    "    postagged = dict(nltk.pos_tag(text_without_sw))\n",
    "    tokens = replace_pos(postagged)\n",
    "    lem_tokens = lemmatize(tokens)\n",
    "    # NER\n",
    "    tokens_from_list_to_strings = listToString(lem_tokens)\n",
    "    sentences_nlp_ = nlp(tokens_from_list_to_strings)\n",
    "    ner_tokens = keep_nouns(sentences_nlp_)\n",
    "    detokenized = [token.text_with_ws for token in ner_tokens]\n",
    "    return detokenized"
   ]
  },
  {
   "cell_type": "code",
   "execution_count": 4,
   "metadata": {},
   "outputs": [],
   "source": [
    "post_in = \"\"\"\n",
    "\n",
    "I'm trying to use pandas to manipulate a .csv file but I get this error:\n",
    "\n",
    "pandas.parser.CParserError: Error tokenizing data. C error: Expected 2 fields in line 3, saw 12\n",
    "\n",
    "I have tried to read the pandas docs, but found nothing.\n",
    "\n",
    "My code is simple:\"\"\""
   ]
  },
  {
   "cell_type": "code",
   "execution_count": 6,
   "metadata": {},
   "outputs": [],
   "source": [
    "best_model = load('best_model.pkl')\n",
    "multilabel_binarizer_cv = load('multilabel_binarizer_cv.pkl')\n",
    "cvect_vocabulary = load('cvect_vocabulary.pkl')"
   ]
  },
  {
   "cell_type": "code",
   "execution_count": 21,
   "metadata": {},
   "outputs": [
    {
     "name": "stdout",
     "output_type": "stream",
     "text": [
      "['panda ', 'manipulate ', 'csv ', 'file ', 'error ', 'parser ', 'cparsererror ', 'tokenizing ', 'data ', 'field ', 'line ', 'code ', 'simple ']\n"
     ]
    }
   ],
   "source": [
    "post_out = tokenization_full(post_in)\n",
    "print(post_out)"
   ]
  },
  {
   "cell_type": "code",
   "execution_count": 22,
   "metadata": {},
   "outputs": [],
   "source": [
    "cvect = CountVectorizer(stop_words='english', max_df=0.95, min_df=10,\n",
    "                vocabulary=cvect_vocabulary)\n",
    "cv_transform = cvect.fit_transform(list(post_out))\n",
    "ft_cv = cvect.get_feature_names_out()\n",
    "cv_data_post_in = pd.DataFrame.sparse.from_spmatrix(cv_transform, columns=ft_cv)\n",
    "cv_data_post_in.drop(columns=\"tag\", inplace=True)"
   ]
  },
  {
   "cell_type": "code",
   "execution_count": 23,
   "metadata": {},
   "outputs": [],
   "source": [
    "prediction_cv_format = best_model.predict(cv_data_post_in)\n",
    "prediction_tag  = multilabel_binarizer_cv.inverse_transform(prediction_cv_format)"
   ]
  },
  {
   "cell_type": "code",
   "execution_count": 24,
   "metadata": {},
   "outputs": [
    {
     "data": {
      "text/plain": [
       "[('pandas', 'python', 'string'), (), (), ('c', 'file', 'linux'), ()]"
      ]
     },
     "execution_count": 24,
     "metadata": {},
     "output_type": "execute_result"
    }
   ],
   "source": [
    "prediction_tag[0:5]"
   ]
  },
  {
   "cell_type": "code",
   "execution_count": 19,
   "metadata": {},
   "outputs": [
    {
     "data": {
      "text/plain": [
       "str"
      ]
     },
     "execution_count": 19,
     "metadata": {},
     "output_type": "execute_result"
    }
   ],
   "source": [
    "type(post_out)"
   ]
  },
  {
   "cell_type": "code",
   "execution_count": null,
   "metadata": {},
   "outputs": [],
   "source": []
  }
 ],
 "metadata": {
  "kernelspec": {
   "display_name": "Python 3.7.13",
   "language": "python",
   "name": "python3"
  },
  "language_info": {
   "codemirror_mode": {
    "name": "ipython",
    "version": 3
   },
   "file_extension": ".py",
   "mimetype": "text/x-python",
   "name": "python",
   "nbconvert_exporter": "python",
   "pygments_lexer": "ipython3",
   "version": "3.7.13"
  },
  "orig_nbformat": 4,
  "vscode": {
   "interpreter": {
    "hash": "dc1b947dce198ff7f2d2cb152b2cbb61132fce4429fa808fd5b89ac4d7df39fa"
   }
  }
 },
 "nbformat": 4,
 "nbformat_minor": 2
}
