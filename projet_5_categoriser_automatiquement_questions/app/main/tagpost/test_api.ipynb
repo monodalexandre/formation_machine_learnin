{
 "cells": [
  {
   "cell_type": "code",
   "execution_count": 1,
   "metadata": {},
   "outputs": [
    {
     "name": "stderr",
     "output_type": "stream",
     "text": [
      "[nltk_data] Downloading package punkt to\n",
      "[nltk_data]     /Users/alexandremonod/nltk_data...\n",
      "[nltk_data]   Package punkt is already up-to-date!\n",
      "[nltk_data] Downloading package stopwords to\n",
      "[nltk_data]     /Users/alexandremonod/nltk_data...\n",
      "[nltk_data]   Package stopwords is already up-to-date!\n",
      "[nltk_data] Downloading package wordnet to\n",
      "[nltk_data]     /Users/alexandremonod/nltk_data...\n",
      "[nltk_data]   Package wordnet is already up-to-date!\n",
      "[nltk_data] Downloading package omw-1.4 to\n",
      "[nltk_data]     /Users/alexandremonod/nltk_data...\n",
      "[nltk_data]   Package omw-1.4 is already up-to-date!\n"
     ]
    }
   ],
   "source": [
    "from flask import Flask, render_template, request\n",
    "\n",
    "import pandas as pd\n",
    "import gensim\n",
    "import spacy\n",
    "nlp = spacy.load(\"en_core_web_sm\")\n",
    "from joblib import load\n",
    "\n",
    "\n",
    "from gensim.models import TfidfModel\n",
    "from bs4 import BeautifulSoup\n",
    "\n",
    "import nltk\n",
    "nltk.download('punkt')\n",
    "nltk.download('stopwords')\n",
    "nltk.download('wordnet')\n",
    "nltk.download('omw-1.4')\n",
    "from nltk.corpus import stopwords\n",
    "from nltk.corpus import wordnet\n",
    "from nltk.stem import WordNetLemmatizer\n",
    "\n",
    "# Model\n",
    "from sklearn.feature_extraction.text import CountVectorizer\n",
    "from sklearn.preprocessing import MultiLabelBinarizer"
   ]
  },
  {
   "cell_type": "code",
   "execution_count": 3,
   "metadata": {},
   "outputs": [],
   "source": [
    "def suppr_balises_html(text):\n",
    "    soup = BeautifulSoup(text, \"html.parser\")\n",
    "    text_out = ' '.join(soup.stripped_strings)\n",
    "    # Remove \\n\n",
    "    text_out = text_out.replace(\"\\n\", \" \")        \n",
    "    return text_out\n",
    "\n",
    "def get_wordnet_pos(pos_tag):\n",
    "    if pos_tag.startswith('J'):\n",
    "        return wordnet.ADJ\n",
    "    elif pos_tag.startswith('V'):\n",
    "        return wordnet.VERB\n",
    "    elif pos_tag.startswith('N'):\n",
    "        return wordnet.NOUN\n",
    "    elif pos_tag.startswith('R'):\n",
    "        return wordnet.ADV\n",
    "    else:\n",
    "        return None\n",
    "\n",
    "def replace_pos(tokens):\n",
    "    k = 0\n",
    "    for i in tokens.keys():\n",
    "        tokens[i] = get_wordnet_pos(tokens[i])\n",
    "        k += 1\n",
    "    return tokens\n",
    "\n",
    "def lemmatize(tokens):\n",
    "    WNlemmatizer = WordNetLemmatizer()\n",
    "    lem_tokens = []\n",
    "    for key in tokens.keys():\n",
    "        if tokens[key] is None :    # In case there are no tags\n",
    "            lem_tokens.append(key)\n",
    "        else :\n",
    "            lem_tokens.append(WNlemmatizer.lemmatize(key, pos=tokens[key]) )\n",
    "    return lem_tokens\n",
    "\n",
    "def listToString(s):\n",
    "    str1 = \"\"\n",
    "    for ele in s:\n",
    "        str1 += ele + ' '\n",
    "    return str1\n",
    "\n",
    "def keep_nouns(sentence):\n",
    "    liste = []\n",
    "    for word in sentence:\n",
    "        if word.pos_ == \"NOUN\" or word.pos_ == \"PROPN\":\n",
    "            liste.append(word)\n",
    "    return liste\n",
    "\n",
    "def tokenization_full(text):\n",
    "    text_out = suppr_balises_html(text)\n",
    "    text_out = text_out.lower()\n",
    "    # Tokenize\n",
    "    tokenizer = nltk.RegexpTokenizer(r'\\w+')\n",
    "    tokenized = tokenizer.tokenize(text_out)\n",
    "    # Stopwords\n",
    "    stopwords = nltk.corpus.stopwords.words('english')\n",
    "    text_without_sw = [word for word in tokenized if word not in stopwords and len(word) > 2]\n",
    "    # First need to POS-tag tokens\n",
    "    postagged = dict(nltk.pos_tag(text_without_sw))\n",
    "    tokens = replace_pos(postagged)\n",
    "    lem_tokens = lemmatize(tokens)\n",
    "    # NER\n",
    "    tokens_from_list_to_strings = listToString(lem_tokens)\n",
    "    sentences_nlp_ = nlp(tokens_from_list_to_strings)\n",
    "    ner_tokens = keep_nouns(sentences_nlp_)\n",
    "    return ner_tokens"
   ]
  },
  {
   "cell_type": "code",
   "execution_count": 2,
   "metadata": {},
   "outputs": [],
   "source": [
    "# Chargement du modèle nécessaire à l'API\n",
    "best_model = load('best_model')\n",
    "model_fit = load('best_model_fit.pkl')"
   ]
  },
  {
   "cell_type": "code",
   "execution_count": 8,
   "metadata": {},
   "outputs": [],
   "source": [
    "post_in = \"<p>Is it possible to define a class in C# such that</p>\\n\\n<pre><code>class GenericCollection&lt;T&gt; : SomeBaseCollection&lt;T&gt; where T : Delegate\\n</code></pre>\\n\\n<p>I couldn't for the life of me accomplish this last night in .NET 3.5. I tried using</p>\\n\\n<p><code>delegate, Delegate, Action&lt;T&gt; and Func&lt;T, T&gt;</code></p>\\n\\n<p>It seems to me that this should be allowable in some way. I'm trying to implement my own EventQueue.</p>\\n\\n<p>I ended up just doing this [primitive approximation mind you].</p>\\n\\n<pre><code>internal delegate void DWork();\\n\\nclass EventQueue {\\n    private Queue&lt;DWork&gt; eventq;\\n}\\n</code></pre>\\n\\n<p>But then I lose the ability to reuse the same definition for different types of functions.</p>\\n\\n<p>Thoughts?</p>\\n\""
   ]
  },
  {
   "cell_type": "code",
   "execution_count": 9,
   "metadata": {},
   "outputs": [],
   "source": [
    "# Transformation des données saisies en listes de mots (mêmes transformations que notebook d'anal. explo.)\n",
    "post_out = tokenization_full(post_in)\n",
    "# post_out = [post_out]"
   ]
  },
  {
   "cell_type": "code",
   "execution_count": 10,
   "metadata": {},
   "outputs": [
    {
     "ename": "NotFittedError",
     "evalue": "Vocabulary not fitted or provided",
     "output_type": "error",
     "traceback": [
      "\u001b[0;31m---------------------------------------------------------------------------\u001b[0m",
      "\u001b[0;31mNotFittedError\u001b[0m                            Traceback (most recent call last)",
      "\u001b[0;32m/var/folders/z3/8962l16x2hbb_4qm7s2df7gc0000gn/T/ipykernel_19818/2412102998.py\u001b[0m in \u001b[0;36m<module>\u001b[0;34m\u001b[0m\n\u001b[1;32m      2\u001b[0m \u001b[0mcvect\u001b[0m \u001b[0;34m=\u001b[0m \u001b[0mCountVectorizer\u001b[0m\u001b[0;34m(\u001b[0m\u001b[0mstop_words\u001b[0m\u001b[0;34m=\u001b[0m\u001b[0;34m'english'\u001b[0m\u001b[0;34m,\u001b[0m \u001b[0mpreprocessor\u001b[0m\u001b[0;34m=\u001b[0m\u001b[0;34m' '\u001b[0m\u001b[0;34m.\u001b[0m\u001b[0mjoin\u001b[0m\u001b[0;34m)\u001b[0m\u001b[0;34m\u001b[0m\u001b[0;34m\u001b[0m\u001b[0m\n\u001b[1;32m      3\u001b[0m \u001b[0mcv_fit\u001b[0m \u001b[0;34m=\u001b[0m \u001b[0mmodel_fit\u001b[0m\u001b[0;34m\u001b[0m\u001b[0;34m\u001b[0m\u001b[0m\n\u001b[0;32m----> 4\u001b[0;31m \u001b[0mcv_transform\u001b[0m \u001b[0;34m=\u001b[0m \u001b[0mcvect\u001b[0m\u001b[0;34m.\u001b[0m\u001b[0mtransform\u001b[0m\u001b[0;34m(\u001b[0m\u001b[0mpost_out\u001b[0m\u001b[0;34m)\u001b[0m\u001b[0;34m\u001b[0m\u001b[0;34m\u001b[0m\u001b[0m\n\u001b[0m\u001b[1;32m      5\u001b[0m \u001b[0mft_cv\u001b[0m \u001b[0;34m=\u001b[0m \u001b[0mcv_fit\u001b[0m\u001b[0;34m.\u001b[0m\u001b[0mget_feature_names_out\u001b[0m\u001b[0;34m(\u001b[0m\u001b[0;34m)\u001b[0m\u001b[0;34m\u001b[0m\u001b[0;34m\u001b[0m\u001b[0m\n\u001b[1;32m      6\u001b[0m \u001b[0mcv_data\u001b[0m \u001b[0;34m=\u001b[0m \u001b[0mpd\u001b[0m\u001b[0;34m.\u001b[0m\u001b[0mDataFrame\u001b[0m\u001b[0;34m.\u001b[0m\u001b[0msparse\u001b[0m\u001b[0;34m.\u001b[0m\u001b[0mfrom_spmatrix\u001b[0m\u001b[0;34m(\u001b[0m\u001b[0mcv_transform\u001b[0m\u001b[0;34m,\u001b[0m \u001b[0mcolumns\u001b[0m\u001b[0;34m=\u001b[0m\u001b[0mft_cv\u001b[0m\u001b[0;34m)\u001b[0m\u001b[0;34m\u001b[0m\u001b[0;34m\u001b[0m\u001b[0m\n",
      "\u001b[0;32m/opt/anaconda3/envs/tf/lib/python3.7/site-packages/sklearn/feature_extraction/text.py\u001b[0m in \u001b[0;36mtransform\u001b[0;34m(self, raw_documents)\u001b[0m\n\u001b[1;32m   1374\u001b[0m                 \u001b[0;34m\"Iterable over raw text documents expected, string object received.\"\u001b[0m\u001b[0;34m\u001b[0m\u001b[0;34m\u001b[0m\u001b[0m\n\u001b[1;32m   1375\u001b[0m             )\n\u001b[0;32m-> 1376\u001b[0;31m         \u001b[0mself\u001b[0m\u001b[0;34m.\u001b[0m\u001b[0m_check_vocabulary\u001b[0m\u001b[0;34m(\u001b[0m\u001b[0;34m)\u001b[0m\u001b[0;34m\u001b[0m\u001b[0;34m\u001b[0m\u001b[0m\n\u001b[0m\u001b[1;32m   1377\u001b[0m \u001b[0;34m\u001b[0m\u001b[0m\n\u001b[1;32m   1378\u001b[0m         \u001b[0;31m# use the same matrix-building strategy as fit_transform\u001b[0m\u001b[0;34m\u001b[0m\u001b[0;34m\u001b[0m\u001b[0;34m\u001b[0m\u001b[0m\n",
      "\u001b[0;32m/opt/anaconda3/envs/tf/lib/python3.7/site-packages/sklearn/feature_extraction/text.py\u001b[0m in \u001b[0;36m_check_vocabulary\u001b[0;34m(self)\u001b[0m\n\u001b[1;32m    496\u001b[0m             \u001b[0mself\u001b[0m\u001b[0;34m.\u001b[0m\u001b[0m_validate_vocabulary\u001b[0m\u001b[0;34m(\u001b[0m\u001b[0;34m)\u001b[0m\u001b[0;34m\u001b[0m\u001b[0;34m\u001b[0m\u001b[0m\n\u001b[1;32m    497\u001b[0m             \u001b[0;32mif\u001b[0m \u001b[0;32mnot\u001b[0m \u001b[0mself\u001b[0m\u001b[0;34m.\u001b[0m\u001b[0mfixed_vocabulary_\u001b[0m\u001b[0;34m:\u001b[0m\u001b[0;34m\u001b[0m\u001b[0;34m\u001b[0m\u001b[0m\n\u001b[0;32m--> 498\u001b[0;31m                 \u001b[0;32mraise\u001b[0m \u001b[0mNotFittedError\u001b[0m\u001b[0;34m(\u001b[0m\u001b[0;34m\"Vocabulary not fitted or provided\"\u001b[0m\u001b[0;34m)\u001b[0m\u001b[0;34m\u001b[0m\u001b[0;34m\u001b[0m\u001b[0m\n\u001b[0m\u001b[1;32m    499\u001b[0m \u001b[0;34m\u001b[0m\u001b[0m\n\u001b[1;32m    500\u001b[0m         \u001b[0;32mif\u001b[0m \u001b[0mlen\u001b[0m\u001b[0;34m(\u001b[0m\u001b[0mself\u001b[0m\u001b[0;34m.\u001b[0m\u001b[0mvocabulary_\u001b[0m\u001b[0;34m)\u001b[0m \u001b[0;34m==\u001b[0m \u001b[0;36m0\u001b[0m\u001b[0;34m:\u001b[0m\u001b[0;34m\u001b[0m\u001b[0;34m\u001b[0m\u001b[0m\n",
      "\u001b[0;31mNotFittedError\u001b[0m: Vocabulary not fitted or provided"
     ]
    }
   ],
   "source": [
    "# Model\n",
    "cvect = CountVectorizer(stop_words='english', preprocessor=' '.join)\n",
    "cv_fit = model_fit\n",
    "cv_transform = cvect.transform(post_out)\n",
    "ft_cv = cv_fit.get_feature_names_out()\n",
    "cv_data = pd.DataFrame.sparse.from_spmatrix(cv_transform, columns=ft_cv)\n",
    "#Prediction\n",
    "prediction_cv_format = best_model.predict(cv_data)\n",
    "multilabel_binarizer = MultiLabelBinarizer()\n",
    "prediction_tag  = multilabel_binarizer.inverse_transform(prediction_cv_format)\n",
    "print(\"Predicted:\", prediction_tag[0:5]) # CHANGE WITH NAME OF THE COLUMNS WITH THE TAGS!\n",
    "print(\"True:\", df[0:5])\n",
    "# Affichage du template de résultat\n",
    "return render_template('resultat.html', Post=post_in,\n",
    "                       Tags=prediction_tag[0:5])"
   ]
  }
 ],
 "metadata": {
  "kernelspec": {
   "display_name": "Python 3.7.13",
   "language": "python",
   "name": "python3"
  },
  "language_info": {
   "codemirror_mode": {
    "name": "ipython",
    "version": 3
   },
   "file_extension": ".py",
   "mimetype": "text/x-python",
   "name": "python",
   "nbconvert_exporter": "python",
   "pygments_lexer": "ipython3",
   "version": "3.7.13"
  },
  "orig_nbformat": 4,
  "vscode": {
   "interpreter": {
    "hash": "dc1b947dce198ff7f2d2cb152b2cbb61132fce4429fa808fd5b89ac4d7df39fa"
   }
  }
 },
 "nbformat": 4,
 "nbformat_minor": 2
}
