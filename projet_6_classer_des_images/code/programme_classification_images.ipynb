{
  "cells": [
    {
      "cell_type": "markdown",
      "metadata": {
        "id": "4vjrohKFKt-0"
      },
      "source": [
        "!pip install --quiet gradio"
      ]
    },
    {
      "cell_type": "code",
      "execution_count": 1,
      "metadata": {},
      "outputs": [],
      "source": [
        "# Gradio est une interface graphique qui se comporte comme une API"
      ]
    },
    {
      "cell_type": "code",
      "execution_count": 2,
      "metadata": {
        "id": "Zi3QyYUQHMKo"
      },
      "outputs": [
        {
          "name": "stderr",
          "output_type": "stream",
          "text": [
            "/Users/alexandremonod/Python/OC_ML/projet_6_classer_des_images/.venv/lib/python3.10/site-packages/tqdm/auto.py:21: TqdmWarning: IProgress not found. Please update jupyter and ipywidgets. See https://ipywidgets.readthedocs.io/en/stable/user_install.html\n",
            "  from .autonotebook import tqdm as notebook_tqdm\n"
          ]
        }
      ],
      "source": [
        "# python librairies\n",
        "import pandas as pd\n",
        "import numpy as np\n",
        "import cv2\n",
        "import tensorflow as tf\n",
        "#from modules import preprocess_image1\n",
        "from keras.models import load_model\n",
        "import gradio as gr\n",
        "import joblib\n"
      ]
    },
    {
      "cell_type": "markdown",
      "metadata": {
        "id": "F4mR0FxCW51m"
      },
      "source": [
        "Chargement du modèle VGG19 choisi pour le déploiement."
      ]
    },
    {
      "cell_type": "code",
      "execution_count": 3,
      "metadata": {
        "colab": {
          "base_uri": "https://localhost:8080/"
        },
        "id": "F44N1kBdRsRW",
        "outputId": "fb5f5074-69ca-4738-bc17-6a861538a2ba"
      },
      "outputs": [
        {
          "name": "stderr",
          "output_type": "stream",
          "text": [
            "WARNING:absl:At this time, the v2.11+ optimizer `tf.keras.optimizers.Adam` runs slowly on M1/M2 Macs, please use the legacy Keras optimizer instead, located at `tf.keras.optimizers.legacy.Adam`.\n",
            "WARNING:absl:There is a known slowdown when using v2.11+ Keras optimizers on M1/M2 Macs. Falling back to the legacy Keras optimizer, i.e., `tf.keras.optimizers.legacy.Adam`.\n"
          ]
        },
        {
          "name": "stdout",
          "output_type": "stream",
          "text": [
            "WARNING:tensorflow:Error in loading the saved optimizer state. As a result, your model is starting with a freshly initialized optimizer.\n"
          ]
        },
        {
          "name": "stderr",
          "output_type": "stream",
          "text": [
            "WARNING:tensorflow:Error in loading the saved optimizer state. As a result, your model is starting with a freshly initialized optimizer.\n"
          ]
        }
      ],
      "source": [
        "model = load_model('model_complete.h5')"
      ]
    },
    {
      "cell_type": "code",
      "execution_count": 4,
      "metadata": {},
      "outputs": [],
      "source": [
        "#Chargement des classes (races de chiens)\n",
        "classes = [\"Afghan_hound\", \"Scottish_deerhound\", \"Maltese_dog\"\n",
        "           , \"Pomeranian\", \"Irish_wolfhound\"]"
      ]
    },
    {
      "cell_type": "markdown",
      "metadata": {
        "id": "pJtWrvbWJRTD"
      },
      "source": [
        "classes=joblib.load(\"/content/drive/MyDrive//Colab Notebooks/Ingenieur IA/Mission_5 Classer_image_deep Learning/Classes.csv\")"
      ]
    },
    {
      "cell_type": "markdown",
      "metadata": {
        "id": "3vh6FtKRZYny"
      },
      "source": [
        "**Fonction de preprocessing des images**"
      ]
    },
    {
      "cell_type": "code",
      "execution_count": 5,
      "metadata": {
        "id": "TYICqF0zKO5c"
      },
      "outputs": [],
      "source": [
        "def preprocess_image1(image):\n",
        "    # Convert to RGB\n",
        "    im_rgb = cv2.cvtColor(image, cv2.COLOR_BGR2RGB)\n",
        "    # Resize image\n",
        "    dim = (224, 224) # Format Resnet car AD a choisi Resnet\n",
        "    img = cv2.resize(image, dim)\n",
        "    # Equalization\n",
        "    r_image, g_image, b_image = cv2.split(img)\n",
        "    r_image_eq = cv2.equalizeHist(r_image)\n",
        "    g_image_eq = cv2.equalizeHist(g_image)\n",
        "    b_image_eq = cv2.equalizeHist(b_image)\n",
        "    image_eq = cv2.merge((r_image_eq, g_image_eq, b_image_eq))\n",
        "\n",
        "    # Convert modified img to array\n",
        "\n",
        "    img_ar = image_eq.reshape((-1, 224, 224, 3))\n",
        "\n",
        "    return img_ar"
      ]
    },
    {
      "cell_type": "markdown",
      "metadata": {
        "id": "DhwNUWzgZcOT"
      },
      "source": [
        "**Fonction de prédiction**"
      ]
    },
    {
      "cell_type": "code",
      "execution_count": 6,
      "metadata": {
        "id": "HYkbg0OwJqOK"
      },
      "outputs": [],
      "source": [
        "def classify_image(inp):\n",
        "  nb_classes = len(classes)-1  #nb_classes=120\n",
        "  image = preprocess_image1(inp)\n",
        "  prediction = model.predict(image).flatten() # Cela prédit un index ; un dictionnaire de 5 prédictions, par rapport aux 5 classes choisies\n",
        "  return {classes[i]: float(prediction[i]) for i in range(nb_classes)}"
      ]
    },
    {
      "cell_type": "markdown",
      "metadata": {
        "id": "Mg5E2XUrl1jO"
      },
      "source": [
        "Interface graphique de prédiction"
      ]
    },
    {
      "cell_type": "code",
      "execution_count": 7,
      "metadata": {
        "colab": {
          "base_uri": "https://localhost:8080/",
          "height": 755
        },
        "id": "OMOALkuOJueU",
        "outputId": "f88c04ec-f92e-4e3e-f7b1-dabb7184f544"
      },
      "outputs": [
        {
          "name": "stdout",
          "output_type": "stream",
          "text": [
            "Running on local URL:  http://127.0.0.1:7860\n",
            "\n",
            "To create a public link, set `share=True` in `launch()`.\n"
          ]
        },
        {
          "data": {
            "text/html": [
              "<div><iframe src=\"http://127.0.0.1:7860/\" width=\"100%\" height=\"500\" allow=\"autoplay; camera; microphone; clipboard-read; clipboard-write;\" frameborder=\"0\" allowfullscreen></iframe></div>"
            ],
            "text/plain": [
              "<IPython.core.display.HTML object>"
            ]
          },
          "metadata": {},
          "output_type": "display_data"
        },
        {
          "data": {
            "text/plain": []
          },
          "execution_count": 7,
          "metadata": {},
          "output_type": "execute_result"
        }
      ],
      "source": [
        "gr.Interface(fn=classify_image, inputs=gr.Image()\n",
        "             , outputs=gr.Label(num_top_classes=3)).launch()"
      ]
    },
    {
      "cell_type": "markdown",
      "metadata": {},
      "source": [
        "5 neurones de sortie à la fin, pour les 5 classes. \n",
        "L'interface graphique"
      ]
    }
  ],
  "metadata": {
    "colab": {
      "provenance": []
    },
    "kernelspec": {
      "display_name": "Python 3",
      "name": "python3"
    },
    "language_info": {
      "codemirror_mode": {
        "name": "ipython",
        "version": 3
      },
      "file_extension": ".py",
      "mimetype": "text/x-python",
      "name": "python",
      "nbconvert_exporter": "python",
      "pygments_lexer": "ipython3",
      "version": "3.10.6"
    }
  },
  "nbformat": 4,
  "nbformat_minor": 0
}
